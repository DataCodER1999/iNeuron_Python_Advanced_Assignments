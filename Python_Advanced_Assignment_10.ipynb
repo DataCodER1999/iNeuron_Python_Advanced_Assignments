{
 "cells": [
  {
   "cell_type": "markdown",
   "id": "0926489d",
   "metadata": {},
   "source": [
    "Q1. What is the difference between __getattr__ and __getattribute__?"
   ]
  },
  {
   "cell_type": "markdown",
   "id": "9f62251b",
   "metadata": {},
   "source": [
    "The __getattr__ and __getattribute__ are both special methods in Python classes that are related to attribute access. However, they have some key differences in terms of behavior and when they are invoked:\n",
    "\n",
    "__getattr__(self, name): This method is called when an attribute lookup fails. It is only invoked when the attribute is not found through normal means, such as in the instance dictionary or in the class hierarchy. It takes two arguments: self (the instance) and name (the name of the attribute being accessed). You can implement __getattr__ to dynamically handle attribute access, provide default values, or raise an AttributeError if the attribute is not supported."
   ]
  },
  {
   "cell_type": "code",
   "execution_count": 1,
   "id": "76cd8dca",
   "metadata": {},
   "outputs": [
    {
     "name": "stdout",
     "output_type": "stream",
     "text": [
      "__getattr__ called for attribute: some_attribute\n"
     ]
    }
   ],
   "source": [
    "class MyClass:\n",
    "    def __getattr__(self, name):\n",
    "        \n",
    "        print(f\"__getattr__ called for attribute: {name}\")\n",
    "\n",
    "my_obj = MyClass()\n",
    "my_obj.some_attribute \n"
   ]
  },
  {
   "cell_type": "markdown",
   "id": "b62cd97c",
   "metadata": {},
   "source": [
    "__getattribute__(self, name): This method is called for every attribute access, whether the attribute is found or not. It is called before checking the instance dictionary or the class hierarchy. __getattribute__ allows you to intercept and customize all attribute access in your class. However, you need to be cautious when implementing it to avoid infinite recursion by ensuring that you use the base class's __getattribute__ to access attributes."
   ]
  },
  {
   "cell_type": "code",
   "execution_count": null,
   "id": "1756350f",
   "metadata": {},
   "outputs": [],
   "source": [
    "class MyClass:\n",
    "    def __getattribute__(self, name):\n",
    "        # This method is called for every attribute access\n",
    "        print(f\"__getattribute__ called for attribute: {name}\")\n",
    "        # Accessing the attribute using the base class's __getattribute__\n",
    "        return super().__getattribute__(name)\n",
    "\n",
    "my_obj = MyClass()\n",
    "my_obj.some_attribute  # __getattribute__ called for attribute: some_attribute\n"
   ]
  },
  {
   "cell_type": "code",
   "execution_count": null,
   "id": "8e1b4bb0",
   "metadata": {},
   "outputs": [],
   "source": []
  },
  {
   "cell_type": "markdown",
   "id": "9404cc36",
   "metadata": {},
   "source": [
    "Q2. What is the difference between properties and descriptors?"
   ]
  },
  {
   "cell_type": "markdown",
   "id": "a79348ff",
   "metadata": {},
   "source": [
    "Properties and descriptors are both mechanisms in Python that allow you to define custom behavior for attribute access and modification. However, they differ in terms of their implementation and usage:\n",
    "\n",
    "Properties:\n",
    "\n",
    "Properties are a high-level, built-in feature of Python.\n",
    "They are defined using the @property decorator or by creating getter and setter methods.\n",
    "Properties are attached to individual attributes of a class.\n",
    "They provide a convenient way to define computed or derived attributes that are dynamically calculated when accessed.\n",
    "Properties allow you to define custom logic for attribute access, modification, and deletion.\n",
    "They are primarily used to ensure encapsulation and provide controlled access to class attributes.\n",
    "Properties can be accessed and modified using the dot notation, just like regular attributes.\n",
    "Properties are often used for simple attribute access and modification scenarios."
   ]
  },
  {
   "cell_type": "code",
   "execution_count": 5,
   "id": "872ed675",
   "metadata": {},
   "outputs": [
    {
     "name": "stdout",
     "output_type": "stream",
     "text": [
      "78.5\n"
     ]
    }
   ],
   "source": [
    "class Circle:\n",
    "    def __init__(self, radius):\n",
    "        self.radius = radius\n",
    "\n",
    "    @property\n",
    "    def area(self):\n",
    "        return 3.14 * self.radius**2\n",
    "\n",
    "circle = Circle(5)\n",
    "print(circle.area)  \n"
   ]
  },
  {
   "cell_type": "markdown",
   "id": "6e985b67",
   "metadata": {},
   "source": [
    "Descriptors:\n",
    "\n",
    "Descriptors are a lower-level mechanism for attribute access customization.\n",
    "They involve defining special methods (__get__, __set__, __delete__) within a separate descriptor class.\n",
    "Descriptors are not attached to individual attributes but rather to the class itself.\n",
    "They allow you to define custom behavior for attribute access and modification that is shared across multiple attributes of a class.\n",
    "Descriptors provide more fine-grained control over attribute access and can intercept attribute access and modification at a lower level.\n",
    "They are used to create reusable behavior for attribute access, modification, and deletion.\n",
    "Descriptors require explicit assignment to attributes within the class.\n",
    "Descriptors are often used for more complex scenarios where attribute access needs to be customized extensively."
   ]
  },
  {
   "cell_type": "code",
   "execution_count": 7,
   "id": "6ce7023e",
   "metadata": {},
   "outputs": [],
   "source": [
    "class Descriptor:\n",
    "    def __get__(self, instance, owner):\n",
    "      \n",
    "        pass\n",
    "\n",
    "    def __set__(self, instance, value):\n",
    "        \n",
    "        pass\n",
    "\n",
    "class MyClass:\n",
    "    attribute = Descriptor()\n",
    "\n",
    "obj = MyClass()\n",
    "obj.attribute  \n",
    "\n"
   ]
  },
  {
   "cell_type": "code",
   "execution_count": null,
   "id": "b35f0f66",
   "metadata": {},
   "outputs": [],
   "source": []
  },
  {
   "cell_type": "markdown",
   "id": "a6a86a82",
   "metadata": {},
   "source": [
    "Q3. What are the key differences in functionality between __getattr__ and __getattribute__, as well as properties and descriptors?"
   ]
  },
  {
   "cell_type": "markdown",
   "id": "a995a8bf",
   "metadata": {},
   "source": [
    "The key differences in functionality between __getattr__, __getattribute__, properties, and descriptors can be summarized as follows:\n",
    "\n",
    "Invocation:\n",
    "\n",
    "__getattr__(self, name): Invoked only when an attribute is not found through normal means, such as in the instance dictionary or class hierarchy.\n",
    "__getattribute__(self, name): Invoked for every attribute access, whether the attribute is found or not.\n",
    "Error Handling:\n",
    "\n",
    "__getattr__(self, name): Can be used to provide default values or raise AttributeError for unsupported attributes.\n",
    "__getattribute__(self, name): Raises AttributeError if the attribute is not found, and it does not provide a fallback mechanism.\n",
    "Attribute Access Control:\n",
    "\n",
    "__getattr__(self, name): Provides a way to dynamically handle attribute access and customization on a per-attribute basis.\n",
    "__getattribute__(self, name): Allows interception and customization of all attribute accesses in the class, but requires explicit access to base class __getattribute__ to avoid infinite recursion.\n",
    "Implementation:\n",
    "\n",
    "__getattr__ and __getattribute__ are special methods defined within the class.\n",
    "Properties are high-level features implemented using decorators (@property) or getter and setter methods.\n",
    "Descriptors are lower-level mechanisms involving the definition of descriptor classes with special methods (__get__, __set__, __delete__).\n",
    "Attachment:\n",
    "\n",
    "__getattr__ and __getattribute__ are attached to the class as special methods.\n",
    "Properties are attached to individual attributes of a class.\n",
    "Descriptors are attached to the class as a whole, rather than specific attributes."
   ]
  }
 ],
 "metadata": {
  "kernelspec": {
   "display_name": "Python 3 (ipykernel)",
   "language": "python",
   "name": "python3"
  },
  "language_info": {
   "codemirror_mode": {
    "name": "ipython",
    "version": 3
   },
   "file_extension": ".py",
   "mimetype": "text/x-python",
   "name": "python",
   "nbconvert_exporter": "python",
   "pygments_lexer": "ipython3",
   "version": "3.10.9"
  }
 },
 "nbformat": 4,
 "nbformat_minor": 5
}
