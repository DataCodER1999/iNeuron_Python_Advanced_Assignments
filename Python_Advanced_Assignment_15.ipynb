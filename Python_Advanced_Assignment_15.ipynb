{
 "cells": [
  {
   "cell_type": "markdown",
   "id": "f1e3710c",
   "metadata": {},
   "source": [
    "1.\tWhat are the new features added in Python 3.8 version?"
   ]
  },
  {
   "cell_type": "markdown",
   "id": "34391ed4",
   "metadata": {},
   "source": [
    "Python 3.8, released in October 2019, introduced several new features and improvements. Some of the notable features added in Python 3.8 include:\n",
    "\n",
    "Assignment Expressions (Walrus Operator): Python 3.8 introduced the assignment expression, also known as the walrus operator (:=). It allows you to assign values to variables within an expression, providing a concise way to assign and use a value simultaneously."
   ]
  },
  {
   "cell_type": "code",
   "execution_count": null,
   "id": "b6971287",
   "metadata": {},
   "outputs": [],
   "source": [
    "# Example usage of the walrus operator\n",
    "if (n := len(my_list)) > 10:\n",
    "    print(f\"List is too long ({n} elements, expected <= 10)\")"
   ]
  },
  {
   "cell_type": "markdown",
   "id": "4897fddc",
   "metadata": {},
   "source": [
    "Positional-Only Parameters: Python 3.8 introduced support for defining positional-only parameters in function definitions. By using the / syntax, you can specify that certain parameters must be passed positionally and cannot be passed as keyword arguments. This helps improve API consistency and reduces confusion when calling functions.\n",
    "\n",
    "f-strings Support \"=\" for Debugging: Python 3.8 introduced the ability to use the = sign within f-strings for better debugging. By using f\"{expression=}\", you can include the value and the expression being evaluated in the resulting string, aiding in debugging and understanding the code.\n",
    "\n",
    "Syntax Warning for \"async\" and \"await\" outside Functions: Python 3.8 introduced a syntax warning when using the async and await keywords outside of function definitions. This helps catch potential mistakes and encourages correct usage of asynchronous programming constructs.\n",
    "\n",
    "New Features in the typing Module: Python 3.8 introduced enhancements to the typing module, which provides support for type hints and annotations. Some new features include the TypedDict class for creating dictionaries with specific key-value types, Literal for defining literal types, and Protocol for structural subtyping.\n",
    "\n",
    "Performance Improvements: Python 3.8 included several performance improvements, such as faster parsing, optimized dictionary and set operations, and faster sorting using the sorted() function."
   ]
  },
  {
   "cell_type": "code",
   "execution_count": null,
   "id": "7ccf1034",
   "metadata": {},
   "outputs": [],
   "source": []
  },
  {
   "cell_type": "markdown",
   "id": "a49b339e",
   "metadata": {},
   "source": [
    "2.\tWhat is monkey patching in Python?"
   ]
  },
  {
   "cell_type": "markdown",
   "id": "1c843a05",
   "metadata": {},
   "source": [
    "Monkey patching in Python refers to the practice of modifying or extending the behavior of existing classes, functions, or modules at runtime, without altering their original source code. It allows you to add, modify, or replace functionality in code that you don't have direct control over, such as built-in classes or third-party libraries.\n",
    "\n",
    "Monkey patching is achieved by dynamically modifying objects and adding new methods, attributes, or overriding existing ones. This can be useful when you need to patch or enhance the behavior of a library or framework without having to modify its source code directly."
   ]
  },
  {
   "cell_type": "code",
   "execution_count": 3,
   "id": "c205e109",
   "metadata": {},
   "outputs": [
    {
     "name": "stdout",
     "output_type": "stream",
     "text": [
      "Hello!\n",
      "Goodbye!\n"
     ]
    }
   ],
   "source": [
    "# Existing class definition\n",
    "class MyClass:\n",
    "    def say_hello(self):\n",
    "        print(\"Hello!\")\n",
    "\n",
    "\n",
    "def say_goodbye(self):\n",
    "    print(\"Goodbye!\")\n",
    "\n",
    "MyClass.say_goodbye = say_goodbye\n",
    "\n",
    "obj = MyClass()\n",
    "obj.say_hello()    \n",
    "obj.say_goodbye()  \n"
   ]
  },
  {
   "cell_type": "code",
   "execution_count": null,
   "id": "636a3873",
   "metadata": {},
   "outputs": [],
   "source": []
  },
  {
   "cell_type": "markdown",
   "id": "319fddf6",
   "metadata": {},
   "source": [
    "3.\tWhat is the difference between a shallow copy and deep copy?"
   ]
  },
  {
   "cell_type": "markdown",
   "id": "58796efd",
   "metadata": {},
   "source": [
    "The difference between a shallow copy and a deep copy lies in how they handle the copying of objects that contain other objects, such as lists or dictionaries. Let's explain each concept:\n",
    "\n",
    "Shallow Copy:\n",
    "\n",
    "A shallow copy creates a new object and populates it with references to the same child objects found in the original object. It creates a new container object, but the elements inside the container still refer to the same objects as the original.\n",
    "If the original object contains mutable objects (e.g., lists, dictionaries), changes made to those mutable objects will be reflected in both the original and the shallow copy.\n",
    "Shallow copying can be performed using the copy() method or the built-in copy.copy() function.\n",
    "Deep Copy:\n",
    "\n",
    "A deep copy creates a new object and recursively copies all the objects found within the original object, including any nested objects. It creates a completely independent copy of the original object and all its child objects.\n",
    "If the original object contains mutable objects, changes made to those mutable objects in the deep copy will not affect the original object or any other copies.\n",
    "Deep copying can be performed using the deepcopy() method or the built-in copy.deepcopy() function from the copy module."
   ]
  },
  {
   "cell_type": "code",
   "execution_count": 5,
   "id": "99a9fad5",
   "metadata": {},
   "outputs": [
    {
     "name": "stdout",
     "output_type": "stream",
     "text": [
      "[1, [2, 3, 4]]\n",
      "[1, [2, 3, 4]]\n",
      "[1, [2, 3]]\n"
     ]
    }
   ],
   "source": [
    "import copy\n",
    "\n",
    "original = [1, [2, 3]]\n",
    "\n",
    "shallow_copy = copy.copy(original)\n",
    "\n",
    "deep_copy = copy.deepcopy(original)\n",
    "\n",
    "shallow_copy[1].append(4)\n",
    "\n",
    "print(original)     \n",
    "print(shallow_copy)  \n",
    "print(deep_copy)     \n"
   ]
  },
  {
   "cell_type": "code",
   "execution_count": null,
   "id": "cf5356e7",
   "metadata": {},
   "outputs": [],
   "source": []
  },
  {
   "cell_type": "markdown",
   "id": "3c92bfe0",
   "metadata": {},
   "source": [
    "4.\tWhat is the maximum possible length of an identifier?"
   ]
  },
  {
   "cell_type": "markdown",
   "id": "1c871f43",
   "metadata": {},
   "source": [
    "In Python, the maximum length of an identifier is not explicitly defined or limited by the language specification. However, there are some practical considerations and conventions that determine the recommended length for identifiers.\n",
    "\n",
    "According to the official Python style guide, known as PEP 8, the recommended maximum line length for code is 79 characters. This guideline indirectly suggests that keeping identifiers within a similar length range is beneficial for code readability.\n",
    "\n",
    "In terms of technical limitations, the actual maximum length of an identifier in Python is determined by the underlying implementation and platform-specific factors. For example, on most systems, the maximum length of an identifier is typically limited by the maximum file name length, which is often around 255 characters."
   ]
  },
  {
   "cell_type": "code",
   "execution_count": null,
   "id": "cfa03f8e",
   "metadata": {},
   "outputs": [],
   "source": []
  },
  {
   "cell_type": "markdown",
   "id": "e35ee267",
   "metadata": {},
   "source": [
    "5.\tWhat is generator comprehension?"
   ]
  },
  {
   "cell_type": "markdown",
   "id": "91a9a49c",
   "metadata": {},
   "source": [
    "Generator comprehension, also known as generator expression, is a concise syntax in Python that allows you to create generator objects on-the-fly. It provides a compact way to define and generate values for iteration without the need to create and store an entire list or sequence in memory.\n",
    "\n",
    "Generator comprehensions are similar to list comprehensions, but they use parentheses instead of square brackets. The main difference is that a list comprehension returns a list, while a generator comprehension returns a generator object.\n",
    "\n"
   ]
  },
  {
   "cell_type": "code",
   "execution_count": 6,
   "id": "a4e5fd77",
   "metadata": {},
   "outputs": [
    {
     "name": "stdout",
     "output_type": "stream",
     "text": [
      "1\n",
      "4\n",
      "9\n",
      "16\n",
      "25\n"
     ]
    }
   ],
   "source": [
    "squares = (x ** 2 for x in range(1, 6))\n",
    "\n",
    "for square in squares:\n",
    "    print(square)\n"
   ]
  }
 ],
 "metadata": {
  "kernelspec": {
   "display_name": "Python 3 (ipykernel)",
   "language": "python",
   "name": "python3"
  },
  "language_info": {
   "codemirror_mode": {
    "name": "ipython",
    "version": 3
   },
   "file_extension": ".py",
   "mimetype": "text/x-python",
   "name": "python",
   "nbconvert_exporter": "python",
   "pygments_lexer": "ipython3",
   "version": "3.10.9"
  }
 },
 "nbformat": 4,
 "nbformat_minor": 5
}
