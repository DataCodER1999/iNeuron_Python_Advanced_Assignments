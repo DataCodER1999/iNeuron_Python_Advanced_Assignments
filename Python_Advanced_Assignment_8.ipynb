{
 "cells": [
  {
   "cell_type": "markdown",
   "id": "2df8025f",
   "metadata": {},
   "source": [
    "Q1. What are the two latest user-defined exception constraints in Python 3.X?"
   ]
  },
  {
   "cell_type": "markdown",
   "id": "ab2b8798",
   "metadata": {},
   "source": [
    "Exception Chaining: Python 3.x introduced the ability to chain exceptions using the raise ... from ... syntax. This allows an exception to reference another exception that caused it, providing a more detailed traceback and preserving the original exception context. It helps in understanding the chain of events that led to the exception."
   ]
  },
  {
   "cell_type": "code",
   "execution_count": null,
   "id": "388e3972",
   "metadata": {},
   "outputs": [],
   "source": [
    "try:\n",
    "    # Some code that may raise an exception\n",
    "    ...\n",
    "except IOError as e:\n",
    "    raise ValueError(\"Invalid input\") from e\n"
   ]
  },
  {
   "cell_type": "markdown",
   "id": "5b630ecf",
   "metadata": {},
   "source": [
    "Exception Context Variables: Python 3.x introduced two context attributes, __context__ and __cause__, for exception objects. These attributes provide access to the context and cause of an exception, respectively. They allow you to access additional information about the exception's origin and any exceptions it may have been caused by."
   ]
  },
  {
   "cell_type": "code",
   "execution_count": null,
   "id": "9a430432",
   "metadata": {},
   "outputs": [],
   "source": [
    "try:\n",
    "    # Some code that may raise an exception\n",
    "    ...\n",
    "except ValueError as e:\n",
    "    print(\"Exception context:\", e.__context__)\n",
    "    print(\"Exception cause:\", e.__cause__)\n"
   ]
  },
  {
   "cell_type": "code",
   "execution_count": null,
   "id": "35e9db71",
   "metadata": {},
   "outputs": [],
   "source": []
  },
  {
   "cell_type": "markdown",
   "id": "7b0b97f1",
   "metadata": {},
   "source": [
    "Q2. How are class-based exceptions that have been raised matched to handlers?"
   ]
  },
  {
   "cell_type": "markdown",
   "id": "860cb50a",
   "metadata": {},
   "source": [
    "\n",
    "When a class-based exception is raised in Python, it is matched to handlers based on the exception's inheritance hierarchy.\n",
    "\n",
    "The process of matching class-based exceptions to handlers follows these steps:\n",
    "\n",
    "The exception is raised, either explicitly using the raise statement or implicitly as a result of an error or exceptional condition.\n",
    "Python starts searching for an appropriate except block to handle the exception.\n",
    "It looks for a matching except block in the current scope.\n",
    "If a matching except block is found, it is executed, and the exception is considered handled.\n",
    "If no matching except block is found in the current scope, Python moves up the call stack, searching for a matching except block in the enclosing scopes.\n",
    "The search continues up the call stack until a matching except block is found or until the exception propagates to the top-level of the program.\n",
    "If no matching except block is found at any level, the exception is considered unhandled, and it results in an error message or an exception traceback."
   ]
  },
  {
   "cell_type": "code",
   "execution_count": null,
   "id": "580a5dca",
   "metadata": {},
   "outputs": [],
   "source": []
  },
  {
   "cell_type": "markdown",
   "id": "b429148d",
   "metadata": {},
   "source": [
    "Q.3 Describe two methods for attaching context information to exception artefacts."
   ]
  },
  {
   "cell_type": "markdown",
   "id": "b758762f",
   "metadata": {},
   "source": [
    "When dealing with exceptions in Python, it can be useful to attach additional context information to exception artifacts. Two common methods for attaching context information to exception artifacts are:\n",
    "\n",
    "Custom Exception Attributes: You can create custom attributes within your exception class to hold relevant context information. These attributes can be set during the exception initialization or modified later. By attaching context information to the exception object itself, you can access it when handling the exception."
   ]
  },
  {
   "cell_type": "code",
   "execution_count": 2,
   "id": "9c4c06cb",
   "metadata": {},
   "outputs": [],
   "source": [
    "class CustomException(Exception):\n",
    "    def __init__(self, message, context_info):\n",
    "        super().__init__(message)\n",
    "        self.context_info = context_info\n",
    "\n",
    "try:\n",
    "    # Some code that may raise an exception\n",
    "    ...\n",
    "except CustomException as e:\n",
    "    print(\"Exception occurred:\", e)\n",
    "    print(\"Context information:\", e.context_info)\n"
   ]
  },
  {
   "cell_type": "markdown",
   "id": "2c84d35f",
   "metadata": {},
   "source": [
    "Error Messages: Exception objects often include an error message that describes the nature of the exception. You can include relevant context information within the error message to provide additional context for debugging or logging purposes. This method is especially useful when the context information is text-based."
   ]
  },
  {
   "cell_type": "code",
   "execution_count": 1,
   "id": "473e9ff3",
   "metadata": {},
   "outputs": [],
   "source": [
    "try:\n",
    "    # Some code that may raise an exception\n",
    "    ...\n",
    "except ValueError as e:\n",
    "    error_message = f\"ValueError occurred: Invalid input - {context_info}\"\n",
    "    print(error_message)\n"
   ]
  },
  {
   "cell_type": "code",
   "execution_count": null,
   "id": "f5c0c4b6",
   "metadata": {},
   "outputs": [],
   "source": []
  },
  {
   "cell_type": "markdown",
   "id": "cc1eefab",
   "metadata": {},
   "source": [
    "Q4. Describe two methods for specifying the text of an exception object's error message."
   ]
  },
  {
   "cell_type": "markdown",
   "id": "abd2727c",
   "metadata": {},
   "source": [
    "When working with exception objects in Python, you can specify the text of the error message in various ways. Here are two common methods for specifying the text of an exception object's error message:\n",
    "\n",
    "Custom Exception Classes: You can create custom exception classes that inherit from the built-in exception classes or from the BaseException class. Within your custom exception class, you can override the __str__() or __repr__() method to define the desired error message text."
   ]
  },
  {
   "cell_type": "code",
   "execution_count": null,
   "id": "719fcaec",
   "metadata": {},
   "outputs": [],
   "source": [
    "class CustomException(Exception):\n",
    "    def __init__(self, message):\n",
    "        super().__init__(message)\n",
    "\n",
    "    def __str__(self):\n",
    "        return f\"Custom Exception: {self.args[0]}\"\n",
    "\n",
    "try:\n",
    "    raise CustomException(\"An error occurred\")\n",
    "except CustomException as e:\n",
    "    print(e)\n"
   ]
  },
  {
   "cell_type": "markdown",
   "id": "f06b1292",
   "metadata": {},
   "source": [
    "Formatted Error Messages: Another approach is to use formatted strings or string concatenation to create error messages dynamically. This method allows you to include specific values or variables within the error message to provide more detailed information about the exception."
   ]
  },
  {
   "cell_type": "code",
   "execution_count": null,
   "id": "6547d0df",
   "metadata": {},
   "outputs": [],
   "source": [
    "try:\n",
    "    x = 10\n",
    "    y = 0\n",
    "    result = x / y\n",
    "except ZeroDivisionError as e:\n",
    "    error_message = f\"Error: Division by zero occurred. x={x}, y={y}\"\n",
    "    print(error_message)\n"
   ]
  },
  {
   "cell_type": "code",
   "execution_count": null,
   "id": "316ef013",
   "metadata": {},
   "outputs": [],
   "source": []
  },
  {
   "cell_type": "markdown",
   "id": "6e3417ff",
   "metadata": {},
   "source": [
    "Q5. Why do you no longer use string-based exceptions?"
   ]
  },
  {
   "cell_type": "markdown",
   "id": "8eafb728",
   "metadata": {},
   "source": [
    "In older versions of Python, it was possible to raise and handle exceptions using string-based exception types. However, it is no longer recommended to use string-based exceptions in modern Python code. The main reasons for this are:\n",
    "\n",
    "Lack of Type Safety: String-based exceptions do not provide type safety because they are just plain strings. It becomes challenging to distinguish between different types of exceptions based on their string names. This lack of type safety can lead to errors and make code harder to debug and maintain.\n",
    "\n",
    "Reduced Expressiveness: String-based exceptions are limited in their expressiveness. They do not offer any additional attributes or methods that can provide useful information about the exception. With class-based exceptions, you can define custom attributes and methods to convey specific details and behaviors related to the exception.\n",
    "\n",
    "Limited Exception Handling: String-based exceptions do not allow for fine-grained exception handling. Since all string-based exceptions are treated as instances of the same generic Exception class, it becomes difficult to handle different exceptions separately and take appropriate actions based on the specific exception type.\n",
    "\n",
    "Code Readability and Maintainability: Using string-based exceptions can make code less readable and maintainable. Developers may have to rely on string comparisons or other workarounds to differentiate between exceptions, which can lead to complex and error-prone code."
   ]
  }
 ],
 "metadata": {
  "kernelspec": {
   "display_name": "Python 3 (ipykernel)",
   "language": "python",
   "name": "python3"
  },
  "language_info": {
   "codemirror_mode": {
    "name": "ipython",
    "version": 3
   },
   "file_extension": ".py",
   "mimetype": "text/x-python",
   "name": "python",
   "nbconvert_exporter": "python",
   "pygments_lexer": "ipython3",
   "version": "3.10.9"
  }
 },
 "nbformat": 4,
 "nbformat_minor": 5
}
