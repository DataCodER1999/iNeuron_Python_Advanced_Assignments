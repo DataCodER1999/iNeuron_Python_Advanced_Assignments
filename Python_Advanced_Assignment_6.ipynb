{
 "cells": [
  {
   "cell_type": "markdown",
   "id": "b8b744f2",
   "metadata": {},
   "source": [
    "Q1. Describe three applications for exception processing."
   ]
  },
  {
   "cell_type": "markdown",
   "id": "e64c34b3",
   "metadata": {},
   "source": [
    "Error Reporting and Logging: Exception processing allows for the detection and reporting of errors and exceptions that occur during program execution. By catching and handling exceptions, you can provide meaningful error messages or logs that assist in identifying and diagnosing issues. This helps in debugging and improving the overall reliability and maintainability of the software.\n",
    "\n",
    "Graceful Program Termination: Exceptions can be used to handle fatal errors or exceptional conditions that cannot be recovered from. Instead of abruptly terminating the program, exception processing enables you to gracefully exit the program while performing necessary cleanup operations. For example, you can release resources, close open files, or perform any other necessary finalization steps before terminating the program.\n",
    "\n",
    "User Input Validation: Exception processing is commonly used to validate user input and handle input-related errors. When accepting user input, various issues can arise, such as incorrect data types, out-of-range values, or invalid formats. By using exception handling, you can catch and handle these input-related exceptions, provide appropriate feedback to the user, and prompt for correct input."
   ]
  },
  {
   "cell_type": "code",
   "execution_count": null,
   "id": "76b274b1",
   "metadata": {},
   "outputs": [],
   "source": [
    "def divide_numbers(a, b):\n",
    "    try:\n",
    "        result = a / b\n",
    "        print(\"Result:\", result)\n",
    "    except ZeroDivisionError:\n",
    "        print(\"Error: Cannot divide by zero.\")\n",
    "    except ValueError:\n",
    "        print(\"Error: Invalid input.\")\n",
    "\n",
    "divide_numbers(10, 0) \n",
    "\n",
    "divide_numbers(20, \"hello\")  \n",
    "\n",
    "while True:\n",
    "    try:\n",
    "        age = int(input(\"Enter your age: \"))\n",
    "        if age < 0:\n",
    "            raise ValueError(\"Age must be a positive number.\")\n",
    "        break\n",
    "    except ValueError as e:\n",
    "        print(\"Error:\", str(e))\n",
    "\n",
    "print(\"Your age:\", age)\n"
   ]
  },
  {
   "cell_type": "code",
   "execution_count": null,
   "id": "359d25c0",
   "metadata": {},
   "outputs": [],
   "source": []
  },
  {
   "cell_type": "markdown",
   "id": "7d1abf3f",
   "metadata": {},
   "source": [
    "Q2. What happens if you don't do something extra to treat an exception?"
   ]
  },
  {
   "cell_type": "markdown",
   "id": "9681a610",
   "metadata": {},
   "source": [
    "\n",
    "If you don't handle an exception or take any specific action to treat it, the exception will propagate up the call stack until it either reaches an exception handler or causes the program to terminate.\n",
    "\n",
    "When an exception is not handled, the default behavior is for the program to terminate and display an error message. This error message typically includes a traceback, which shows the sequence of function calls that led to the unhandled exception. The traceback helps in identifying the location and nature of the exception."
   ]
  },
  {
   "cell_type": "code",
   "execution_count": 3,
   "id": "9cfec605",
   "metadata": {},
   "outputs": [
    {
     "ename": "ZeroDivisionError",
     "evalue": "division by zero",
     "output_type": "error",
     "traceback": [
      "\u001b[1;31m---------------------------------------------------------------------------\u001b[0m",
      "\u001b[1;31mZeroDivisionError\u001b[0m                         Traceback (most recent call last)",
      "Cell \u001b[1;32mIn[3], line 5\u001b[0m\n\u001b[0;32m      2\u001b[0m     result \u001b[38;5;241m=\u001b[39m a \u001b[38;5;241m/\u001b[39m b\n\u001b[0;32m      3\u001b[0m     \u001b[38;5;28mprint\u001b[39m(\u001b[38;5;124m\"\u001b[39m\u001b[38;5;124mResult:\u001b[39m\u001b[38;5;124m\"\u001b[39m, result)\n\u001b[1;32m----> 5\u001b[0m \u001b[43mdivide_numbers\u001b[49m\u001b[43m(\u001b[49m\u001b[38;5;241;43m10\u001b[39;49m\u001b[43m,\u001b[49m\u001b[43m \u001b[49m\u001b[38;5;241;43m0\u001b[39;49m\u001b[43m)\u001b[49m  \n\u001b[0;32m      7\u001b[0m \u001b[38;5;28mprint\u001b[39m(\u001b[38;5;124m\"\u001b[39m\u001b[38;5;124mThis line will not be executed.\u001b[39m\u001b[38;5;124m\"\u001b[39m)\n",
      "Cell \u001b[1;32mIn[3], line 2\u001b[0m, in \u001b[0;36mdivide_numbers\u001b[1;34m(a, b)\u001b[0m\n\u001b[0;32m      1\u001b[0m \u001b[38;5;28;01mdef\u001b[39;00m \u001b[38;5;21mdivide_numbers\u001b[39m(a, b):\n\u001b[1;32m----> 2\u001b[0m     result \u001b[38;5;241m=\u001b[39m \u001b[43ma\u001b[49m\u001b[43m \u001b[49m\u001b[38;5;241;43m/\u001b[39;49m\u001b[43m \u001b[49m\u001b[43mb\u001b[49m\n\u001b[0;32m      3\u001b[0m     \u001b[38;5;28mprint\u001b[39m(\u001b[38;5;124m\"\u001b[39m\u001b[38;5;124mResult:\u001b[39m\u001b[38;5;124m\"\u001b[39m, result)\n",
      "\u001b[1;31mZeroDivisionError\u001b[0m: division by zero"
     ]
    }
   ],
   "source": [
    "def divide_numbers(a, b):\n",
    "    result = a / b\n",
    "    print(\"Result:\", result)\n",
    "\n",
    "divide_numbers(10, 0)  \n",
    "\n",
    "print(\"This line will not be executed.\")\n"
   ]
  },
  {
   "cell_type": "code",
   "execution_count": null,
   "id": "940fcd58",
   "metadata": {},
   "outputs": [],
   "source": []
  },
  {
   "cell_type": "markdown",
   "id": "242f49e6",
   "metadata": {},
   "source": [
    "Q3. What are your options for recovering from an exception in your script?\n"
   ]
  },
  {
   "cell_type": "markdown",
   "id": "ba497161",
   "metadata": {},
   "source": [
    "Exception Handling with try-except: You can use a try-except block to catch and handle specific exceptions. By enclosing the code that might raise an exception within a try block and providing one or more except blocks, you can specify how to handle the exception and continue execution. This allows you to gracefully recover from the exception and take alternative actions. You can catch specific exceptions or use a more general except block to handle any exception that occurs.\n",
    "\n",
    "Exception Handling with try-except-else: In addition to try-except, you can use the try-except-else block. The else block is executed when no exception occurs in the try block. It allows you to specify code that should be executed if the try block completes successfully without any exceptions. This can be useful when you want to perform certain actions only when no exceptions are raised.\n",
    "\n",
    "Exception Handling with try-finally: Another option is to use the try-finally block. The finally block is always executed, regardless of whether an exception occurs or not. It provides a way to specify cleanup code that should be executed regardless of the exception. This is useful when you need to ensure that certain actions are performed, such as releasing resources or closing files, regardless of the exception outcome.\n",
    "\n",
    "Raising Exceptions: In some cases, you may want to recover from an exception at a higher level of your code. You can raise a new exception using the raise statement within an except block. This allows you to handle an exception at a higher level or perform additional error processing. You can raise the same exception or a different one, optionally providing additional information or context.\n",
    "\n",
    "Exception Logging: You can log exceptions to keep a record of the occurrence and provide valuable information for debugging or troubleshooting. Python provides logging libraries like logging that allow you to log exceptions along with relevant details such as the traceback, error messages, and timestamps. Logging exceptions helps in understanding the cause of the exception and can aid in diagnosing issues."
   ]
  },
  {
   "cell_type": "code",
   "execution_count": null,
   "id": "0227c534",
   "metadata": {},
   "outputs": [],
   "source": []
  },
  {
   "cell_type": "markdown",
   "id": "9fa6bb97",
   "metadata": {},
   "source": [
    "Q4. Describe two methods for triggering exceptions in your script."
   ]
  },
  {
   "cell_type": "markdown",
   "id": "381fafb6",
   "metadata": {},
   "source": [
    "Raise an Exception Explicitly: You can raise an exception explicitly using the raise statement. This allows you to create and raise exceptions of your choice at any point in your code. The raise statement is followed by an instance of an exception class or an exception object. You can provide additional information or context by passing arguments to the exception constructor."
   ]
  },
  {
   "cell_type": "code",
   "execution_count": 5,
   "id": "0ff3a99b",
   "metadata": {},
   "outputs": [
    {
     "name": "stdout",
     "output_type": "stream",
     "text": [
      "Exception caught: Cannot divide by zero\n"
     ]
    }
   ],
   "source": [
    "def divide_numbers(a, b):\n",
    "    if b == 0:\n",
    "        raise ValueError(\"Cannot divide by zero\")\n",
    "    result = a / b\n",
    "    return result\n",
    "\n",
    "try:\n",
    "    divide_numbers(10, 0)\n",
    "except ValueError as e:\n",
    "    print(\"Exception caught:\", str(e))\n"
   ]
  },
  {
   "cell_type": "markdown",
   "id": "44769adf",
   "metadata": {},
   "source": [
    "Invoke Built-in Exceptions: Python provides a range of built-in exceptions that you can invoke to trigger specific exception types. These exceptions are part of the Python standard library and cover a wide range of error scenarios. To trigger a specific exception, you can simply raise an instance of that exception class"
   ]
  },
  {
   "cell_type": "code",
   "execution_count": 7,
   "id": "22067b94",
   "metadata": {},
   "outputs": [
    {
     "name": "stdout",
     "output_type": "stream",
     "text": [
      "Exception caught: invalid literal for int() with base 10: 'abc'\n"
     ]
    }
   ],
   "source": [
    "try:\n",
    "    num = int(\"abc\") \n",
    "except ValueError as e:\n",
    "    print(\"Exception caught:\", str(e))\n"
   ]
  },
  {
   "cell_type": "code",
   "execution_count": null,
   "id": "9f736049",
   "metadata": {},
   "outputs": [],
   "source": []
  },
  {
   "cell_type": "markdown",
   "id": "9284cae5",
   "metadata": {},
   "source": [
    "Q5. Identify two methods for specifying actions to be executed at termination time, regardless of whether or not an exception exists."
   ]
  },
  {
   "cell_type": "markdown",
   "id": "3c3d3fe5",
   "metadata": {},
   "source": [
    "Finally Block: The finally block is used to specify code that will be executed regardless of whether an exception occurs or not. It is typically placed after the try and except blocks. The code inside the finally block is guaranteed to be executed, even if an exception is raised and caught in the preceding try block. This makes it useful for performing cleanup operations, releasing resources, or ensuring certain actions are always taken"
   ]
  },
  {
   "cell_type": "code",
   "execution_count": 9,
   "id": "91e7f5bb",
   "metadata": {},
   "outputs": [
    {
     "name": "stdout",
     "output_type": "stream",
     "text": [
      "File not found.\n",
      "Cleanup completed.\n"
     ]
    }
   ],
   "source": [
    "file = None\n",
    "try:\n",
    "    file = open(\"data.txt\", \"r\")\n",
    "    \n",
    "    print(file.read())\n",
    "except FileNotFoundError:\n",
    "    print(\"File not found.\")\n",
    "finally:\n",
    "    if file:\n",
    "        file.close()\n",
    "    print(\"Cleanup completed.\")\n"
   ]
  },
  {
   "cell_type": "markdown",
   "id": "524508ca",
   "metadata": {},
   "source": [
    "Context Managers (with statement): Another method for specifying actions to be executed at termination time is by using context managers, which are created using the with statement. A context manager is an object that defines the methods __enter__ and __exit__, which allow you to specify actions to be taken when entering and exiting a specific context. The with statement automatically calls these methods, ensuring that the specified actions are performed even if an exception occurs"
   ]
  },
  {
   "cell_type": "code",
   "execution_count": 11,
   "id": "cd99505a",
   "metadata": {},
   "outputs": [
    {
     "name": "stdout",
     "output_type": "stream",
     "text": [
      "Database connection opened.\n",
      "Executing database operations.\n",
      "Database connection closed.\n",
      "Outside the context.\n"
     ]
    }
   ],
   "source": [
    "class DatabaseConnection:\n",
    "    def __enter__(self):\n",
    "      \n",
    "        print(\"Database connection opened.\")\n",
    "        return self\n",
    "\n",
    "    def __exit__(self, exc_type, exc_value, traceback):\n",
    "       \n",
    "        print(\"Database connection closed.\")\n",
    "\n",
    "with DatabaseConnection() as db:\n",
    " \n",
    "    print(\"Executing database operations.\")\n",
    "\n",
    "print(\"Outside the context.\")\n"
   ]
  },
  {
   "cell_type": "code",
   "execution_count": null,
   "id": "20d8b8d3",
   "metadata": {},
   "outputs": [],
   "source": []
  },
  {
   "cell_type": "code",
   "execution_count": null,
   "id": "8067b97a",
   "metadata": {},
   "outputs": [],
   "source": []
  }
 ],
 "metadata": {
  "kernelspec": {
   "display_name": "Python 3 (ipykernel)",
   "language": "python",
   "name": "python3"
  },
  "language_info": {
   "codemirror_mode": {
    "name": "ipython",
    "version": 3
   },
   "file_extension": ".py",
   "mimetype": "text/x-python",
   "name": "python",
   "nbconvert_exporter": "python",
   "pygments_lexer": "ipython3",
   "version": "3.10.9"
  }
 },
 "nbformat": 4,
 "nbformat_minor": 5
}
