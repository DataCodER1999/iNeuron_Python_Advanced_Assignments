{
 "cells": [
  {
   "cell_type": "markdown",
   "id": "44e8cf82",
   "metadata": {},
   "source": [
    "Q1. What are the benefits of the built-in array package, if any?"
   ]
  },
  {
   "cell_type": "markdown",
   "id": "bdd80a4b",
   "metadata": {},
   "source": [
    "The built-in array package in Python provides a way to work with homogeneous arrays of data efficiently. Here are some benefits of using the array package:\n",
    "\n",
    "Memory Efficiency: The array package stores data in a compact manner, utilizing less memory compared to other data structures like lists. It represents elements using fixed-size data types, resulting in efficient memory usage.\n",
    "\n",
    "Efficient Numeric Operations: The array package is designed to work with numeric data types efficiently. It allows for performing arithmetic and other operations on arrays of numbers quickly, making it suitable for mathematical and scientific computations.\n",
    "\n",
    "Fast Access and Manipulation: Arrays created with the array package provide fast access and manipulation of elements. The underlying C implementation of the array module ensures efficient indexing and element retrieval, resulting in improved performance for large arrays.\n",
    "\n",
    "Serialization Support: The array package supports serialization, allowing arrays to be easily stored and retrieved from disk or transmitted over the network. This can be beneficial when working with large datasets or when persisting data between program runs."
   ]
  },
  {
   "cell_type": "code",
   "execution_count": null,
   "id": "60f227a2",
   "metadata": {},
   "outputs": [],
   "source": []
  },
  {
   "cell_type": "markdown",
   "id": "2e824ffe",
   "metadata": {},
   "source": [
    "Q2. What are some of the array package's limitations?"
   ]
  },
  {
   "cell_type": "markdown",
   "id": "1f7a0e03",
   "metadata": {},
   "source": [
    "While the array package in Python offers several benefits, it also has some limitations to consider:\n",
    "\n",
    "Homogeneous Data Type: The array package requires all elements in an array to have the same data type. This limitation restricts its usage when dealing with heterogeneous data where elements have different types.\n",
    "\n",
    "Fixed Size: Arrays created with the array package have a fixed size once initialized. It is not straightforward to dynamically resize an array. To accommodate more elements, you would need to create a new array and copy the existing elements, which can be inefficient for large arrays.\n",
    "\n",
    "Limited Functionality: The array package provides basic functionality for creating and manipulating arrays but has limited built-in methods compared to other data structures like lists. For more advanced operations, such as inserting or deleting elements at arbitrary positions, additional coding or the use of other data structures may be necessary."
   ]
  },
  {
   "cell_type": "code",
   "execution_count": null,
   "id": "30c4bd67",
   "metadata": {},
   "outputs": [],
   "source": []
  },
  {
   "cell_type": "markdown",
   "id": "c0d9bb10",
   "metadata": {},
   "source": [
    "Q3. Describe the main differences between the array and numpy packages.\n"
   ]
  },
  {
   "cell_type": "markdown",
   "id": "8de1eca4",
   "metadata": {},
   "source": [
    "\n",
    "The array package and the numpy package are both used for handling arrays in Python, but they have some significant differences. Here are the main differences between the two:\n",
    "\n",
    "Functionality and Features: numpy is a powerful library that provides extensive functionality for working with arrays, including advanced mathematical operations, linear algebra, Fourier transforms, random number generation, and more. It offers a wide range of functions and methods optimized for array manipulation and computation. On the other hand, the array package provides basic functionality for arrays but lacks the advanced features and extensive capabilities of numpy.\n",
    "\n",
    "Data Types and Flexibility: numpy supports a broader range of data types compared to the array package. It includes not only the standard numeric types but also complex numbers, booleans, strings, and custom data types. numpy also supports multidimensional arrays and provides powerful indexing and slicing capabilities. This makes numpy more flexible for handling various types of data and performing complex computations.\n",
    "\n",
    "Performance: numpy is highly optimized for numerical operations and provides efficient algorithms implemented in low-level languages like C and Fortran. It leverages vectorization and parallelization techniques to perform computations efficiently, making it significantly faster than the array package for large-scale array operations. The performance gain in numpy comes from its optimized algorithms and memory layout.\n",
    "\n",
    "Ecosystem and Community: numpy has a vast ecosystem and a large community of users, which means there are abundant resources, documentation, and third-party libraries built around numpy. This makes it easier to find support, tutorials, and additional functionality for various tasks related to array manipulation and numerical computations. The array package, being a built-in module, has a smaller ecosystem and fewer community resources available."
   ]
  },
  {
   "cell_type": "code",
   "execution_count": null,
   "id": "a3ec5816",
   "metadata": {},
   "outputs": [],
   "source": []
  },
  {
   "cell_type": "markdown",
   "id": "b8afd400",
   "metadata": {},
   "source": [
    "Q4. Explain the distinctions between the empty, ones, and zeros functions."
   ]
  },
  {
   "cell_type": "markdown",
   "id": "51e6c50f",
   "metadata": {},
   "source": [
    "The empty, ones, and zeros functions are all part of the numpy package and are used to create arrays with specific values. Here are the distinctions between these functions:\n",
    "\n",
    "empty: The numpy.empty function creates an array without initializing its elements to any specific value. It allocates the specified size in memory without setting the values, which means the initial content of the array can be unpredictable and may contain arbitrary values. The empty function is typically used when you need to create an array quickly and plan to fill it with specific values later."
   ]
  },
  {
   "cell_type": "code",
   "execution_count": 1,
   "id": "4c152bec",
   "metadata": {},
   "outputs": [
    {
     "name": "stdout",
     "output_type": "stream",
     "text": [
      "[[2.22522868e-306 1.33511562e-306 2.04712907e-306]\n",
      " [8.01089061e-307 2.11392033e-307 1.69117157e-306]\n",
      " [6.23059726e-307 1.06810879e-306 1.33511018e-306]]\n"
     ]
    }
   ],
   "source": [
    "import numpy as np\n",
    "\n",
    "arr = np.empty((3, 3))\n",
    "print(arr)\n"
   ]
  },
  {
   "cell_type": "markdown",
   "id": "989beedf",
   "metadata": {},
   "source": [
    "ones: The numpy.ones function creates an array filled with the value 1. It takes the desired shape of the array as an argument and returns an array of that shape with all elements set to 1. The ones function is commonly used when you need to initialize an array with a specific value, such as for mathematical computations or when creating a mask or indicator array."
   ]
  },
  {
   "cell_type": "code",
   "execution_count": 3,
   "id": "1ff5cf0c",
   "metadata": {},
   "outputs": [
    {
     "name": "stdout",
     "output_type": "stream",
     "text": [
      "[[1. 1.]\n",
      " [1. 1.]]\n"
     ]
    }
   ],
   "source": [
    "import numpy as np\n",
    "\n",
    "arr = np.ones((2, 2))\n",
    "print(arr)\n"
   ]
  },
  {
   "cell_type": "markdown",
   "id": "8fa7a6d0",
   "metadata": {},
   "source": [
    "zeros: The numpy.zeros function creates an array filled with the value 0. Similar to ones, it takes the desired shape of the array as an argument and returns an array of that shape with all elements set to 0. The zeros function is commonly used when you need to initialize an array with zeros, such as for storing data or when performing numerical computations."
   ]
  },
  {
   "cell_type": "code",
   "execution_count": 4,
   "id": "23562038",
   "metadata": {},
   "outputs": [
    {
     "name": "stdout",
     "output_type": "stream",
     "text": [
      "[[0. 0. 0.]\n",
      " [0. 0. 0.]\n",
      " [0. 0. 0.]]\n"
     ]
    }
   ],
   "source": [
    "import numpy as np\n",
    "\n",
    "arr = np.zeros((3, 3))\n",
    "print(arr)\n"
   ]
  },
  {
   "cell_type": "code",
   "execution_count": null,
   "id": "d885f4bf",
   "metadata": {},
   "outputs": [],
   "source": []
  },
  {
   "cell_type": "markdown",
   "id": "dbb98ded",
   "metadata": {},
   "source": [
    "Q5. In the fromfunction function, which is used to construct new arrays, what is the role of the callable argument?"
   ]
  },
  {
   "cell_type": "markdown",
   "id": "cf3ab76d",
   "metadata": {},
   "source": [
    "Apologies for the previous incorrect response. In the numpy.fromfunction function, the callable argument is a function that is used to compute the values of the elements in the newly created array. It is called with a tuple of arrays, which represent the indices along each dimension of the output array.\n",
    "\n",
    "The fromfunction function constructs a new array by applying the callable function to each coordinate in the output array. The shape of the output array is determined by the shape argument provided to the fromfunction function.\n",
    "\n",
    "The callable function should accept as many arguments as there are dimensions in the output array. Each argument represents the indices along a specific dimension. The function should compute and return the value for each element based on its indices."
   ]
  },
  {
   "cell_type": "code",
   "execution_count": 6,
   "id": "fa71ced5",
   "metadata": {},
   "outputs": [
    {
     "name": "stdout",
     "output_type": "stream",
     "text": [
      "[[0. 1. 2.]\n",
      " [1. 2. 3.]\n",
      " [2. 3. 4.]]\n"
     ]
    }
   ],
   "source": [
    "import numpy as np\n",
    "\n",
    "def my_func(x, y):\n",
    "    return x + y\n",
    "\n",
    "arr = np.fromfunction(my_func, (3, 3))\n",
    "print(arr)\n"
   ]
  },
  {
   "cell_type": "code",
   "execution_count": null,
   "id": "7a96ef37",
   "metadata": {},
   "outputs": [],
   "source": []
  },
  {
   "cell_type": "markdown",
   "id": "6c2a1eb9",
   "metadata": {},
   "source": [
    "Q6. What happens when a numpy array is combined with a single-value operand (a scalar, such as an int or a floating-point value) through addition, as in the expression A + n?"
   ]
  },
  {
   "cell_type": "markdown",
   "id": "340c586e",
   "metadata": {},
   "source": [
    "\n",
    "When a NumPy array is combined with a single-value operand (scalar) through addition, such as in the expression A + n, NumPy applies element-wise addition between the array A and the scalar n. This operation is also known as broadcasting.\n",
    "\n",
    "During the addition operation, the scalar value n is broadcasted to match the shape of the array A. Broadcasting allows for performing arithmetic operations between arrays of different shapes or between arrays and scalars without explicitly replicating the scalar value across the entire array.\n",
    "\n",
    "The scalar n is effectively added to each element of the array A, resulting in a new array of the same shape as A. The addition is performed element-wise, combining the corresponding elements of the array and the scalar."
   ]
  },
  {
   "cell_type": "code",
   "execution_count": 8,
   "id": "c27ad06b",
   "metadata": {},
   "outputs": [
    {
     "name": "stdout",
     "output_type": "stream",
     "text": [
      "[3 4 5 6]\n"
     ]
    }
   ],
   "source": [
    "import numpy as np\n",
    "\n",
    "A = np.array([1, 2, 3, 4])\n",
    "n = 2\n",
    "\n",
    "result = A + n\n",
    "print(result)\n"
   ]
  },
  {
   "cell_type": "code",
   "execution_count": null,
   "id": "4ceb6a3a",
   "metadata": {},
   "outputs": [],
   "source": []
  },
  {
   "cell_type": "markdown",
   "id": "b551e452",
   "metadata": {},
   "source": [
    "Q7. Can array-to-scalar operations use combined operation-assign operators (such as += or *=)? What is the outcome?"
   ]
  },
  {
   "cell_type": "markdown",
   "id": "30e0ba69",
   "metadata": {},
   "source": [
    "\n",
    "Yes, array-to-scalar operations in NumPy can use combined operation-assign operators such as += or *=. These operators perform the corresponding arithmetic operation between the array elements and the scalar value and then assign the result back to the array.\n",
    "\n",
    "When the combined operation-assign operators are used with array-to-scalar operations, the operation is applied element-wise, similar to regular arithmetic operations. The scalar value is combined with each element of the array using the specified operation, and the result is stored back in the original array."
   ]
  },
  {
   "cell_type": "code",
   "execution_count": 10,
   "id": "ded53674",
   "metadata": {},
   "outputs": [
    {
     "name": "stdout",
     "output_type": "stream",
     "text": [
      "[3 4 5 6]\n"
     ]
    }
   ],
   "source": [
    "import numpy as np\n",
    "\n",
    "A = np.array([1, 2, 3, 4])\n",
    "n = 2\n",
    "\n",
    "A += n\n",
    "print(A)\n"
   ]
  },
  {
   "cell_type": "code",
   "execution_count": null,
   "id": "51a4ce02",
   "metadata": {},
   "outputs": [],
   "source": []
  },
  {
   "cell_type": "markdown",
   "id": "a3ee4502",
   "metadata": {},
   "source": [
    "Q8. Does a numpy array contain fixed-length strings? What happens if you allocate a longer string to one of these arrays?"
   ]
  },
  {
   "cell_type": "markdown",
   "id": "4cd7038a",
   "metadata": {},
   "source": [
    "Yes, a NumPy array can contain fixed-length strings. This is achieved by specifying the data type of the array as a fixed-length string using the dtype parameter with a specific length. For example, dtype='S10' represents a fixed-length string of length 10.\n",
    "\n",
    "When you allocate a longer string to an array with fixed-length strings, NumPy will truncate the string to fit the specified length. No error or warning will be raised, and the string will be truncated silently."
   ]
  },
  {
   "cell_type": "code",
   "execution_count": 12,
   "id": "05909aec",
   "metadata": {},
   "outputs": [
    {
     "name": "stdout",
     "output_type": "stream",
     "text": [
      "[b'abc' b'def' b'ghi']\n",
      "[b'abc' b'lon' b'ghi']\n"
     ]
    }
   ],
   "source": [
    "import numpy as np\n",
    "\n",
    "arr = np.array(['abc', 'def', 'ghi'], dtype='S3')\n",
    "print(arr)\n",
    "\n",
    "arr[1] = 'longer string'\n",
    "print(arr)\n"
   ]
  },
  {
   "cell_type": "code",
   "execution_count": null,
   "id": "104b1692",
   "metadata": {},
   "outputs": [],
   "source": []
  },
  {
   "cell_type": "markdown",
   "id": "b132b1d8",
   "metadata": {},
   "source": [
    "Q9. What happens when you combine two numpy arrays using an operation like addition (+) or multiplication (*)? What are the conditions for combining two numpy arrays?"
   ]
  },
  {
   "cell_type": "markdown",
   "id": "0eba1c50",
   "metadata": {},
   "source": [
    "When you combine two NumPy arrays using an operation like addition (+) or multiplication (*), the operation is performed element-wise between the corresponding elements of the arrays. The resulting array will have the same shape as the input arrays.\n",
    "\n",
    "The conditions for combining two NumPy arrays are as follows:\n",
    "\n",
    "The arrays must have compatible shapes: The arrays should have the same shape or compatible dimensions for element-wise operations. This means that the arrays should have the same number of dimensions, and the corresponding dimensions should have the same size, or one of them should have a size of 1, which allows broadcasting.\n",
    "\n",
    "Broadcasting rules apply: Broadcasting is a mechanism in NumPy that allows arrays with different shapes to be combined in element-wise operations. Broadcasting rules define how arrays with different shapes are expanded or transformed to match each other before the element-wise operation is performed. The dimensions of the arrays are compared starting from the trailing dimensions and working backwards, and they must be compatible according to the broadcasting rules."
   ]
  },
  {
   "cell_type": "code",
   "execution_count": 14,
   "id": "225a15d5",
   "metadata": {},
   "outputs": [
    {
     "name": "stdout",
     "output_type": "stream",
     "text": [
      "[5 7 9]\n",
      "[ 4 10 18]\n"
     ]
    }
   ],
   "source": [
    "import numpy as np\n",
    "\n",
    "arr1 = np.array([1, 2, 3])\n",
    "arr2 = np.array([4, 5, 6])\n",
    "\n",
    "result_add = arr1 + arr2\n",
    "print(result_add)  \n",
    "\n",
    "result_mul = arr1 * arr2\n",
    "print(result_mul)  \n"
   ]
  },
  {
   "cell_type": "code",
   "execution_count": null,
   "id": "bcb1c563",
   "metadata": {},
   "outputs": [],
   "source": []
  },
  {
   "cell_type": "markdown",
   "id": "0442ccc6",
   "metadata": {},
   "source": [
    "Q10. What is the best way to use a Boolean array to mask another array?"
   ]
  },
  {
   "cell_type": "markdown",
   "id": "6a7814fa",
   "metadata": {},
   "source": [
    "The best way to use a Boolean array to mask another array in NumPy is by using the Boolean array as an index for the array you want to mask. This process is commonly referred to as Boolean indexing."
   ]
  },
  {
   "cell_type": "code",
   "execution_count": 16,
   "id": "4feb8ce8",
   "metadata": {},
   "outputs": [
    {
     "name": "stdout",
     "output_type": "stream",
     "text": [
      "[1 3]\n"
     ]
    }
   ],
   "source": [
    "import numpy as np\n",
    "\n",
    "arr = np.array([1, 2, 3, 4, 5])\n",
    "\n",
    "mask = np.array([True, False, True, False, False])\n",
    "\n",
    "masked_arr = arr[mask]\n",
    "print(masked_arr)  \n"
   ]
  },
  {
   "cell_type": "code",
   "execution_count": null,
   "id": "01fd34a8",
   "metadata": {},
   "outputs": [],
   "source": []
  },
  {
   "cell_type": "markdown",
   "id": "2c9edb38",
   "metadata": {},
   "source": [
    "Q11. What are three different ways to get the standard deviation of a wide collection of data using both standard Python and its packages? Sort the three of them by how quickly they execute."
   ]
  },
  {
   "cell_type": "markdown",
   "id": "ab57aa41",
   "metadata": {},
   "source": [
    "Here are three different ways to calculate the standard deviation of a wide collection of data using standard Python and its packages, sorted by their execution speed:\n",
    "\n",
    "NumPy: NumPy is a powerful numerical computing library for Python that provides efficient array operations and mathematical functions. It offers the numpy.std() function, which can be used to calculate the standard deviation of an array."
   ]
  },
  {
   "cell_type": "code",
   "execution_count": 18,
   "id": "708da09a",
   "metadata": {},
   "outputs": [],
   "source": [
    "import numpy as np\n",
    "\n",
    "data = np.array([1, 2, 3, 4, 5])\n",
    "std = np.std(data)\n"
   ]
  },
  {
   "cell_type": "markdown",
   "id": "843f5080",
   "metadata": {},
   "source": [
    "Statistics module: The statistics module in the Python standard library provides functions for statistical calculations. It includes the statistics.stdev() function, which can be used to compute the standard deviation"
   ]
  },
  {
   "cell_type": "code",
   "execution_count": 20,
   "id": "e8a2ca7b",
   "metadata": {},
   "outputs": [],
   "source": [
    "import statistics\n",
    "\n",
    "data = [1, 2, 3, 4, 5]\n",
    "std = statistics.stdev(data)\n"
   ]
  },
  {
   "cell_type": "markdown",
   "id": "3d5e0eb2",
   "metadata": {},
   "source": [
    "Manual calculation: You can calculate the standard deviation manually using pure Python without relying on external libraries. However, this approach is typically slower and less efficient, especially for large datasets."
   ]
  },
  {
   "cell_type": "code",
   "execution_count": 21,
   "id": "e5aae78f",
   "metadata": {},
   "outputs": [],
   "source": [
    "data = [1, 2, 3, 4, 5]\n",
    "mean = sum(data) / len(data)\n",
    "variance = sum((x - mean) ** 2 for x in data) / len(data)\n",
    "std = variance ** 0.5\n"
   ]
  },
  {
   "cell_type": "code",
   "execution_count": null,
   "id": "ff64ea46",
   "metadata": {},
   "outputs": [],
   "source": []
  },
  {
   "cell_type": "markdown",
   "id": "e5b258fc",
   "metadata": {},
   "source": [
    "12. What is the dimensionality of a Boolean mask-generated array?"
   ]
  },
  {
   "cell_type": "markdown",
   "id": "fa2165f4",
   "metadata": {},
   "source": [
    "The dimensionality of a Boolean mask-generated array is the same as the original array from which the mask was created. When a Boolean mask is used to index or mask an array, the resulting array will have the same number of dimensions as the original array."
   ]
  },
  {
   "cell_type": "code",
   "execution_count": 23,
   "id": "3ae9a04b",
   "metadata": {},
   "outputs": [
    {
     "name": "stdout",
     "output_type": "stream",
     "text": [
      "[1 3 5 7 9]\n",
      "(5,)\n"
     ]
    }
   ],
   "source": [
    "import numpy as np\n",
    "\n",
    "arr = np.array([[1, 2, 3],\n",
    "                [4, 5, 6],\n",
    "                [7, 8, 9]])\n",
    "\n",
    "mask = np.array([[True, False, True],\n",
    "                 [False, True, False],\n",
    "                 [True, False, True]])\n",
    "\n",
    "masked_arr = arr[mask]\n",
    "print(masked_arr)\n",
    "print(masked_arr.shape)\n"
   ]
  }
 ],
 "metadata": {
  "kernelspec": {
   "display_name": "Python 3 (ipykernel)",
   "language": "python",
   "name": "python3"
  },
  "language_info": {
   "codemirror_mode": {
    "name": "ipython",
    "version": 3
   },
   "file_extension": ".py",
   "mimetype": "text/x-python",
   "name": "python",
   "nbconvert_exporter": "python",
   "pygments_lexer": "ipython3",
   "version": "3.10.9"
  }
 },
 "nbformat": 4,
 "nbformat_minor": 5
}
