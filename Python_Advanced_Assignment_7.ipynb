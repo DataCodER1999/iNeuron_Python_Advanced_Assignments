{
 "cells": [
  {
   "cell_type": "markdown",
   "id": "d232ca4e",
   "metadata": {},
   "source": [
    "Q1. What is the purpose of the try statement?"
   ]
  },
  {
   "cell_type": "markdown",
   "id": "7d0ab8ad",
   "metadata": {},
   "source": [
    "The purpose of the try statement in Python is to enclose a block of code that may potentially raise exceptions. The try statement allows you to handle exceptions in a structured and controlled manner."
   ]
  },
  {
   "cell_type": "code",
   "execution_count": null,
   "id": "db6dd620",
   "metadata": {},
   "outputs": [],
   "source": [
    "try:\n",
    "    # Code block that may raise exceptions\n",
    "    # ...\n",
    "except ExceptionType1:\n",
    "    # Exception handling code for ExceptionType1\n",
    "    # ...\n",
    "except ExceptionType2:\n",
    "    # Exception handling code for ExceptionType2\n",
    "    # ...\n",
    "finally:\n",
    "    # Code block that is always executed, regardless of exceptions\n",
    "    # ...\n"
   ]
  },
  {
   "cell_type": "markdown",
   "id": "13db73b7",
   "metadata": {},
   "source": [
    "When the code inside the try block encounters an exception, it immediately stops executing, and the program flow is transferred to the appropriate except block that matches the type of the raised exception. You can have multiple except blocks to handle different types of exceptions.\n",
    "\n",
    "The except blocks contain code that specifies how to handle specific exceptions. Within these blocks, you can include error handling logic, display custom error messages, perform recovery actions, or raise new exceptions. Each except block is responsible for handling a specific type of exception. If none of the except blocks match the raised exception, the exception propagates up the call stack.\n",
    "\n",
    "Optionally, you can include a finally block at the end of the try statement. The code inside the finally block is always executed, regardless of whether an exception occurs or not. This allows you to specify cleanup operations or actions that need to be performed regardless of exceptions, such as closing files or releasing resources."
   ]
  },
  {
   "cell_type": "code",
   "execution_count": null,
   "id": "98eed149",
   "metadata": {},
   "outputs": [],
   "source": []
  },
  {
   "cell_type": "markdown",
   "id": "22da25d7",
   "metadata": {},
   "source": [
    "\n",
    "Q2. What are the two most popular try statement variations?\n"
   ]
  },
  {
   "cell_type": "markdown",
   "id": "f299fead",
   "metadata": {},
   "source": [
    "try-except statement: This variation allows you to catch and handle specific exceptions. You can specify one or more except blocks after the try block to handle different types of exceptions that may be raised within the try block. Each except block specifies the type of exception it can handle, and if a matching exception occurs, the corresponding block is executed. This variation is useful when you want to handle specific exceptions differently based on their type."
   ]
  },
  {
   "cell_type": "code",
   "execution_count": null,
   "id": "4395dc45",
   "metadata": {},
   "outputs": [],
   "source": [
    "try:\n",
    "    # Code block that may raise exceptions\n",
    "    # ...\n",
    "except ValueError:\n",
    "    # Exception handling code for ValueError\n",
    "    # ...\n",
    "except FileNotFoundError:\n",
    "    # Exception handling code for FileNotFoundError\n",
    "    # ...\n",
    "except:\n",
    "    # Exception handling code for all other exceptions\n",
    "    # ...\n"
   ]
  },
  {
   "cell_type": "markdown",
   "id": "f93689c6",
   "metadata": {},
   "source": [
    "try-except-finally statement: This variation includes a finally block along with the try and except blocks. The finally block is executed regardless of whether an exception occurs or not. It provides a way to specify cleanup code or actions that need to be performed no matter what. This variation ensures that certain operations are always executed, such as closing files, releasing resources, or cleaning up temporary data."
   ]
  },
  {
   "cell_type": "code",
   "execution_count": null,
   "id": "a2e400ce",
   "metadata": {},
   "outputs": [],
   "source": [
    "try:\n",
    "    # Code block that may raise exceptions\n",
    "    # ...\n",
    "except ValueError:\n",
    "    # Exception handling code for ValueError\n",
    "    # ...\n",
    "finally:\n",
    "    # Code block that is always executed, regardless of exceptions\n",
    "    # ...\n"
   ]
  },
  {
   "cell_type": "code",
   "execution_count": null,
   "id": "8d6fb031",
   "metadata": {},
   "outputs": [],
   "source": []
  },
  {
   "cell_type": "markdown",
   "id": "c6dd362a",
   "metadata": {},
   "source": [
    "Q3. What is the purpose of the raise statement?"
   ]
  },
  {
   "cell_type": "markdown",
   "id": "4bad94d3",
   "metadata": {},
   "source": [
    "The purpose of the raise statement in Python is to explicitly raise an exception. It allows you to raise exceptions programmatically at any point in your code, rather than relying solely on exceptions raised by built-in operations or external libraries."
   ]
  },
  {
   "cell_type": "code",
   "execution_count": null,
   "id": "5a130839",
   "metadata": {},
   "outputs": [],
   "source": [
    "raise ExceptionType(\"Error message\")\n"
   ]
  },
  {
   "cell_type": "markdown",
   "id": "d003baf1",
   "metadata": {},
   "source": [
    "Here, ExceptionType represents the type of exception you want to raise, and \"Error message\" is an optional string that provides additional information about the exception.\n",
    "\n",
    "When the raise statement is encountered, it immediately interrupts the normal flow of the program and raises an exception of the specified type. The exception then propagates up the call stack until it is caught by an appropriate try-except block that handles that type of exception.\n",
    "\n",
    "The raise statement is useful in scenarios where you want to create and raise your own custom exceptions or handle exceptional conditions that are specific to your program's logic. By raising exceptions explicitly, you have more control over error handling and can communicate specific error scenarios to the calling code or provide additional context for debugging."
   ]
  },
  {
   "cell_type": "code",
   "execution_count": 2,
   "id": "ac2c3fb8",
   "metadata": {},
   "outputs": [
    {
     "name": "stdout",
     "output_type": "stream",
     "text": [
      "Exception caught: Cannot divide by zero\n"
     ]
    }
   ],
   "source": [
    "def divide_numbers(a, b):\n",
    "    if b == 0:\n",
    "        raise ValueError(\"Cannot divide by zero\")\n",
    "    return a / b\n",
    "\n",
    "try:\n",
    "    result = divide_numbers(10, 0)\n",
    "except ValueError as e:\n",
    "    print(\"Exception caught:\", str(e))\n"
   ]
  },
  {
   "cell_type": "code",
   "execution_count": null,
   "id": "295ccb69",
   "metadata": {},
   "outputs": [],
   "source": []
  },
  {
   "cell_type": "markdown",
   "id": "562f1553",
   "metadata": {},
   "source": [
    "Q4. What does the assert statement do, and what other statement is it like?"
   ]
  },
  {
   "cell_type": "markdown",
   "id": "c05c8040",
   "metadata": {},
   "source": [
    "The assert statement in Python is used to assert or check a condition. It is primarily used as a debugging aid to ensure that certain conditions are true during program execution. If the condition specified in the assert statement evaluates to False, an AssertionError exception is raised."
   ]
  },
  {
   "cell_type": "code",
   "execution_count": null,
   "id": "675f6c61",
   "metadata": {},
   "outputs": [],
   "source": [
    "assert condition, \"Error message\""
   ]
  },
  {
   "cell_type": "markdown",
   "id": "868b1590",
   "metadata": {},
   "source": [
    "Here, condition is the expression that is expected to be true. If the condition is False, the AssertionError exception is raised. The optional \"Error message\" is a string that provides additional information about the assertion failure. This message is displayed as part of the exception traceback.\n",
    "\n",
    "The assert statement can be thought of as a way to document and enforce assumptions about the state of the program. It helps catch programming errors or unexpected conditions during development and testing. If an assertion fails, it indicates that something is not as expected, and further investigation is needed.\n",
    "\n",
    "The assert statement is similar to the if statement, but with a different purpose. While the if statement is used for conditional execution of code based on a condition, the assert statement is used to validate conditions that should always be true. It is not intended for normal flow control, but rather for catching logical errors or ensuring that certain conditions are met."
   ]
  },
  {
   "cell_type": "code",
   "execution_count": 5,
   "id": "a8ca83eb",
   "metadata": {},
   "outputs": [
    {
     "ename": "AssertionError",
     "evalue": "List cannot be empty",
     "output_type": "error",
     "traceback": [
      "\u001b[1;31m---------------------------------------------------------------------------\u001b[0m",
      "\u001b[1;31mAssertionError\u001b[0m                            Traceback (most recent call last)",
      "Cell \u001b[1;32mIn[5], line 8\u001b[0m\n\u001b[0;32m      6\u001b[0m data \u001b[38;5;241m=\u001b[39m []\n\u001b[0;32m      7\u001b[0m \u001b[38;5;28;01massert\u001b[39;00m \u001b[38;5;28misinstance\u001b[39m(data, \u001b[38;5;28mlist\u001b[39m), \u001b[38;5;124m\"\u001b[39m\u001b[38;5;124mData must be a list\u001b[39m\u001b[38;5;124m\"\u001b[39m\n\u001b[1;32m----> 8\u001b[0m average \u001b[38;5;241m=\u001b[39m \u001b[43mcalculate_average\u001b[49m\u001b[43m(\u001b[49m\u001b[43mdata\u001b[49m\u001b[43m)\u001b[49m\n",
      "Cell \u001b[1;32mIn[5], line 2\u001b[0m, in \u001b[0;36mcalculate_average\u001b[1;34m(numbers)\u001b[0m\n\u001b[0;32m      1\u001b[0m \u001b[38;5;28;01mdef\u001b[39;00m \u001b[38;5;21mcalculate_average\u001b[39m(numbers):\n\u001b[1;32m----> 2\u001b[0m     \u001b[38;5;28;01massert\u001b[39;00m \u001b[38;5;28mlen\u001b[39m(numbers) \u001b[38;5;241m>\u001b[39m \u001b[38;5;241m0\u001b[39m, \u001b[38;5;124m\"\u001b[39m\u001b[38;5;124mList cannot be empty\u001b[39m\u001b[38;5;124m\"\u001b[39m\n\u001b[0;32m      3\u001b[0m     total \u001b[38;5;241m=\u001b[39m \u001b[38;5;28msum\u001b[39m(numbers)\n\u001b[0;32m      4\u001b[0m     \u001b[38;5;28;01mreturn\u001b[39;00m total \u001b[38;5;241m/\u001b[39m \u001b[38;5;28mlen\u001b[39m(numbers)\n",
      "\u001b[1;31mAssertionError\u001b[0m: List cannot be empty"
     ]
    }
   ],
   "source": [
    "def calculate_average(numbers):\n",
    "    assert len(numbers) > 0, \"List cannot be empty\"\n",
    "    total = sum(numbers)\n",
    "    return total / len(numbers)\n",
    "\n",
    "data = []\n",
    "assert isinstance(data, list), \"Data must be a list\"\n",
    "average = calculate_average(data)\n"
   ]
  },
  {
   "cell_type": "code",
   "execution_count": null,
   "id": "5c41e5ee",
   "metadata": {},
   "outputs": [],
   "source": []
  },
  {
   "cell_type": "markdown",
   "id": "e57cbaa9",
   "metadata": {},
   "source": [
    "Q5. What is the purpose of the with/as argument, and what other statement is it like?"
   ]
  },
  {
   "cell_type": "markdown",
   "id": "becc5503",
   "metadata": {},
   "source": [
    "\n",
    "The with/as statement in Python is used for resource management and ensures that certain actions are taken before and after a block of code, regardless of whether an exception occurs or not. It provides a convenient way to handle resources such as files, network connections, or database connections, and automatically releases them when they are no longer needed."
   ]
  },
  {
   "cell_type": "code",
   "execution_count": null,
   "id": "7076d792",
   "metadata": {},
   "outputs": [],
   "source": [
    "with expression as variable:\n",
    "    # Code block using the resource\n",
    "    # ...\n"
   ]
  },
  {
   "cell_type": "markdown",
   "id": "7a06ec0d",
   "metadata": {},
   "source": [
    "Here, expression is an expression that evaluates to a context manager object. The context manager is responsible for defining the actions to be taken before and after the code block execution. The variable is optional and represents a variable to which the context manager object is assigned.\n",
    "\n",
    "The with/as statement is similar to a try/finally statement and ensures that the resource associated with the context manager is properly managed, even if an exception occurs within the code block. It guarantees that the necessary cleanup actions are performed, such as closing files or releasing resources, without the need for explicit finally blocks.\n",
    "\n",
    "The main advantage of using the with/as statement is that it simplifies resource management and improves the readability and maintainability of the code. It encapsulates the acquisition and release of resources in a clear and concise manner."
   ]
  },
  {
   "cell_type": "code",
   "execution_count": null,
   "id": "82f7ddf2",
   "metadata": {},
   "outputs": [],
   "source": [
    "with open('file.txt', 'r') as file:\n",
    "    contents = file.read()\n",
    "    # Code block using the file contents\n",
    "    # ...\n",
    "\n",
    "# The file resource is automatically closed at this point\n"
   ]
  }
 ],
 "metadata": {
  "kernelspec": {
   "display_name": "Python 3 (ipykernel)",
   "language": "python",
   "name": "python3"
  },
  "language_info": {
   "codemirror_mode": {
    "name": "ipython",
    "version": 3
   },
   "file_extension": ".py",
   "mimetype": "text/x-python",
   "name": "python",
   "nbconvert_exporter": "python",
   "pygments_lexer": "ipython3",
   "version": "3.10.9"
  }
 },
 "nbformat": 4,
 "nbformat_minor": 5
}
