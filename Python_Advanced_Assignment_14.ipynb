{
 "cells": [
  {
   "cell_type": "markdown",
   "id": "a9f4d230",
   "metadata": {},
   "source": [
    "Q1. Is an assignment operator like += only for show? Is it possible that it would lead to faster results at the runtime?"
   ]
  },
  {
   "cell_type": "code",
   "execution_count": null,
   "id": "87ba7110",
   "metadata": {},
   "outputs": [],
   "source": []
  },
  {
   "cell_type": "code",
   "execution_count": 2,
   "id": "46d82dfe",
   "metadata": {},
   "outputs": [],
   "source": [
    "my_list = [1, 2, 3, 4, 5]\n",
    "for _ in range(100000):\n",
    "    my_list += [1] \n",
    "\n",
    "my_list = [1, 2, 3, 4, 5]\n",
    "for _ in range(100000):\n",
    "    my_list = my_list + [1]  \n"
   ]
  },
  {
   "cell_type": "code",
   "execution_count": null,
   "id": "4f432697",
   "metadata": {},
   "outputs": [],
   "source": []
  },
  {
   "cell_type": "markdown",
   "id": "0d41b71f",
   "metadata": {},
   "source": [
    "\n",
    "Q2. What is the smallest number of statements you'd have to write in most programming languages to replace the Python expression a, b = a + b, a?\n"
   ]
  },
  {
   "cell_type": "markdown",
   "id": "cebf7756",
   "metadata": {},
   "source": [
    "In most programming languages, you would need three statements to replace the Python expression a, b = a + b, a. Here's an example:\n",
    "\n",
    "Create a temporary variable temp and assign it the value of a + b.\n",
    "Assign the value of a to variable b.\n",
    "Assign the value of temp to variable a."
   ]
  },
  {
   "cell_type": "code",
   "execution_count": null,
   "id": "6aee35b2",
   "metadata": {},
   "outputs": [],
   "source": [
    "temp = a + b;\n",
    "b = a;\n",
    "a = temp;"
   ]
  },
  {
   "cell_type": "code",
   "execution_count": null,
   "id": "a214c1db",
   "metadata": {},
   "outputs": [],
   "source": []
  },
  {
   "cell_type": "markdown",
   "id": "18825c5f",
   "metadata": {},
   "source": [
    "Q3. In Python, what is the most effective way to set a list of 100 integers to 0?"
   ]
  },
  {
   "cell_type": "markdown",
   "id": "f50948de",
   "metadata": {},
   "source": [
    "\n",
    "The most effective way to set a list of 100 integers to 0 in Python is to use a list comprehension or the [:] slicing notation. Both methods allow you to modify the elements of the list in place."
   ]
  },
  {
   "cell_type": "code",
   "execution_count": 2,
   "id": "8616a78c",
   "metadata": {},
   "outputs": [
    {
     "data": {
      "text/plain": [
       "[0,\n",
       " 0,\n",
       " 0,\n",
       " 0,\n",
       " 0,\n",
       " 0,\n",
       " 0,\n",
       " 0,\n",
       " 0,\n",
       " 0,\n",
       " 0,\n",
       " 0,\n",
       " 0,\n",
       " 0,\n",
       " 0,\n",
       " 0,\n",
       " 0,\n",
       " 0,\n",
       " 0,\n",
       " 0,\n",
       " 0,\n",
       " 0,\n",
       " 0,\n",
       " 0,\n",
       " 0,\n",
       " 0,\n",
       " 0,\n",
       " 0,\n",
       " 0,\n",
       " 0,\n",
       " 0,\n",
       " 0,\n",
       " 0,\n",
       " 0,\n",
       " 0,\n",
       " 0,\n",
       " 0,\n",
       " 0,\n",
       " 0,\n",
       " 0,\n",
       " 0,\n",
       " 0,\n",
       " 0,\n",
       " 0,\n",
       " 0,\n",
       " 0,\n",
       " 0,\n",
       " 0,\n",
       " 0,\n",
       " 0,\n",
       " 0,\n",
       " 0,\n",
       " 0,\n",
       " 0,\n",
       " 0,\n",
       " 0,\n",
       " 0,\n",
       " 0,\n",
       " 0,\n",
       " 0,\n",
       " 0,\n",
       " 0,\n",
       " 0,\n",
       " 0,\n",
       " 0,\n",
       " 0,\n",
       " 0,\n",
       " 0,\n",
       " 0,\n",
       " 0,\n",
       " 0,\n",
       " 0,\n",
       " 0,\n",
       " 0,\n",
       " 0,\n",
       " 0,\n",
       " 0,\n",
       " 0,\n",
       " 0,\n",
       " 0,\n",
       " 0,\n",
       " 0,\n",
       " 0,\n",
       " 0,\n",
       " 0,\n",
       " 0,\n",
       " 0,\n",
       " 0,\n",
       " 0,\n",
       " 0,\n",
       " 0,\n",
       " 0,\n",
       " 0,\n",
       " 0,\n",
       " 0,\n",
       " 0,\n",
       " 0,\n",
       " 0,\n",
       " 0,\n",
       " 0]"
      ]
     },
     "execution_count": 2,
     "metadata": {},
     "output_type": "execute_result"
    }
   ],
   "source": [
    "my_list = [0 for _ in range(100)]\n",
    "my_list"
   ]
  },
  {
   "cell_type": "code",
   "execution_count": null,
   "id": "fcb915c3",
   "metadata": {},
   "outputs": [],
   "source": []
  },
  {
   "cell_type": "markdown",
   "id": "ed91cc82",
   "metadata": {},
   "source": [
    "Q4. What is the most effective way to initialise a list of 99 integers that repeats the sequence 1, 2, 3? S If necessary, show step-by-step instructions on how to accomplish this."
   ]
  },
  {
   "cell_type": "markdown",
   "id": "5d764e3b",
   "metadata": {},
   "source": [
    "To initialize a list of 99 integers repeating the sequence 1, 2, 3 in Python, you can use the modulo operator % along with a list comprehension. Here's the step-by-step process:\n",
    "\n",
    "Determine the length of the desired list, which is 99 in this case.\n",
    "Create a list comprehension that generates the repeating sequence. Use the index variable and apply the modulo operator % to cycle through the numbers 1, 2, and 3.\n",
    "Use slicing notation to limit the generated list to the desired length."
   ]
  },
  {
   "cell_type": "code",
   "execution_count": 4,
   "id": "744bcce1",
   "metadata": {},
   "outputs": [
    {
     "data": {
      "text/plain": [
       "[1,\n",
       " 2,\n",
       " 3,\n",
       " 1,\n",
       " 2,\n",
       " 3,\n",
       " 1,\n",
       " 2,\n",
       " 3,\n",
       " 1,\n",
       " 2,\n",
       " 3,\n",
       " 1,\n",
       " 2,\n",
       " 3,\n",
       " 1,\n",
       " 2,\n",
       " 3,\n",
       " 1,\n",
       " 2,\n",
       " 3,\n",
       " 1,\n",
       " 2,\n",
       " 3,\n",
       " 1,\n",
       " 2,\n",
       " 3,\n",
       " 1,\n",
       " 2,\n",
       " 3,\n",
       " 1,\n",
       " 2,\n",
       " 3,\n",
       " 1,\n",
       " 2,\n",
       " 3,\n",
       " 1,\n",
       " 2,\n",
       " 3,\n",
       " 1,\n",
       " 2,\n",
       " 3,\n",
       " 1,\n",
       " 2,\n",
       " 3,\n",
       " 1,\n",
       " 2,\n",
       " 3,\n",
       " 1,\n",
       " 2,\n",
       " 3,\n",
       " 1,\n",
       " 2,\n",
       " 3,\n",
       " 1,\n",
       " 2,\n",
       " 3,\n",
       " 1,\n",
       " 2,\n",
       " 3,\n",
       " 1,\n",
       " 2,\n",
       " 3,\n",
       " 1,\n",
       " 2,\n",
       " 3,\n",
       " 1,\n",
       " 2,\n",
       " 3,\n",
       " 1,\n",
       " 2,\n",
       " 3,\n",
       " 1,\n",
       " 2,\n",
       " 3,\n",
       " 1,\n",
       " 2,\n",
       " 3,\n",
       " 1,\n",
       " 2,\n",
       " 3,\n",
       " 1,\n",
       " 2,\n",
       " 3,\n",
       " 1,\n",
       " 2,\n",
       " 3,\n",
       " 1,\n",
       " 2,\n",
       " 3,\n",
       " 1,\n",
       " 2,\n",
       " 3,\n",
       " 1,\n",
       " 2,\n",
       " 3,\n",
       " 1,\n",
       " 2,\n",
       " 3]"
      ]
     },
     "execution_count": 4,
     "metadata": {},
     "output_type": "execute_result"
    }
   ],
   "source": [
    "length = 99\n",
    "sequence = [1, 2, 3]\n",
    "\n",
    "my_list = [sequence[i % len(sequence)] for i in range(length)]\n",
    "my_list"
   ]
  },
  {
   "cell_type": "code",
   "execution_count": null,
   "id": "490f6bbc",
   "metadata": {},
   "outputs": [],
   "source": []
  },
  {
   "cell_type": "markdown",
   "id": "e5596279",
   "metadata": {},
   "source": [
    "Q5. If you're using IDLE to run a Python application, explain how to print a multidimensional list as efficiently?"
   ]
  },
  {
   "cell_type": "markdown",
   "id": "70526d3a",
   "metadata": {},
   "source": [
    "\n",
    "In IDLE, you can print a multidimensional list efficiently by using nested loops to iterate over each element in the list"
   ]
  },
  {
   "cell_type": "code",
   "execution_count": 5,
   "id": "d30ba034",
   "metadata": {},
   "outputs": [
    {
     "name": "stdout",
     "output_type": "stream",
     "text": [
      "1 2 3 \n",
      "4 5 6 \n",
      "7 8 9 \n"
     ]
    }
   ],
   "source": [
    "my_list = [[1, 2, 3], [4, 5, 6], [7, 8, 9]]\n",
    "\n",
    "for sublist in my_list:\n",
    "    for element in sublist:\n",
    "        print(element, end=' ')\n",
    "    print()  "
   ]
  },
  {
   "cell_type": "code",
   "execution_count": null,
   "id": "39d0c1bf",
   "metadata": {},
   "outputs": [],
   "source": []
  },
  {
   "cell_type": "markdown",
   "id": "2055ab98",
   "metadata": {},
   "source": [
    "Q6. Is it possible to use list comprehension with a string? If so, how can you go about doing it?"
   ]
  },
  {
   "cell_type": "markdown",
   "id": "07f334b9",
   "metadata": {},
   "source": [
    "Yes, it is possible to use list comprehension with a string in Python. You can use list comprehension to iterate over the characters of a string and perform various operations on them. "
   ]
  },
  {
   "cell_type": "code",
   "execution_count": 7,
   "id": "62d29f88",
   "metadata": {},
   "outputs": [
    {
     "name": "stdout",
     "output_type": "stream",
     "text": [
      "['H', 'e', 'l', 'l', 'o', ',', ' ', 'W', 'o', 'r', 'l', 'd', '!']\n",
      "[72, 101, 108, 108, 111, 44, 32, 87, 111, 114, 108, 100, 33]\n",
      "['H', 'l', 'l', ',', ' ', 'W', 'r', 'l', 'd', '!']\n"
     ]
    }
   ],
   "source": [
    "my_string = \"Hello, World!\"\n",
    "\n",
    "# Example 1: Extract a list of characters\n",
    "char_list = [char for char in my_string]\n",
    "print(char_list)\n",
    "\n",
    "# Example 2: Convert characters to their corresponding ASCII values\n",
    "ascii_list = [ord(char) for char in my_string]\n",
    "print(ascii_list)\n",
    "\n",
    "# Example 3: Filter out vowels from the string\n",
    "vowels = ['a', 'e', 'i', 'o', 'u']\n",
    "filtered_list = [char for char in my_string if char.lower() not in vowels]\n",
    "print(filtered_list)\n"
   ]
  },
  {
   "cell_type": "code",
   "execution_count": null,
   "id": "d35574a6",
   "metadata": {},
   "outputs": [],
   "source": []
  },
  {
   "cell_type": "markdown",
   "id": "47524737",
   "metadata": {},
   "source": [
    "Q7. From the command line, how do you get support with a user-written Python programme? Is this possible from inside IDLE?"
   ]
  },
  {
   "cell_type": "markdown",
   "id": "8cb11a0f",
   "metadata": {},
   "source": [
    "\n",
    "From the command line, you can get support with a user-written Python program by utilizing the Python documentation and seeking help from the Python community through forums, websites, or social media platforms.\n",
    "\n",
    "To access the official Python documentation, you can visit the Python website (https://docs.python.org) and search for the specific Python version you are using. The documentation provides detailed information about the Python language, standard libraries, and various modules, along with code examples and explanations."
   ]
  },
  {
   "cell_type": "code",
   "execution_count": null,
   "id": "d6c67fb6",
   "metadata": {},
   "outputs": [],
   "source": []
  },
  {
   "cell_type": "markdown",
   "id": "b50e98fd",
   "metadata": {},
   "source": [
    "Q8. Functions are said to be “first-class objects” in Python but not in most other languages, such as C++ or Java. What can you do in Python with a function (callable object) that you can't do in C or C++?"
   ]
  },
  {
   "cell_type": "markdown",
   "id": "e049ef90",
   "metadata": {},
   "source": [
    "In Python, functions are considered \"first-class objects,\" which means they can be treated like any other object in the language. This provides several advantages and capabilities that are not available in languages like C or C++. Here are some things you can do with functions in Python that are not directly possible in C or C++:\n",
    "\n",
    "Assign functions to variables: In Python, you can assign a function to a variable, just like any other object. This allows you to pass functions as arguments, store them in data structures, or return them from other functions.\n",
    "\n",
    "Pass functions as arguments: Python allows you to pass functions as arguments to other functions. This enables higher-order functions and functional programming paradigms, where functions can operate on other functions.\n",
    "\n",
    "Return functions from functions: In Python, you can return functions from other functions. This allows you to create functions dynamically based on certain conditions or input parameters.\n",
    "\n",
    "Store functions in data structures: Python allows you to store functions in data structures like lists, dictionaries, or sets. This can be useful for building dynamic dispatch tables or implementing callback systems.\n",
    "\n",
    "Define functions within functions: Python allows nested function definitions, meaning you can define functions inside other functions. This enables the concept of closures, where inner functions have access to the enclosing function's variables and scope.\n",
    "\n",
    "Treat functions as objects: In Python, you can perform operations on functions, such as checking their type, comparing them for equality, or accessing their attributes."
   ]
  },
  {
   "cell_type": "code",
   "execution_count": null,
   "id": "748f7241",
   "metadata": {},
   "outputs": [],
   "source": []
  },
  {
   "cell_type": "markdown",
   "id": "919ec067",
   "metadata": {},
   "source": [
    "Q9. How do you distinguish between a wrapper, a wrapped feature, and a decorator?"
   ]
  },
  {
   "cell_type": "markdown",
   "id": "33bb11eb",
   "metadata": {},
   "source": [
    "In programming, the terms \"wrapper,\" \"wrapped feature,\" and \"decorator\" are often used in the context of adding functionality or modifying existing code. Here's a brief explanation of each term:\n",
    "\n",
    "Wrapper: A wrapper refers to a function or a class that encapsulates or wraps around another function, method, or object. It acts as an intermediary, adding additional behavior or modifying the behavior of the wrapped feature. The primary purpose of a wrapper is to provide a layer of abstraction or to extend the functionality of the wrapped feature without directly modifying its implementation.\n",
    "\n",
    "Wrapped Feature: The wrapped feature refers to the original function, method, or object that is being wrapped by a wrapper. It represents the core functionality that is being augmented or modified. The wrapped feature may not be aware of the wrapper, as the wrapper handles the additional functionality.\n",
    "\n",
    "Decorator: A decorator is a specific type of wrapper in Python that uses a special syntax to modify or enhance the behavior of a function or a class. Decorators are denoted using the @ symbol followed by the decorator's name placed above the definition of the function or class being decorated. Decorators provide a concise way to apply common modifications, such as adding logging, authentication, or performance monitoring, to functions or classes without modifying their original implementation."
   ]
  },
  {
   "cell_type": "code",
   "execution_count": null,
   "id": "778b848f",
   "metadata": {},
   "outputs": [],
   "source": []
  },
  {
   "cell_type": "markdown",
   "id": "e8ca5dd4",
   "metadata": {},
   "source": [
    "Q10. If a function is a generator function, what does it return?"
   ]
  },
  {
   "cell_type": "markdown",
   "id": "7ff12434",
   "metadata": {},
   "source": [
    "A generator function in Python does not return a specific value directly like a regular function. Instead, it returns an iterator object that can be used to generate a sequence of values on-the-fly, following the logic defined within the generator function.\n",
    "\n",
    "When you call a generator function, it doesn't execute the function body immediately. Instead, it returns a generator object, which can be iterated over using a loop, passed to other functions, or used with built-in functions like next().\n",
    "\n",
    "The values generated by the generator function are yielded using the yield keyword instead of the return keyword. Each time the yield statement is encountered, the generator function pauses its execution and yields the specified value. When the generator is iterated over or next() is called on it, the function resumes from where it left off and continues its execution until it encounters the next yield statement."
   ]
  },
  {
   "cell_type": "code",
   "execution_count": 9,
   "id": "611eed8d",
   "metadata": {},
   "outputs": [
    {
     "name": "stdout",
     "output_type": "stream",
     "text": [
      "0\n",
      "2\n",
      "4\n",
      "6\n",
      "8\n"
     ]
    }
   ],
   "source": [
    "def even_numbers():\n",
    "    n = 0\n",
    "    while True:\n",
    "        yield n\n",
    "        n += 2\n",
    "\n",
    "generator = even_numbers()\n",
    "for _ in range(5):\n",
    "    print(next(generator))\n"
   ]
  },
  {
   "cell_type": "code",
   "execution_count": null,
   "id": "e64404ee",
   "metadata": {},
   "outputs": [],
   "source": []
  },
  {
   "cell_type": "markdown",
   "id": "bec8e7a1",
   "metadata": {},
   "source": [
    "Q11. What is the one improvement that must be made to a function in order for it to become a generator function in the Python language?"
   ]
  },
  {
   "cell_type": "markdown",
   "id": "fc397f0a",
   "metadata": {},
   "source": [
    "To convert a regular function into a generator function in Python, you need to make one specific improvement: replacing the return statements with yield statements.\n",
    "\n",
    "A regular function typically uses the return statement to provide a single result or value and terminates the function's execution. However, a generator function uses the yield statement to produce a series of values over multiple invocations without terminating the function.\n",
    "\n",
    "When you encounter a yield statement in a function, it temporarily suspends the function's execution and returns the yielded value. The function's state is saved, allowing it to resume from where it left off when called again."
   ]
  },
  {
   "cell_type": "code",
   "execution_count": 11,
   "id": "6d12c527",
   "metadata": {},
   "outputs": [
    {
     "name": "stdout",
     "output_type": "stream",
     "text": [
      "0\n",
      "1\n",
      "2\n",
      "3\n",
      "4\n"
     ]
    }
   ],
   "source": [
    "def generate_numbers():\n",
    "    for i in range(5):\n",
    "        yield i\n",
    "\n",
    "\n",
    "generator = generate_numbers()\n",
    "\n",
    "\n",
    "for number in generator:\n",
    "    print(number)\n"
   ]
  },
  {
   "cell_type": "code",
   "execution_count": null,
   "id": "16257bfd",
   "metadata": {},
   "outputs": [],
   "source": []
  },
  {
   "cell_type": "markdown",
   "id": "7014c610",
   "metadata": {},
   "source": [
    "Q12. Identify at least one benefit of generators."
   ]
  },
  {
   "cell_type": "markdown",
   "id": "7d8e108d",
   "metadata": {},
   "source": [
    "\n",
    "One of the main benefits of generators in Python is their memory efficiency. Unlike functions that generate an entire sequence at once and store it in memory, generators produce values on-the-fly as requested, one at a time. This characteristic of generators offers several advantages:\n",
    "\n",
    "Memory Optimization: Generators generate values lazily, meaning they produce and yield values only when needed. This makes them suitable for working with large datasets or infinite sequences where generating the entire sequence in memory would be impractical or impossible. By generating values on-the-fly, generators significantly reduce memory usage.\n",
    "\n",
    "Efficient Iteration: Generators are iterable, and they can be easily integrated into loops or consumed by other functions that expect an iterable. Since generators yield values one at a time, they provide efficient and memory-friendly iteration over large or dynamically generated sequences.\n",
    "\n",
    "Faster Initialization: Generators can be more time-efficient during initialization compared to precomputing and storing an entire sequence. They allow you to start generating values immediately and continue generating more as needed, rather than waiting for the entire sequence to be computed before using it."
   ]
  },
  {
   "cell_type": "code",
   "execution_count": null,
   "id": "fc7a9b7b",
   "metadata": {},
   "outputs": [],
   "source": []
  }
 ],
 "metadata": {
  "kernelspec": {
   "display_name": "Python 3 (ipykernel)",
   "language": "python",
   "name": "python3"
  },
  "language_info": {
   "codemirror_mode": {
    "name": "ipython",
    "version": 3
   },
   "file_extension": ".py",
   "mimetype": "text/x-python",
   "name": "python",
   "nbconvert_exporter": "python",
   "pygments_lexer": "ipython3",
   "version": "3.10.9"
  }
 },
 "nbformat": 4,
 "nbformat_minor": 5
}
