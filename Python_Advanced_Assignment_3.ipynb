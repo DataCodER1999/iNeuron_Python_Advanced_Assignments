{
 "cells": [
  {
   "cell_type": "markdown",
   "id": "899faa62",
   "metadata": {},
   "source": [
    "1. What is the concept of an abstract superclass?\n"
   ]
  },
  {
   "cell_type": "markdown",
   "id": "a2bf91c8",
   "metadata": {},
   "source": [
    "The concept of an abstract superclass in object-oriented programming refers to a class that is designed to be inherited by other classes, but cannot be instantiated on its own. It serves as a blueprint or template for its subclasses, providing a common interface, attributes, and/or methods that the subclasses must implement or override.\n",
    "\n",
    "An abstract superclass typically contains abstract methods, which are methods that are declared but have no implementation in the superclass. The responsibility of implementing these methods lies with the subclasses. By defining abstract methods in the abstract superclass, it enforces a contract that any class inheriting from it must provide an implementation for those methods.\n",
    "\n",
    "The main purpose of an abstract superclass is to define a common set of behaviors, characteristics, or interfaces that its subclasses should adhere to. It provides a way to enforce a consistent structure and behavior among related classes, while allowing each subclass to implement its own specific functionality."
   ]
  },
  {
   "cell_type": "code",
   "execution_count": 3,
   "id": "75aeaa5e",
   "metadata": {},
   "outputs": [
    {
     "name": "stdout",
     "output_type": "stream",
     "text": [
      "20\n",
      "18.84\n"
     ]
    }
   ],
   "source": [
    "from abc import ABC, abstractmethod\n",
    "\n",
    "class Shape(ABC):\n",
    "    @abstractmethod\n",
    "    def area(self):\n",
    "        pass\n",
    "\n",
    "    @abstractmethod\n",
    "    def perimeter(self):\n",
    "        pass\n",
    "\n",
    "class Rectangle(Shape):\n",
    "    def __init__(self, length, width):\n",
    "        self.length = length\n",
    "        self.width = width\n",
    "\n",
    "    def area(self):\n",
    "        return self.length * self.width\n",
    "\n",
    "    def perimeter(self):\n",
    "        return 2 * (self.length + self.width)\n",
    "\n",
    "class Circle(Shape):\n",
    "    def __init__(self, radius):\n",
    "        self.radius = radius\n",
    "\n",
    "    def area(self):\n",
    "        return 3.14 * self.radius**2\n",
    "\n",
    "    def perimeter(self):\n",
    "        return 2 * 3.14 * self.radius\n",
    "\n",
    "rectangle = Rectangle(4, 5)\n",
    "circle = Circle(3)\n",
    "\n",
    "print(rectangle.area())  \n",
    "print(circle.perimeter()) \n"
   ]
  },
  {
   "cell_type": "code",
   "execution_count": null,
   "id": "3ea99002",
   "metadata": {},
   "outputs": [],
   "source": []
  },
  {
   "cell_type": "markdown",
   "id": "d8f32366",
   "metadata": {},
   "source": [
    "2. What happens when a class statement's top level contains a basic assignment statement?"
   ]
  },
  {
   "cell_type": "markdown",
   "id": "f29c7f84",
   "metadata": {},
   "source": [
    "When a class statement's top level contains a basic assignment statement, it creates a class-level attribute rather than an instance attribute.\n",
    "\n",
    "In Python, a class statement defines a new class and its associated namespace. The top level of a class statement is where attributes and methods of the class are defined. Normally, within this top level, you define class-level attributes by assigning values to variables.\n",
    "\n",
    "When an assignment statement is encountered at the top level of a class statement, without being inside any method or special block, it creates a class-level attribute. This means that the attribute is shared among all instances of the class rather than being specific to individual instances."
   ]
  },
  {
   "cell_type": "code",
   "execution_count": 2,
   "id": "889d4d40",
   "metadata": {},
   "outputs": [
    {
     "name": "stdout",
     "output_type": "stream",
     "text": [
      "10\n",
      "20\n",
      "20\n",
      "30\n",
      "30\n"
     ]
    }
   ],
   "source": [
    "class MyClass:\n",
    "    class_attr = 10\n",
    "\n",
    "    def __init__(self):\n",
    "        self.instance_attr = 20\n",
    "\n",
    "print(MyClass.class_attr) \n",
    "\n",
    "obj1 = MyClass()\n",
    "obj2 = MyClass()\n",
    "\n",
    "print(obj1.instance_attr)  \n",
    "print(obj2.instance_attr)  \n",
    "\n",
    "\n",
    "MyClass.class_attr = 30\n",
    "\n",
    "print(obj1.class_attr) \n",
    "print(obj2.class_attr) \n"
   ]
  },
  {
   "cell_type": "code",
   "execution_count": null,
   "id": "8af29f6a",
   "metadata": {},
   "outputs": [],
   "source": []
  },
  {
   "cell_type": "markdown",
   "id": "1998f7d1",
   "metadata": {},
   "source": [
    "\n",
    "\n",
    "3. Why does a class need to manually call a superclass's __init__ method?\n"
   ]
  },
  {
   "cell_type": "markdown",
   "id": "8a3340d0",
   "metadata": {},
   "source": [
    "A class needs to manually call a superclass's __init__ method when it wants to initialize the superclass's attributes or perform any initialization steps defined in the superclass's __init__ method.\n",
    "\n",
    "In object-oriented programming, when a class inherits from a superclass (also known as a parent class or base class), it can extend or override the behavior of the superclass. However, by default, the superclass's __init__ method is not automatically called when creating an instance of the subclass.\n",
    "\n",
    "To ensure that the superclass's initialization logic is executed, the subclass needs to explicitly call the superclass's __init__ method within its own __init__ method using the super() function. This allows the subclass to inherit and initialize the attributes defined in the superclass."
   ]
  },
  {
   "cell_type": "code",
   "execution_count": 5,
   "id": "b317ab9c",
   "metadata": {},
   "outputs": [
    {
     "name": "stdout",
     "output_type": "stream",
     "text": [
      "Max\n",
      "Labrador\n",
      "Dog barks\n"
     ]
    }
   ],
   "source": [
    "class Animal:\n",
    "    def __init__(self, name):\n",
    "        self.name = name\n",
    "\n",
    "    def speak(self):\n",
    "        print(\"Animal speaks\")\n",
    "\n",
    "class Dog(Animal):\n",
    "    def __init__(self, name, breed):\n",
    "        super().__init__(name)\n",
    "        self.breed = breed\n",
    "\n",
    "    def speak(self):\n",
    "        print(\"Dog barks\")\n",
    "\n",
    "dog = Dog(\"Max\", \"Labrador\")\n",
    "print(dog.name)  \n",
    "print(dog.breed)  \n",
    "dog.speak() \n"
   ]
  },
  {
   "cell_type": "code",
   "execution_count": null,
   "id": "a63beb78",
   "metadata": {},
   "outputs": [],
   "source": []
  },
  {
   "cell_type": "markdown",
   "id": "5e023e9c",
   "metadata": {},
   "source": [
    "\n",
    "4. How can you augment, instead of completely replacing, an inherited method?\n"
   ]
  },
  {
   "cell_type": "markdown",
   "id": "413cfd41",
   "metadata": {},
   "source": [
    "To augment an inherited method instead of completely replacing it, you can use method overriding and the super() function in Python. Method overriding allows a subclass to provide its own implementation of a method inherited from the superclass while still retaining some or all of the functionality of the superclass's method.\n",
    "\n",
    "Here's the process for augmenting an inherited method:\n",
    "\n",
    "Define the method in the subclass with the same name as the method in the superclass.\n",
    "Inside the subclass method, use the super() function to call the superclass's method.\n",
    "Perform any additional actions or modifications specific to the subclass."
   ]
  },
  {
   "cell_type": "code",
   "execution_count": 7,
   "id": "ff88e5c4",
   "metadata": {},
   "outputs": [
    {
     "name": "stdout",
     "output_type": "stream",
     "text": [
      "Generic animal sound\n",
      "Meow\n"
     ]
    }
   ],
   "source": [
    "class Animal:\n",
    "    def make_sound(self):\n",
    "        print(\"Generic animal sound\")\n",
    "\n",
    "class Cat(Animal):\n",
    "    def make_sound(self):\n",
    "        super().make_sound()\n",
    "        print(\"Meow\")\n",
    "\n",
    "cat = Cat()\n",
    "cat.make_sound()\n"
   ]
  },
  {
   "cell_type": "code",
   "execution_count": null,
   "id": "5bdac83d",
   "metadata": {},
   "outputs": [],
   "source": []
  },
  {
   "cell_type": "markdown",
   "id": "c37c6769",
   "metadata": {},
   "source": [
    "5. How is the local scope of a class different from that of a function?"
   ]
  },
  {
   "cell_type": "markdown",
   "id": "14e31669",
   "metadata": {},
   "source": [
    "Accessibility: The class scope is accessible within the entire class definition, including all methods, while the function scope is accessible only within the function where it is defined.\n",
    "\n",
    "Persistence: The class scope persists throughout the lifetime of the class and is accessible to all instances of the class. On the other hand, the function scope is temporary and is created and destroyed each time the function is called.\n",
    "\n",
    "Shared State: Attributes defined within the class scope are shared among all instances of the class, creating a shared state. In contrast, variables defined within the function scope are local to the function and do not create a shared state among different function invocations.\n",
    "\n",
    "Instance-specific Data: Each instance of a class has its own instance-specific data, which is typically defined within the __init__ method or other instance methods. These instance-specific attributes are distinct for each instance and are not shared across instances.\n",
    "\n",
    "Method Access: Methods defined within the class scope (instance methods) can access both class-level attributes and instance-specific attributes using the self parameter. Function scope does not have direct access to class-level attributes unless they are passed as parameters."
   ]
  },
  {
   "cell_type": "code",
   "execution_count": null,
   "id": "af5e4358",
   "metadata": {},
   "outputs": [],
   "source": []
  }
 ],
 "metadata": {
  "kernelspec": {
   "display_name": "Python 3 (ipykernel)",
   "language": "python",
   "name": "python3"
  },
  "language_info": {
   "codemirror_mode": {
    "name": "ipython",
    "version": 3
   },
   "file_extension": ".py",
   "mimetype": "text/x-python",
   "name": "python",
   "nbconvert_exporter": "python",
   "pygments_lexer": "ipython3",
   "version": "3.10.9"
  }
 },
 "nbformat": 4,
 "nbformat_minor": 5
}
