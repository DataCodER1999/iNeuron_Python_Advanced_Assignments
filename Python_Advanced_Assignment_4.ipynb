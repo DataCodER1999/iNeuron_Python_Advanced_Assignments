{
 "cells": [
  {
   "cell_type": "markdown",
   "id": "ff59e4c6",
   "metadata": {},
   "source": [
    "Q1. Which two operator overloading methods can you use in your classes to support iteration?"
   ]
  },
  {
   "cell_type": "markdown",
   "id": "cadaf8f5",
   "metadata": {},
   "source": [
    "__iter__: This method allows an object to be iterable by defining the behavior when the object is used in a for loop. It should return an iterator object, which itself should implement the __next__ method to provide the next value in the iteration. The __iter__ method is typically implemented in classes that represent collections of items.\n",
    "\n",
    "__next__: This method is used by the iterator object to provide the next value in the iteration sequence. It should return the next item or raise the StopIteration exception when there are no more items to iterate over. The __next__ method is typically implemented in the iterator object returned by the __iter__ method."
   ]
  },
  {
   "cell_type": "code",
   "execution_count": 2,
   "id": "fabead4a",
   "metadata": {},
   "outputs": [
    {
     "name": "stdout",
     "output_type": "stream",
     "text": [
      "1\n",
      "2\n",
      "3\n",
      "4\n"
     ]
    }
   ],
   "source": [
    "class MyRange:\n",
    "    def __init__(self, start, end):\n",
    "        self.start = start\n",
    "        self.end = end\n",
    "\n",
    "    def __iter__(self):\n",
    "        return self\n",
    "\n",
    "    def __next__(self):\n",
    "        if self.start < self.end:\n",
    "            current = self.start\n",
    "            self.start += 1\n",
    "            return current\n",
    "        raise StopIteration\n",
    "\n",
    "my_range = MyRange(1, 5)\n",
    "\n",
    "for num in my_range:\n",
    "    print(num)\n"
   ]
  },
  {
   "cell_type": "code",
   "execution_count": null,
   "id": "08d7b971",
   "metadata": {},
   "outputs": [],
   "source": []
  },
  {
   "cell_type": "markdown",
   "id": "dcf2c725",
   "metadata": {},
   "source": [
    "Q2. In what contexts do the two operator overloading methods manage printing?"
   ]
  },
  {
   "cell_type": "markdown",
   "id": "a7d48329",
   "metadata": {},
   "source": [
    "The two operator overloading methods that manage printing in different contexts are:\n",
    "\n",
    "__str__: This method is used to provide a string representation of an object. It should return a human-readable string that represents the object's state or contents. The __str__ method is typically used for informal or user-friendly string representations of an object. It is invoked by the built-in str() function or when the object is used in a context that requires a string representation, such as print statements.\n",
    "\n",
    "__repr__: This method is used to provide a detailed and unambiguous representation of an object. It should return a string that represents the object in a way that can be used to recreate the object. The __repr__ method is typically used for formal or debugging purposes. It is invoked by the built-in repr() function or when the object is used in a context that requires a detailed representation, such as interactive interpreters or debugging sessions."
   ]
  },
  {
   "cell_type": "code",
   "execution_count": 4,
   "id": "d0eeab16",
   "metadata": {},
   "outputs": [
    {
     "name": "stdout",
     "output_type": "stream",
     "text": [
      "Point(2, 3)\n"
     ]
    },
    {
     "data": {
      "text/plain": [
       "Point(x=2, y=3)"
      ]
     },
     "execution_count": 4,
     "metadata": {},
     "output_type": "execute_result"
    }
   ],
   "source": [
    "class Point:\n",
    "    def __init__(self, x, y):\n",
    "        self.x = x\n",
    "        self.y = y\n",
    "\n",
    "    def __str__(self):\n",
    "        return f\"Point({self.x}, {self.y})\"\n",
    "\n",
    "    def __repr__(self):\n",
    "        return f\"Point(x={self.x}, y={self.y})\"\n",
    "\n",
    "\n",
    "point = Point(2, 3)\n",
    "\n",
    "print(point)\n",
    "\n",
    "point "
   ]
  },
  {
   "cell_type": "code",
   "execution_count": null,
   "id": "e8f7c348",
   "metadata": {},
   "outputs": [],
   "source": []
  },
  {
   "cell_type": "markdown",
   "id": "a7f50d06",
   "metadata": {},
   "source": [
    "\n",
    "Q3. In a class, how do you intercept slice operations?\n"
   ]
  },
  {
   "cell_type": "markdown",
   "id": "1b80407c",
   "metadata": {},
   "source": [
    "\n",
    "To intercept slice operations in a class, you can define the __getitem__ method and handle the slicing logic within it. The __getitem__ method allows objects to support indexing and slicing operations.\n",
    "\n",
    "When a slice operation is performed on an object of a class that implements the __getitem__ method, Python will call this method and pass a slice object as the argument. You can then extract the necessary information from the slice object and perform the desired slicing operation on your object's data."
   ]
  },
  {
   "cell_type": "code",
   "execution_count": 6,
   "id": "ef2b737f",
   "metadata": {},
   "outputs": [
    {
     "name": "stdout",
     "output_type": "stream",
     "text": [
      "[2, 4]\n"
     ]
    }
   ],
   "source": [
    "class MyList:\n",
    "    def __init__(self, data):\n",
    "        self.data = data\n",
    "\n",
    "    def __getitem__(self, index):\n",
    "        if isinstance(index, slice):\n",
    "            \n",
    "            start, stop, step = index.start, index.stop, index.step\n",
    "            sliced_data = self.data[start:stop:step]\n",
    "            return MyList(sliced_data)\n",
    "        else:\n",
    "            \n",
    "            return self.data[index]\n",
    "\n",
    "my_list = MyList([1, 2, 3, 4, 5])\n",
    "\n",
    "sliced_list = my_list[1:4:2]\n",
    "print(sliced_list.data) \n"
   ]
  },
  {
   "cell_type": "code",
   "execution_count": null,
   "id": "4fd602a0",
   "metadata": {},
   "outputs": [],
   "source": []
  },
  {
   "cell_type": "markdown",
   "id": "b36e3aab",
   "metadata": {},
   "source": [
    "Q4. In a class, how do you capture in-place addition?"
   ]
  },
  {
   "cell_type": "markdown",
   "id": "bef3f96a",
   "metadata": {},
   "source": [
    "\n",
    "To capture in-place addition in a class, you can define the __iadd__ method. The __iadd__ method is used to implement the in-place addition operation (+=) for objects of a class. It allows you to customize the behavior of the in-place addition operation when applied to instances of your class.\n",
    "\n",
    "When the in-place addition operation is performed on an object of a class that implements the __iadd__ method, Python will call this method and pass the right-hand side of the addition operation as an argument. You can then define the desired behavior for the in-place addition operation, modify the object's state, and return the updated object."
   ]
  },
  {
   "cell_type": "code",
   "execution_count": 8,
   "id": "d10b823b",
   "metadata": {},
   "outputs": [
    {
     "name": "stdout",
     "output_type": "stream",
     "text": [
      "15\n",
      "18\n"
     ]
    }
   ],
   "source": [
    "class MyNumber:\n",
    "    def __init__(self, value):\n",
    "        self.value = value\n",
    "\n",
    "    def __iadd__(self, other):\n",
    "        if isinstance(other, MyNumber):\n",
    "            self.value += other.value\n",
    "        else:\n",
    "            self.value += other\n",
    "        return self\n",
    "\n",
    "num1 = MyNumber(5)\n",
    "num2 = MyNumber(10)\n",
    "\n",
    "num1 += num2\n",
    "print(num1.value) \n",
    "\n",
    "num1 += 3\n",
    "print(num1.value)  \n"
   ]
  },
  {
   "cell_type": "code",
   "execution_count": null,
   "id": "f2f241ff",
   "metadata": {},
   "outputs": [],
   "source": []
  },
  {
   "cell_type": "markdown",
   "id": "952d0e3e",
   "metadata": {},
   "source": [
    "\n",
    "Q5. When is it appropriate to use operator overloading?\n"
   ]
  },
  {
   "cell_type": "markdown",
   "id": "ee64c937",
   "metadata": {},
   "source": [
    "Operator overloading should be used when it provides intuitive and meaningful behavior for the objects of your class. Here are some scenarios where it is appropriate to use operator overloading:\n",
    "\n",
    "Natural mathematical operations: If your class represents a mathematical entity or concept, such as a vector, matrix, or complex number, operator overloading can make the code more readable and intuitive. For example, using the + operator to add two vectors or the * operator to multiply matrices can make mathematical expressions easier to understand.\n",
    "\n",
    "Custom container types: If your class represents a custom container type, such as a list, set, or dictionary, operator overloading can provide a more convenient and natural way to manipulate and combine instances of your class. For example, overloading the + operator to concatenate two lists or overloading the [] operator to access elements by index can enhance the usability of your custom container.\n",
    "\n",
    "Domain-specific operations: If your class represents objects in a specific domain or problem space, operator overloading can be used to define domain-specific operations. This allows you to express operations and manipulations in a way that is natural and intuitive for users of your class. For example, if your class represents a graph, you can overload operators to perform graph-specific operations like finding the shortest path or checking connectivity.\n",
    "\n",
    "Enhancing readability and code expressiveness: Operator overloading can make code more readable and expressive by allowing you to use familiar operators and syntax for objects of your class. This can make the code more concise and easier to understand, especially if the operations being performed are well-known and commonly understood."
   ]
  }
 ],
 "metadata": {
  "kernelspec": {
   "display_name": "Python 3 (ipykernel)",
   "language": "python",
   "name": "python3"
  },
  "language_info": {
   "codemirror_mode": {
    "name": "ipython",
    "version": 3
   },
   "file_extension": ".py",
   "mimetype": "text/x-python",
   "name": "python",
   "nbconvert_exporter": "python",
   "pygments_lexer": "ipython3",
   "version": "3.10.9"
  }
 },
 "nbformat": 4,
 "nbformat_minor": 5
}
