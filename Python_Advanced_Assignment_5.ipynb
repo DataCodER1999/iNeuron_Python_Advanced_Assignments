{
 "cells": [
  {
   "cell_type": "markdown",
   "id": "9400c965",
   "metadata": {},
   "source": [
    "Q1. What is the meaning of multiple inheritance?"
   ]
  },
  {
   "cell_type": "markdown",
   "id": "aecc01dc",
   "metadata": {},
   "source": [
    "Multiple inheritance is a feature in object-oriented programming languages, including Python, that allows a class to inherit attributes and methods from multiple parent classes. In multiple inheritance, a class can have more than one direct superclass.\n",
    "\n",
    "When a class inherits from multiple parent classes, it inherits all the attributes and methods defined in each of the parent classes. This means that the subclass has access to the combined functionality of all its parent classes.\n",
    "\n",
    "The primary advantage of multiple inheritance is that it enables code reuse and promotes modular design by allowing a class to inherit from different sources of functionality. It allows you to combine and extend functionality from multiple parent classes to create a new class with a specific set of features."
   ]
  },
  {
   "cell_type": "code",
   "execution_count": 2,
   "id": "e1169af1",
   "metadata": {},
   "outputs": [
    {
     "name": "stdout",
     "output_type": "stream",
     "text": [
      "Method A\n",
      "Method B\n"
     ]
    }
   ],
   "source": [
    "class A:\n",
    "    def method_a(self):\n",
    "        print(\"Method A\")\n",
    "\n",
    "class B:\n",
    "    def method_b(self):\n",
    "        print(\"Method B\")\n",
    "\n",
    "class C(A, B):\n",
    "    pass\n",
    "\n",
    "c = C()\n",
    "\n",
    "c.method_a()  \n",
    "c.method_b() \n"
   ]
  },
  {
   "cell_type": "code",
   "execution_count": null,
   "id": "e91789a9",
   "metadata": {},
   "outputs": [],
   "source": []
  },
  {
   "cell_type": "markdown",
   "id": "5e706e1e",
   "metadata": {},
   "source": [
    "Q2. What is the concept of delegation?"
   ]
  },
  {
   "cell_type": "markdown",
   "id": "427fe510",
   "metadata": {},
   "source": [
    "Delegation is a design pattern or concept in object-oriented programming where an object forwards or delegates certain responsibilities or tasks to another object. Instead of directly implementing the behavior itself, an object delegates the responsibility to another object that is better suited to perform the task.\n",
    "\n",
    "In delegation, the delegating object maintains a reference to the delegated object and calls its methods or accesses its attributes to fulfill certain functionalities. The delegating object acts as a middleman, passing the responsibility to the delegated object without implementing the behavior directly.\n",
    "\n",
    "The concept of delegation promotes code reuse, modularity, and separation of concerns. It allows objects to collaborate and divide responsibilities among themselves, making the code more flexible and maintainable."
   ]
  },
  {
   "cell_type": "code",
   "execution_count": 3,
   "id": "445d3850",
   "metadata": {},
   "outputs": [
    {
     "name": "stdout",
     "output_type": "stream",
     "text": [
      "Manager is managing...\n",
      "Worker is working...\n"
     ]
    }
   ],
   "source": [
    "class Worker:\n",
    "    def work(self):\n",
    "        print(\"Worker is working...\")\n",
    "\n",
    "class Manager:\n",
    "    def __init__(self):\n",
    "        self.worker = Worker()\n",
    "\n",
    "    def manage(self):\n",
    "        print(\"Manager is managing...\")\n",
    "        self.worker.work()\n",
    "\n",
    "manager = Manager()\n",
    "manager.manage()  \n",
    "\n"
   ]
  },
  {
   "cell_type": "code",
   "execution_count": null,
   "id": "ca71ec70",
   "metadata": {},
   "outputs": [],
   "source": []
  },
  {
   "cell_type": "markdown",
   "id": "d18f6a20",
   "metadata": {},
   "source": [
    "Q3. What is the concept of composition?"
   ]
  },
  {
   "cell_type": "markdown",
   "id": "b01b3f5a",
   "metadata": {},
   "source": [
    "Composition is a concept in object-oriented programming that allows objects to be composed of other objects as their parts or components. It is a way to represent complex objects by combining simpler objects together to form a more intricate structure.\n",
    "\n",
    "In composition, an object contains one or more other objects as instance variables. These objects, known as components, are created and initialized within the composite object. The composite object controls the lifetime of its components and manages their behavior.\n",
    "\n",
    "The key idea behind composition is that the composite object can delegate certain responsibilities to its component objects. It achieves this by providing a higher-level interface that internally uses the methods and attributes of its components to accomplish specific tasks.\n",
    "\n",
    "Composition promotes code reuse, modularity, and flexibility. It allows for building complex objects by combining simpler and more specialized objects. Changes to the components can be made independently without affecting the overall behavior of the composite object. It also enables a more granular and flexible design, as different combinations of components can be used to create different composite objects.\n",
    "\n"
   ]
  },
  {
   "cell_type": "code",
   "execution_count": 5,
   "id": "8350c058",
   "metadata": {},
   "outputs": [
    {
     "name": "stdout",
     "output_type": "stream",
     "text": [
      "Car starting...\n",
      "Engine started.\n",
      "Car stopping...\n",
      "Engine stopped.\n"
     ]
    }
   ],
   "source": [
    "class Engine:\n",
    "    def start(self):\n",
    "        print(\"Engine started.\")\n",
    "\n",
    "    def stop(self):\n",
    "        print(\"Engine stopped.\")\n",
    "\n",
    "class Car:\n",
    "    def __init__(self):\n",
    "        self.engine = Engine()\n",
    "\n",
    "    def start(self):\n",
    "        print(\"Car starting...\")\n",
    "        self.engine.start()\n",
    "\n",
    "    def stop(self):\n",
    "        print(\"Car stopping...\")\n",
    "        self.engine.stop()\n",
    "\n",
    "car = Car()\n",
    "car.start()  \n",
    "car.stop()   \n"
   ]
  },
  {
   "cell_type": "code",
   "execution_count": null,
   "id": "67188f00",
   "metadata": {},
   "outputs": [],
   "source": []
  },
  {
   "cell_type": "markdown",
   "id": "0dfba3ea",
   "metadata": {},
   "source": [
    "Q4. What are bound methods and how do we use them?"
   ]
  },
  {
   "cell_type": "markdown",
   "id": "5e1f5262",
   "metadata": {},
   "source": [
    "Bound methods are a concept in Python that refers to methods bound to an instance of a class. When a method is bound, it means that the method is associated with a specific instance of the class, and when the method is called, the instance is implicitly passed as the first argument (typically named self).\n",
    "\n",
    "In Python, methods defined within a class are bound methods by default. When you access a method on an instance of a class and call it, the instance is automatically passed as the first argument to the method."
   ]
  },
  {
   "cell_type": "code",
   "execution_count": 7,
   "id": "8440561d",
   "metadata": {},
   "outputs": [
    {
     "name": "stdout",
     "output_type": "stream",
     "text": [
      "Value: 42\n"
     ]
    }
   ],
   "source": [
    "class MyClass:\n",
    "    def __init__(self, value):\n",
    "        self.value = value\n",
    "\n",
    "    def method(self):\n",
    "        print(\"Value:\", self.value)\n",
    "\n",
    "obj = MyClass(42)\n",
    "\n",
    "obj.method()  \n"
   ]
  },
  {
   "cell_type": "code",
   "execution_count": null,
   "id": "80e3337d",
   "metadata": {},
   "outputs": [],
   "source": []
  },
  {
   "cell_type": "markdown",
   "id": "0cc971eb",
   "metadata": {},
   "source": [
    "Q5. What is the purpose of pseudoprivate attributes?"
   ]
  },
  {
   "cell_type": "markdown",
   "id": "c7fb916a",
   "metadata": {},
   "source": [
    "Pseudoprivate attributes, also known as name mangling or name mangling with double underscores, are a feature in Python that provides a way to create class attributes that are intended to be private and not easily accessible from outside the class.\n",
    "\n",
    "The purpose of pseudoprivate attributes is to enforce encapsulation and prevent accidental or unauthorized access to class attributes. It serves as a form of data hiding, allowing classes to maintain internal state and implementation details without exposing them directly to external code.\n",
    "\n",
    "Pseudoprivate attributes are created by prefixing the attribute name with double underscores (__). The interpreter automatically modifies the name of the attribute by adding a prefix _classname to it, where classname is the name of the class. This modification is called name mangling.\n",
    "\n",
    "The name mangling mechanism makes it harder to access pseudoprivate attributes from outside the class. However, it is important to note that pseudoprivate attributes are not truly private in Python. They can still be accessed from outside the class, but the modified name makes it less likely to clash with attributes in other classes."
   ]
  },
  {
   "cell_type": "code",
   "execution_count": 9,
   "id": "cbe79cc3",
   "metadata": {},
   "outputs": [
    {
     "name": "stdout",
     "output_type": "stream",
     "text": [
      "42\n",
      "Private method\n",
      "Public method\n",
      "Private method\n"
     ]
    }
   ],
   "source": [
    "class MyClass:\n",
    "    def __init__(self):\n",
    "        self.__private_attr = 42\n",
    "\n",
    "    def __private_method(self):\n",
    "        print(\"Private method\")\n",
    "\n",
    "    def public_method(self):\n",
    "        print(\"Public method\")\n",
    "        self.__private_method()\n",
    "\n",
    "obj = MyClass()\n",
    "\n",
    "print(obj._MyClass__private_attr)  \n",
    "\n",
    "obj._MyClass__private_method() \n",
    "\n",
    "obj.public_method()\n"
   ]
  },
  {
   "cell_type": "code",
   "execution_count": null,
   "id": "9e851330",
   "metadata": {},
   "outputs": [],
   "source": []
  },
  {
   "cell_type": "code",
   "execution_count": null,
   "id": "f9dd663b",
   "metadata": {},
   "outputs": [],
   "source": []
  }
 ],
 "metadata": {
  "kernelspec": {
   "display_name": "Python 3 (ipykernel)",
   "language": "python",
   "name": "python3"
  },
  "language_info": {
   "codemirror_mode": {
    "name": "ipython",
    "version": 3
   },
   "file_extension": ".py",
   "mimetype": "text/x-python",
   "name": "python",
   "nbconvert_exporter": "python",
   "pygments_lexer": "ipython3",
   "version": "3.10.9"
  }
 },
 "nbformat": 4,
 "nbformat_minor": 5
}
