{
 "cells": [
  {
   "cell_type": "markdown",
   "id": "61ee5995",
   "metadata": {},
   "source": [
    "Q1. Explain the difference between greedy and non-greedy syntax with visual terms in as few words as possible. What is the bare minimum effort required to transform a greedy pattern into a non-greedy one? What characters or characters can you introduce or change?"
   ]
  },
  {
   "cell_type": "markdown",
   "id": "af8fb4e1",
   "metadata": {},
   "source": [
    "In regular expressions, the terms \"greedy\" and \"non-greedy\" refer to the behavior of quantifiers, such as *, +, ?, and {}. Here's an explanation of the difference between the two using visual terms:\n",
    "\n",
    "Greedy syntax: Matches as much as possible while still allowing the overall pattern to match. It tries to consume as many characters as it can.\n",
    "Non-greedy (or lazy) syntax: Matches as little as possible while still allowing the overall pattern to match. It tries to consume as few characters as it can.\n",
    "The minimum effort required to transform a greedy pattern into a non-greedy one is to add a ? after the quantifier in the pattern. This ? character changes the behavior from greedy to non-greedy. Here are the changes you can introduce or make to transform a greedy pattern into a non-greedy one:\n",
    "\n",
    "Change * to *?: From greedy (*) to non-greedy (*?)\n",
    "Change + to +?: From greedy (+) to non-greedy (+?)\n",
    "Change ? to ??: From greedy (?) to non-greedy (??)\n",
    "Change {n} to {n}?: From greedy ({n}) to non-greedy ({n}?)\n",
    "Change {n,} to {n,}?: From greedy ({n,}) to non-greedy ({n,}?)\n",
    "Change {n,m} to {n,m}?: From greedy ({n,m}) to non-greedy ({n,m}?)\n",
    "By adding the ? after the quantifier, you can make the pattern non-greedy, ensuring it matches as little as possible while still allowing the overall pattern to match. This minimal change alters the behavior of the quantifier in the regular expression.\n",
    "\n",
    "For example, consider the following pattern:\n",
    "\n",
    "Greedy pattern: a.*?b\n",
    "Non-greedy pattern: a.*b\n",
    "In the greedy pattern, .*? matches as few characters as possible between \"a\" and \"b\", while in the non-greedy pattern, .* matches as many characters as possible. The ? character changes the behavior from greedy to non-greedy.\n",
    "\n",
    "Remember that the exact change required depends on the specific quantifier used in the pattern, but introducing or changing the ? after the quantifier is the common approach to transform a greedy pattern into a non-greedy one."
   ]
  },
  {
   "cell_type": "code",
   "execution_count": null,
   "id": "7b63aac2",
   "metadata": {},
   "outputs": [],
   "source": []
  },
  {
   "cell_type": "markdown",
   "id": "18ec2bbe",
   "metadata": {},
   "source": [
    "Q2. When exactly does greedy versus non-greedy make a difference?  What if you're looking for a non-greedy match but the only one available is greedy?"
   ]
  },
  {
   "cell_type": "markdown",
   "id": "068e7c0a",
   "metadata": {},
   "source": [
    "The distinction between greedy and non-greedy quantifiers (or matches) makes a difference when there are multiple possible matches within a given input string. The difference is observed in situations where the pattern contains a quantifier followed by characters that can be matched by the quantifier.\n",
    "\n",
    "In greedy matching, the quantifier tries to match as much as possible while still allowing the overall pattern to match. It consumes as many characters as it can, potentially resulting in a longer match.\n",
    "\n",
    "In non-greedy matching, also known as lazy or reluctant matching, the quantifier tries to match as little as possible while still allowing the overall pattern to match. It consumes as few characters as it can, resulting in a shorter match.\n",
    "\n",
    "\n",
    "Consider the following example input string: \"ababab\".\n",
    "\n",
    "Greedy match: The pattern \"a.*b\" using greedy matching would match the entire input string \"ababab\" as a single match because .* would greedily consume all the characters between the first \"a\" and the last \"b\".\n",
    "\n",
    "Non-greedy match: The pattern \"a.*?b\" using non-greedy matching would match the first occurrence of \"ab\" as the first match and the second occurrence of \"ab\" as the second match. The non-greedy quantifier .*? would match as few characters as possible between each \"a\" and \"b\".\n",
    "\n",
    "If you are specifically looking for a non-greedy match but the only available match is greedy, you may need to modify your pattern or approach to achieve the desired result. Here are a few options:\n",
    "\n",
    "Modify the pattern: Adjust the pattern to make it more specific or use different quantifiers to obtain the desired non-greedy match.\n",
    "\n",
    "Restrict the pattern: If possible, modify the pattern to include additional constraints or anchors to ensure a non-greedy match. This can help in narrowing down the possibilities.\n",
    "\n",
    "Post-process the match: If you can only obtain a greedy match, you can retrieve the match and then manipulate or extract the desired non-greedy portion using string manipulation or additional processing steps outside of the regular expression.\n",
    "\n",
    "It's important to be aware of the behavior of greedy and non-greedy matching and adapt your pattern or approach accordingly to obtain the desired results."
   ]
  },
  {
   "cell_type": "code",
   "execution_count": null,
   "id": "2c11d091",
   "metadata": {},
   "outputs": [],
   "source": []
  },
  {
   "cell_type": "markdown",
   "id": "d7835bff",
   "metadata": {},
   "source": [
    "Q3. In a simple match of a string, which looks only for one match and does not do any replacement, is the use of a nontagged group likely to make any practical difference?"
   ]
  },
  {
   "cell_type": "markdown",
   "id": "c16fa3c3",
   "metadata": {},
   "source": [
    "In a simple match of a string where you are not capturing any groups for extraction or replacement, the use of a non-capturing group (nontagged group) does not make a practical difference in terms of the final match result.\n",
    "\n",
    "A non-capturing group is denoted by (?:...) in regular expressions. It allows you to group expressions together for logical purposes without capturing the matched substring. The primary purpose of a non-capturing group is to control the scope and behavior of quantifiers or apply modifiers to a group as a whole.\n",
    "\n",
    "However, in a simple match scenario where you are not using the captured groups for any specific purpose, whether you use a capturing group or a non-capturing group would not have any significant impact on the match itself. The overall matched portion of the string would remain the same regardless of whether you use a capturing or non-capturing group.\n",
    "\n",
    "The practical difference between capturing and non-capturing groups comes into play when you need to extract or reference the matched groups individually for further processing, replacement, or analysis. In such cases, capturing groups are useful as they allow you to access the matched substrings individually using their respective group numbers or names."
   ]
  },
  {
   "cell_type": "code",
   "execution_count": null,
   "id": "162bd3b6",
   "metadata": {},
   "outputs": [],
   "source": []
  },
  {
   "cell_type": "markdown",
   "id": "a152594e",
   "metadata": {},
   "source": [
    "Q4. Describe a scenario in which using a nontagged category would have a significant impact on the program's outcomes."
   ]
  },
  {
   "cell_type": "markdown",
   "id": "9370ec1b",
   "metadata": {},
   "source": [
    "A scenario where using a non-capturing category (nontagged category) can have a significant impact on the program's outcomes is when you are applying quantifiers or modifiers to a group, but you don't want that group to be included in the captured results or backreferences.\n",
    "\n",
    "Here's an example scenario to illustrate this:\n",
    "\n",
    "Suppose you have a large text document containing multiple occurrences of a pattern where you want to match a word followed by a specific number of digits. However, you want to exclude the digits from the captured results. You are interested in finding all occurrences of the pattern but only need to extract the preceding word.\n",
    "\n",
    "Using a non-capturing group, denoted by (?:...), can be helpful in this scenario. Here's how it can make a difference:"
   ]
  },
  {
   "cell_type": "code",
   "execution_count": 2,
   "id": "9e183d07",
   "metadata": {},
   "outputs": [
    {
     "name": "stdout",
     "output_type": "stream",
     "text": [
      "['word1', 'word2']\n"
     ]
    }
   ],
   "source": [
    "import re\n",
    "\n",
    "text = \"Sample text with word1 123 and word2 456\"\n",
    "pattern = r'\\b(\\w+)\\s\\d+\\b'\n",
    "matches = re.findall(pattern, text)\n",
    "\n",
    "print(matches)"
   ]
  },
  {
   "cell_type": "markdown",
   "id": "d52ecf33",
   "metadata": {},
   "source": [
    "Pattern with non-capturing group:"
   ]
  },
  {
   "cell_type": "code",
   "execution_count": 4,
   "id": "9931e647",
   "metadata": {},
   "outputs": [
    {
     "name": "stdout",
     "output_type": "stream",
     "text": [
      "['word1', 'word2']\n"
     ]
    }
   ],
   "source": [
    "import re\n",
    "\n",
    "text = \"Sample text with word1 123 and word2 456\"\n",
    "pattern = r'\\b(\\w+)\\s(?:\\d+)\\b'\n",
    "matches = re.findall(pattern, text)\n",
    "\n",
    "print(matches)\n"
   ]
  },
  {
   "cell_type": "code",
   "execution_count": null,
   "id": "0459344f",
   "metadata": {},
   "outputs": [],
   "source": []
  },
  {
   "cell_type": "markdown",
   "id": "2321e201",
   "metadata": {},
   "source": [
    "Q5. Unlike a normal regex pattern, a look-ahead condition does not consume the characters it examines. Describe a situation in which this could make a difference in the results of your programme."
   ]
  },
  {
   "cell_type": "markdown",
   "id": "e6ebec97",
   "metadata": {},
   "source": [
    "A situation where the non-consuming nature of look-ahead conditions in a regex pattern could make a difference in the results of a program is when you want to match a specific pattern that is followed by another specific pattern, but you don't want the second pattern to be included in the overall match.\n",
    "\n",
    "For example, let's say you have a program that needs to extract email addresses from a text document. However, you want to extract only the email addresses that are followed by the word \"business\" but without including \"business\" in the match. Here's a simplified example:\n",
    "\n",
    "Text: \"Contact us at john.doe@example.com for any business inquiries.\"\n",
    "\n",
    "Regular expression pattern: (\\w+@\\w+\\.\\w+)(?=\\sbusiness)"
   ]
  },
  {
   "cell_type": "code",
   "execution_count": null,
   "id": "92b6fb54",
   "metadata": {},
   "outputs": [],
   "source": []
  },
  {
   "cell_type": "markdown",
   "id": "17ee1a39",
   "metadata": {},
   "source": [
    "Q6. In standard expressions, what is the difference between positive look-ahead and negative look-ahead?"
   ]
  },
  {
   "cell_type": "markdown",
   "id": "a1c9aada",
   "metadata": {},
   "source": [
    "In regular expressions, both positive look-ahead and negative look-ahead are types of look-ahead assertions that allow you to specify conditions that must (positive) or must not (negative) be met immediately after the current position in the string, without including the characters in the actual match. The main difference between the two is the way they evaluate the condition.\n",
    "\n",
    "Positive Look-Ahead (?=):\n",
    "A positive look-ahead assertion, denoted by (?=...), specifies a condition that must be true for a match to occur. It asserts that the pattern inside the look-ahead should be followed by the current position in the string. If the condition is met, the pattern preceding the look-ahead is considered a match."
   ]
  },
  {
   "cell_type": "markdown",
   "id": "fc65d743",
   "metadata": {},
   "source": [
    "Negative Look-Ahead (?!):\n",
    "A negative look-ahead assertion, denoted by (?!...), specifies a condition that must not be true for a match to occur. It asserts that the pattern inside the look-ahead should not be followed by the current position in the string. If the condition is not met, the pattern preceding the look-ahead is considered a match."
   ]
  },
  {
   "cell_type": "code",
   "execution_count": null,
   "id": "67218d55",
   "metadata": {},
   "outputs": [],
   "source": []
  },
  {
   "cell_type": "markdown",
   "id": "96a5a0df",
   "metadata": {},
   "source": [
    "Q7. What is the benefit of referring to groups by name rather than by number in a standard expression?"
   ]
  },
  {
   "cell_type": "markdown",
   "id": "8a3c9f23",
   "metadata": {},
   "source": [
    "Referring to groups by name rather than by number in a regular expression provides several benefits:\n",
    "\n",
    "Improved Readability: Naming groups in a regular expression makes it more human-readable and self-explanatory. Instead of referring to capturing groups by their numeric indices, you can assign meaningful names to the groups. This makes the regular expression easier to understand and maintain, especially when dealing with complex patterns.\n",
    "\n",
    "Self-Documenting Code: Using named groups adds documentation to the regular expression itself. By assigning descriptive names to groups, you provide context and clarity about the purpose of each group. This can be particularly helpful when others are reading or maintaining your code, as they can quickly understand the intended meaning of each captured group.\n",
    "\n",
    "Enhances Code Maintainability: When the regular expression pattern is modified or extended, using named groups helps maintain the structure and integrity of your code. Since you're referring to groups by their names rather than relying on specific numeric indices, you're less likely to introduce errors when rearranging or adding new groups in the pattern.\n",
    "\n",
    "Flexibility in Refactoring: Named groups make the regular expression more flexible when you need to refactor your code. If you decide to change the pattern or rearrange groups, you can modify the regular expression without worrying about updating all the references to numeric indices throughout your code. The named groups can remain the same, preserving compatibility with any code that references them."
   ]
  },
  {
   "cell_type": "code",
   "execution_count": null,
   "id": "d495c8fd",
   "metadata": {},
   "outputs": [],
   "source": []
  },
  {
   "cell_type": "markdown",
   "id": "741ba969",
   "metadata": {},
   "source": [
    "Q8. Can you identify repeated items within a target string using named groups, as in \"The cow jumped over the moon\"?"
   ]
  },
  {
   "cell_type": "markdown",
   "id": "84ad5f35",
   "metadata": {},
   "source": [
    "No, named groups in regular expressions are not designed to directly identify repeated items within a target string. Named groups are primarily used for capturing and extracting specific patterns from a string, rather than detecting repeated items.\n",
    "\n",
    "To identify repeated items within a target string, you would typically use backreferences or other techniques, depending on the specific requirements of the repetition pattern you're trying to match."
   ]
  },
  {
   "cell_type": "markdown",
   "id": "4b272b66",
   "metadata": {},
   "source": [
    "Using this pattern on the string \"The cow jumped over the moon\" would match the repeated word \"the\", as it appears both at the beginning and later in the string.\n",
    "\n",
    "However, it's important to note that regular expressions have limitations when it comes to detecting arbitrary repeated items or patterns. They are more suitable for specific repetition structures or patterns with well-defined rules. For complex repetition analysis, you may need to employ additional techniques or algorithms outside the scope of regular expressions."
   ]
  },
  {
   "cell_type": "code",
   "execution_count": null,
   "id": "6b145751",
   "metadata": {},
   "outputs": [],
   "source": []
  },
  {
   "cell_type": "markdown",
   "id": "18422161",
   "metadata": {},
   "source": [
    "Q9. When parsing a string, what is at least one thing that the Scanner interface does for you that the re.findall feature does not?"
   ]
  },
  {
   "cell_type": "markdown",
   "id": "90f262a6",
   "metadata": {},
   "source": [
    "\n",
    "When parsing a string, the Scanner interface in Python provides a distinct functionality that the re.findall feature does not offer:\n",
    "\n",
    "Iterative Parsing: The Scanner interface allows for iterative parsing of a string, whereas re.findall performs a one-time search and returns all matches as a list. With the Scanner interface, you can repeatedly call its methods to iterate through the string, extracting one match at a time. This iterative parsing capability is beneficial when you need to process a string incrementally or perform specific actions for each match found."
   ]
  },
  {
   "cell_type": "code",
   "execution_count": 4,
   "id": "d9cf06c2",
   "metadata": {},
   "outputs": [
    {
     "name": "stdout",
     "output_type": "stream",
     "text": [
      "['The', 'cat', 'and', 'the', 'hat', 'sat', 'the', 'mat']\n",
      "The\n"
     ]
    },
    {
     "data": {
      "text/plain": [
       "([], ' cat and the hat sat on the mat.')"
      ]
     },
     "execution_count": 4,
     "metadata": {},
     "output_type": "execute_result"
    }
   ],
   "source": [
    "import re\n",
    "\n",
    "# Using re.findall\n",
    "text = \"The cat and the hat sat on the mat.\"\n",
    "matches = re.findall(r\"\\b\\w{3}\\b\", text)\n",
    "print(matches)  \n",
    "\n",
    "import re\n",
    "\n",
    "scanner = re.Scanner([\n",
    "    (r\"\\b\\w{3}\\b\", lambda scanner, token: print(token))\n",
    "])\n",
    "scanner.scan(text)\n"
   ]
  },
  {
   "cell_type": "code",
   "execution_count": null,
   "id": "85a0b261",
   "metadata": {},
   "outputs": [],
   "source": []
  },
  {
   "cell_type": "markdown",
   "id": "53cc1359",
   "metadata": {},
   "source": [
    "Q10. Does a scanner object have to be named scanner?"
   ]
  },
  {
   "cell_type": "markdown",
   "id": "13ddc9e5",
   "metadata": {},
   "source": [
    "No, a Scanner object in Python does not have to be named \"scanner\". The name you assign to the Scanner object is completely up to you and can be any valid variable name in Python.\n",
    "\n",
    "When using the re.Scanner class to create a Scanner object, you can assign it to a variable with a name of your choice. For example, you can name it \"my_scanner\", \"text_scanner\", or any other name that makes sense within the context of your code."
   ]
  },
  {
   "cell_type": "code",
   "execution_count": 6,
   "id": "b949728d",
   "metadata": {},
   "outputs": [
    {
     "name": "stdout",
     "output_type": "stream",
     "text": [
      "The\n"
     ]
    },
    {
     "data": {
      "text/plain": [
       "([], ' cat and the hat sat on the mat.')"
      ]
     },
     "execution_count": 6,
     "metadata": {},
     "output_type": "execute_result"
    }
   ],
   "source": [
    "import re\n",
    "\n",
    "my_scanner = re.Scanner([\n",
    "    (r\"\\b\\w{3}\\b\", lambda scanner, token: print(token))\n",
    "])\n",
    "\n",
    "text = \"The cat and the hat sat on the mat.\"\n",
    "my_scanner.scan(text)\n",
    "\n"
   ]
  },
  {
   "cell_type": "code",
   "execution_count": null,
   "id": "4f139e3e",
   "metadata": {},
   "outputs": [],
   "source": []
  }
 ],
 "metadata": {
  "kernelspec": {
   "display_name": "Python 3 (ipykernel)",
   "language": "python",
   "name": "python3"
  },
  "language_info": {
   "codemirror_mode": {
    "name": "ipython",
    "version": 3
   },
   "file_extension": ".py",
   "mimetype": "text/x-python",
   "name": "python",
   "nbconvert_exporter": "python",
   "pygments_lexer": "ipython3",
   "version": "3.10.9"
  }
 },
 "nbformat": 4,
 "nbformat_minor": 5
}
