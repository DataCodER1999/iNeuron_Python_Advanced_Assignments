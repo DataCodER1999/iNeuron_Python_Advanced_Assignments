{
 "cells": [
  {
   "cell_type": "markdown",
   "id": "88142d78",
   "metadata": {},
   "source": [
    "Q1. What is the distinction between a numpy array and a pandas data frame? Is there a way to convert between the two if there is?"
   ]
  },
  {
   "cell_type": "markdown",
   "id": "a4d59b51",
   "metadata": {},
   "source": [
    "The main distinction between a NumPy array and a Pandas DataFrame is their underlying data structure and the functionality they provide.\n",
    "\n",
    "A NumPy array is a multidimensional grid of values, all of the same data type, and it is optimized for numerical operations. It provides efficient storage and vectorized operations on arrays of homogeneous data types. NumPy arrays are commonly used for numerical computations and mathematical operations.\n",
    "\n",
    "On the other hand, a Pandas DataFrame is a two-dimensional tabular data structure that can contain columns of different data types. It is built on top of NumPy and provides additional functionality specifically designed for data manipulation and analysis. DataFrames have labeled axes (rows and columns) and support features like indexing, slicing, filtering, grouping, merging, and more. They are widely used for data analysis, data cleaning, and data preprocessing tasks."
   ]
  },
  {
   "cell_type": "code",
   "execution_count": 2,
   "id": "fe5487d0",
   "metadata": {},
   "outputs": [
    {
     "name": "stdout",
     "output_type": "stream",
     "text": [
      "   0  1  2\n",
      "0  1  2  3\n",
      "1  4  5  6\n"
     ]
    }
   ],
   "source": [
    "import pandas as pd\n",
    "import numpy as np\n",
    "\n",
    "# Create a NumPy array\n",
    "numpy_array = np.array([[1, 2, 3], [4, 5, 6]])\n",
    "\n",
    "# Convert NumPy array to DataFrame\n",
    "df = pd.DataFrame(numpy_array)\n",
    "\n",
    "print(df)\n"
   ]
  },
  {
   "cell_type": "code",
   "execution_count": 4,
   "id": "d66b3f8c",
   "metadata": {},
   "outputs": [
    {
     "name": "stdout",
     "output_type": "stream",
     "text": [
      "[[1 4]\n",
      " [2 5]\n",
      " [3 6]]\n"
     ]
    }
   ],
   "source": [
    "import pandas as pd\n",
    "import numpy as np\n",
    "\n",
    "# Create a DataFrame\n",
    "data = {'A': [1, 2, 3], 'B': [4, 5, 6]}\n",
    "df = pd.DataFrame(data)\n",
    "\n",
    "# Convert DataFrame to NumPy array\n",
    "numpy_array = df.values\n",
    "\n",
    "print(numpy_array)\n"
   ]
  },
  {
   "cell_type": "code",
   "execution_count": null,
   "id": "6c3cf412",
   "metadata": {},
   "outputs": [],
   "source": []
  },
  {
   "cell_type": "markdown",
   "id": "34a7c1e9",
   "metadata": {},
   "source": [
    "Q2. What can go wrong when an user enters in a stock-ticker symbol, and how do you handle it?"
   ]
  },
  {
   "cell_type": "markdown",
   "id": "5f6df2c4",
   "metadata": {},
   "source": [
    "\n",
    "When handling user input for a stock ticker symbol, several issues can arise. Here are some potential problems and suggestions for handling them:\n",
    "\n",
    "Invalid or non-existent ticker symbol: Users may enter a ticker symbol that is not valid or does not exist in the financial markets. To handle this, you can implement validation checks using external data sources or APIs to verify the entered ticker symbol's existence and validity. Displaying appropriate error messages to the user can help guide them to enter a valid ticker symbol.\n",
    "\n",
    "Case sensitivity: Ticker symbols are sometimes case sensitive, and entering them with incorrect capitalization can lead to errors. To handle this, you can convert the entered ticker symbol to a standard case, such as uppercase, before using it in any operations or making API requests. This ensures consistency and avoids issues related to case sensitivity.\n",
    "\n",
    "Data availability and accuracy: Ticker symbols may represent different financial instruments or companies across various exchanges. It's important to consider the data source or API you're using and ensure that it supports the specific ticker symbols the user enters. Additionally, some ticker symbols may be associated with multiple companies or have changed over time. Handling such cases may require additional logic to map the ticker symbol to the correct entity or version."
   ]
  },
  {
   "cell_type": "code",
   "execution_count": null,
   "id": "8b4e17ac",
   "metadata": {},
   "outputs": [],
   "source": []
  },
  {
   "cell_type": "markdown",
   "id": "1fb4a0a8",
   "metadata": {},
   "source": [
    "Q3. Identify some of the plotting techniques that are used to produce a stock-market chart."
   ]
  },
  {
   "cell_type": "markdown",
   "id": "0bad466f",
   "metadata": {},
   "source": [
    "There are several plotting techniques commonly used to produce stock market charts. Some of them include:\n",
    "\n",
    "Line Chart: A line chart is a basic technique that displays the closing prices of stocks over a specific period. It connects the closing prices with lines to visualize the price trend over time.\n",
    "\n",
    "Candlestick Chart: Candlestick charts provide more detailed information about the price movement within a given time period. They display the opening, closing, high, and low prices of stocks as \"candles.\" The body of the candle represents the opening and closing prices, while the upper and lower wicks represent the high and low prices.\n",
    "\n",
    "Bar Chart: A bar chart displays the opening, closing, high, and low prices of stocks as vertical bars. The top of the bar represents the high price, the bottom represents the low price, and a horizontal line on the left side represents the opening price, while a line on the right side represents the closing price."
   ]
  },
  {
   "cell_type": "code",
   "execution_count": null,
   "id": "641f4fcf",
   "metadata": {},
   "outputs": [],
   "source": []
  },
  {
   "cell_type": "markdown",
   "id": "116e63ad",
   "metadata": {},
   "source": [
    "Q4. Why is it essential to print a legend on a stock market chart?"
   ]
  },
  {
   "cell_type": "markdown",
   "id": "d51cf9bf",
   "metadata": {},
   "source": [
    "\n",
    "It is essential to print a legend on a stock market chart because it provides important information about the plotted data and helps the viewer understand the meaning of various elements or lines on the chart. Here are a few reasons why a legend is important:\n",
    "\n",
    "Data Interpretation: A stock market chart may contain multiple lines or elements representing different data points, such as stock prices, moving averages, or indicators. The legend provides labels or descriptions for these elements, enabling the viewer to interpret the data correctly.\n",
    "\n",
    "Contextual Information: The legend can provide additional contextual information about the chart. For example, it can indicate the time period covered by the chart, the frequency of data points (daily, weekly, monthly), or any special annotations or symbols used on the chart.\n",
    "\n",
    "Differentiation of Data: In cases where multiple data series are plotted on the same chart, a legend helps differentiate between them. It assigns unique labels or colors to each data series, making it easier for the viewer to identify and track specific stocks or indicators."
   ]
  },
  {
   "cell_type": "code",
   "execution_count": null,
   "id": "c96ef9a7",
   "metadata": {},
   "outputs": [],
   "source": []
  },
  {
   "cell_type": "markdown",
   "id": "16bfd5c5",
   "metadata": {},
   "source": [
    "Q5. What is the best way to limit the length of a pandas data frame to less than a year?"
   ]
  },
  {
   "cell_type": "markdown",
   "id": "42272aa9",
   "metadata": {},
   "source": [
    "To limit the length of a pandas DataFrame to less than a year, you can use various approaches depending on the structure of your DataFrame and the specific criteria for selecting the data within a year. Here are a few common methods:\n",
    "\n",
    "Date Filtering: If your DataFrame has a column with date or timestamp information, you can filter the DataFrame based on the date range. For example, if your DataFrame has a 'date' column, you can use the following code to select data within a year:"
   ]
  },
  {
   "cell_type": "code",
   "execution_count": null,
   "id": "c497b389",
   "metadata": {},
   "outputs": [],
   "source": [
    "import pandas as pd\n",
    "\n",
    "# Assuming 'df' is your DataFrame with a 'date' column\n",
    "start_date = pd.Timestamp('2022-01-01')\n",
    "end_date = pd.Timestamp('2022-12-31')\n",
    "\n",
    "filtered_df = df[(df['date'] >= start_date) & (df['date'] <= end_date)]\n"
   ]
  },
  {
   "cell_type": "markdown",
   "id": "d9298a05",
   "metadata": {},
   "source": [
    "Resampling: If your DataFrame has a regular frequency, such as daily data, you can use resampling to aggregate the data into a lower frequency, such as monthly or yearly, and then select the desired year. For example, to select data within the year 2022 from daily data, you can use:"
   ]
  },
  {
   "cell_type": "code",
   "execution_count": null,
   "id": "a7a1a2f6",
   "metadata": {},
   "outputs": [],
   "source": [
    "import pandas as pd\n",
    "\n",
    "# Assuming 'df' is your DataFrame with a datetime index\n",
    "df_yearly = df.resample('Y').mean()  # Resample to yearly frequency\n",
    "filtered_df = df_yearly['2022']\n"
   ]
  },
  {
   "cell_type": "markdown",
   "id": "fcb7a0d6",
   "metadata": {},
   "source": [
    "Time-based Slicing: If your DataFrame has a datetime index, you can use time-based slicing to select data within a specific time range. For example, to select data within the year 2022, you can use:"
   ]
  },
  {
   "cell_type": "code",
   "execution_count": null,
   "id": "d4a73d98",
   "metadata": {},
   "outputs": [],
   "source": [
    "import pandas as pd\n",
    "\n",
    "# Assuming 'df' is your DataFrame with a datetime index\n",
    "filtered_df = df['2022']\n"
   ]
  },
  {
   "cell_type": "code",
   "execution_count": null,
   "id": "84529bd0",
   "metadata": {},
   "outputs": [],
   "source": []
  },
  {
   "cell_type": "markdown",
   "id": "726d824b",
   "metadata": {},
   "source": [
    "Q6. What is the definition of a 180-day moving average?"
   ]
  },
  {
   "cell_type": "markdown",
   "id": "f0f76206",
   "metadata": {},
   "source": [
    "A 180-day moving average is a technical analysis indicator that calculates the average value of a variable over a period of 180 consecutive days. It is commonly used in financial markets, particularly for analyzing stock prices or other time series data.\n",
    "\n",
    "To calculate the 180-day moving average, you take the average of the variable's values over the previous 180 days at each point in time. As new data becomes available, the oldest data point in the calculation is dropped, and the newest data point is included in the calculation. This rolling calculation allows you to track the average value of the variable over a specific time frame and smooth out short-term fluctuations."
   ]
  },
  {
   "cell_type": "code",
   "execution_count": null,
   "id": "8a0f771e",
   "metadata": {},
   "outputs": [],
   "source": []
  },
  {
   "cell_type": "markdown",
   "id": "892996bc",
   "metadata": {},
   "source": [
    "Q7. Did the chapter's final example use \"indirect\" importing? If so, how exactly do you do it?"
   ]
  },
  {
   "cell_type": "markdown",
   "id": "744964a0",
   "metadata": {},
   "source": [
    "In the context of Python, \"indirect\" importing refers to importing a module indirectly through another module. It involves importing a module into one module and then accessing that imported module from another module.\n",
    "\n",
    "In the chapter's final example, there was no explicit use of \"indirect\" importing. However, if you want to achieve \"indirect\" importing in Python, you can follow these steps:\n",
    "\n",
    "Create a module, let's say module1.py, that contains the module you want to import indirectly. For example, if you want to indirectly import module2, you can import it in module1.py:"
   ]
  },
  {
   "cell_type": "code",
   "execution_count": null,
   "id": "9911f9c7",
   "metadata": {},
   "outputs": [],
   "source": [
    "# module1.py\n",
    "import module2"
   ]
  },
  {
   "cell_type": "markdown",
   "id": "3a859d73",
   "metadata": {},
   "source": [
    "Create another module, let's say module3.py, where you want to access the indirectly imported module. In this module, import module1 and then access module2 through it:"
   ]
  },
  {
   "cell_type": "code",
   "execution_count": null,
   "id": "ff0f3e79",
   "metadata": {},
   "outputs": [],
   "source": [
    "# module3.py\n",
    "import module1\n",
    "\n",
    "# Access module2 through module1\n",
    "module1.module2.some_function()\n"
   ]
  },
  {
   "cell_type": "markdown",
   "id": "4551f063",
   "metadata": {},
   "source": [
    "By importing module1 in module3.py, you establish an indirect import relationship. You can then access module2 through module1 by using the dot notation (module1.module2) and access its attributes, functions, or classes.\n",
    "\n",
    "Indirect importing can be useful in certain scenarios where you want to organize your code into multiple modules and control the accessibility of certain modules from different parts of your codebase."
   ]
  }
 ],
 "metadata": {
  "kernelspec": {
   "display_name": "Python 3 (ipykernel)",
   "language": "python",
   "name": "python3"
  },
  "language_info": {
   "codemirror_mode": {
    "name": "ipython",
    "version": 3
   },
   "file_extension": ".py",
   "mimetype": "text/x-python",
   "name": "python",
   "nbconvert_exporter": "python",
   "pygments_lexer": "ipython3",
   "version": "3.10.9"
  }
 },
 "nbformat": 4,
 "nbformat_minor": 5
}
