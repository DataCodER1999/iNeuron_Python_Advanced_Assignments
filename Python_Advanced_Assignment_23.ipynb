{
 "cells": [
  {
   "cell_type": "markdown",
   "id": "43d81e06",
   "metadata": {},
   "source": [
    "Q1. If you have any, what are your choices for increasing the comparison between different figures on the same graph?"
   ]
  },
  {
   "cell_type": "markdown",
   "id": "45135d8e",
   "metadata": {},
   "source": [
    "\n",
    "When comparing different figures on the same graph, there are several choices you can consider to increase the comparison:\n",
    "\n",
    "Adjust the scale or axis limits: Ensure that the scale and axis limits of the graph are appropriate for the data being compared. This can involve adjusting the range of values shown on the x-axis and y-axis to better highlight the differences between figures.\n",
    "\n",
    "Use consistent units: If the figures being compared have different units of measurement, it can be helpful to convert them to a common unit for better comparison. This ensures that the values are on a similar scale and facilitates easier visual comparison.\n",
    "\n",
    "Utilize different line styles or markers: If the figures are represented by lines or markers on the graph, you can use different line styles (e.g., solid, dashed, dotted) or markers (e.g., circles, squares, triangles) to distinguish between the figures visually. This allows for easier differentiation and comparison.\n",
    "\n",
    "Add annotations or labels: Consider adding annotations or labels to the graph to provide additional context or highlight specific data points of interest. This can help draw attention to key comparisons and make it easier for viewers to understand the differences between the figures."
   ]
  },
  {
   "cell_type": "markdown",
   "id": "2b28404d",
   "metadata": {},
   "source": []
  },
  {
   "cell_type": "markdown",
   "id": "5bced9a8",
   "metadata": {},
   "source": [
    "Q2. Can you explain the benefit of compound interest over a higher rate of interest that does not compound after reading this chapter?"
   ]
  },
  {
   "cell_type": "markdown",
   "id": "fc42ba60",
   "metadata": {},
   "source": [
    "Compound interest refers to the process of earning interest not only on the initial principal amount but also on the accumulated interest from previous periods. In other words, the interest earned in each period is added to the principal, and subsequent interest calculations are based on the updated total. This compounding effect can lead to significant growth in the value of an investment over time.\n",
    "\n",
    "The benefit of compound interest over a higher rate of interest that does not compound is primarily attributed to the compounding effect itself. Here are some key advantages of compound interest:\n",
    "\n",
    "Accelerated growth: Compound interest allows your investment to grow at an accelerated rate compared to simple interest. As interest is continuously added to the principal, the subsequent interest calculations are based on a larger amount, resulting in exponential growth over time.\n",
    "\n",
    "Enhanced long-term returns: The compounding effect becomes more pronounced over longer periods. Even if the rate of interest is relatively modest, the consistent compounding over many years can generate substantial returns, often surpassing the growth potential of a higher rate of interest that does not compound.\n",
    "\n",
    "Passive growth: Compound interest enables your investment to grow passively without requiring additional contributions or effort on your part. You can benefit from the compounding effect by simply allowing your investment to remain invested over an extended period, allowing time to work in your favor."
   ]
  },
  {
   "cell_type": "code",
   "execution_count": null,
   "id": "86a751d5",
   "metadata": {},
   "outputs": [],
   "source": []
  },
  {
   "cell_type": "markdown",
   "id": "8ed7273a",
   "metadata": {},
   "source": [
    "Q3. What is a histogram, exactly? Name a numpy method for creating such a graph.\n"
   ]
  },
  {
   "cell_type": "markdown",
   "id": "4eb9f4f9",
   "metadata": {},
   "source": [
    "A histogram is a graphical representation of the distribution of a dataset. It displays the frequency or count of values falling within specified intervals, often referred to as bins, along the horizontal axis, while the vertical axis represents the count or frequency of occurrences.\n",
    "\n",
    "In Python, one of the numpy methods for creating a histogram is numpy.histogram(). This function takes an input array of data and returns the histogram representation as a tuple of two arrays: the histogram values and the bin edges. The bin edges define the boundaries of each bin in the histogram."
   ]
  },
  {
   "cell_type": "code",
   "execution_count": 2,
   "id": "7e0c721b",
   "metadata": {},
   "outputs": [
    {
     "data": {
      "image/png": "[encoded data removed]",
      "text/plain": [
       "<Figure size 640x480 with 1 Axes>"
      ]
     },
     "metadata": {},
     "output_type": "display_data"
    }
   ],
   "source": [
    "import numpy as np\n",
    "import matplotlib.pyplot as plt\n",
    "\n",
    "data = np.random.randn(1000)  \n",
    "\n",
    "hist_values, bin_edges = np.histogram(data, bins=10)\n",
    "\n",
    "plt.hist(data, bins=10)\n",
    "plt.xlabel('Value')\n",
    "plt.ylabel('Frequency')\n",
    "plt.title('Histogram')\n",
    "plt.show()\n"
   ]
  },
  {
   "cell_type": "code",
   "execution_count": null,
   "id": "6436239f",
   "metadata": {},
   "outputs": [],
   "source": []
  },
  {
   "cell_type": "markdown",
   "id": "57b3fe31",
   "metadata": {},
   "source": [
    "Q4. If necessary, how do you change the aspect ratios between the X and Y axes?"
   ]
  },
  {
   "cell_type": "markdown",
   "id": "94a2a6b7",
   "metadata": {},
   "source": [
    "\n",
    "To change the aspect ratio between the X and Y axes in a plot, you can use the aspect parameter in matplotlib. The aspect parameter allows you to specify the aspect ratio as a numeric value or a string.\n",
    "\n",
    "Here are a few ways to change the aspect ratio:\n",
    "\n",
    "Fixed aspect ratio: You can set a fixed aspect ratio by specifying a numeric value to the aspect parameter. For example, aspect=2 will make the X-axis twice as long as the Y-axis."
   ]
  },
  {
   "cell_type": "code",
   "execution_count": null,
   "id": "c6b18440",
   "metadata": {},
   "outputs": [],
   "source": [
    "plt.plot(x, y)\n",
    "plt.gca().set_aspect(2) "
   ]
  },
  {
   "cell_type": "markdown",
   "id": "3ab2fe55",
   "metadata": {},
   "source": [
    "Equal aspect ratio: You can make the X and Y axes have an equal aspect ratio by setting aspect='equal'."
   ]
  },
  {
   "cell_type": "code",
   "execution_count": null,
   "id": "d624c56a",
   "metadata": {},
   "outputs": [],
   "source": [
    "plt.plot(x, y)\n",
    "plt.gca().set_aspect('equal') "
   ]
  },
  {
   "cell_type": "markdown",
   "id": "719bf91e",
   "metadata": {},
   "source": [
    "Custom aspect ratio: If you want to set a specific aspect ratio, you can provide a fractional value to the aspect parameter. For example, aspect=0.5 will make the X-axis twice as long as the Y-axis."
   ]
  },
  {
   "cell_type": "code",
   "execution_count": null,
   "id": "5fac2319",
   "metadata": {},
   "outputs": [],
   "source": [
    "plt.plot(x, y)\n",
    "plt.gca().set_aspect(0.5)  "
   ]
  },
  {
   "cell_type": "code",
   "execution_count": null,
   "id": "c0715b33",
   "metadata": {},
   "outputs": [],
   "source": []
  },
  {
   "cell_type": "markdown",
   "id": "55633409",
   "metadata": {},
   "source": [
    "Q5. Compare and contrast the three types of array multiplication between two numpy arrays: dot product, outer product, and regular multiplication of two numpy arrays."
   ]
  },
  {
   "cell_type": "markdown",
   "id": "1b1b81da",
   "metadata": {},
   "source": [
    "\n",
    "The three types of array multiplication in numpy, namely dot product, outer product, and regular element-wise multiplication, serve different purposes and have distinct behaviors:\n",
    "\n",
    "Dot Product:\n",
    "\n",
    "The dot product is a mathematical operation that combines two arrays to produce a scalar value or a lower-dimensional array.\n",
    "It follows the rules of matrix multiplication, where the inner dimensions of the arrays must match.\n",
    "The resulting dot product is the sum of the element-wise multiplication of corresponding elements in the arrays.\n",
    "It is calculated using the numpy.dot() function or the @ operator.\n",
    "Example: np.dot(array1, array2) or array1 @ array2\n",
    "Outer Product:\n",
    "\n",
    "The outer product takes two input arrays and produces a higher-dimensional array as output.\n",
    "It generates all possible combinations of the elements from the two arrays and performs element-wise multiplication.\n",
    "The resulting array has a shape that is the product of the shapes of the input arrays.\n",
    "It is calculated using the numpy.outer() function.\n",
    "Example: np.outer(array1, array2)\n",
    "Regular Element-wise Multiplication:\n",
    "\n",
    "Regular element-wise multiplication multiplies corresponding elements of two arrays.\n",
    "It operates element-wise on arrays of the same shape.\n",
    "The resulting array has the same shape as the input arrays.\n",
    "It is performed using the * operator or the numpy.multiply() function.\n",
    "Example: array1 * array2 or np.multiply(array1, array2)"
   ]
  },
  {
   "cell_type": "code",
   "execution_count": null,
   "id": "f3c863d9",
   "metadata": {},
   "outputs": [],
   "source": []
  },
  {
   "cell_type": "markdown",
   "id": "4bfeb87b",
   "metadata": {},
   "source": [
    "Q6. Before you buy a home, which numpy function will you use to measure your monthly mortgage payment?"
   ]
  },
  {
   "cell_type": "markdown",
   "id": "0e7eec92",
   "metadata": {},
   "source": [
    "Before buying a home, numpy does not have a specific function to directly calculate the monthly mortgage payment. However, numpy provides various mathematical functions that can be used in combination with other Python libraries or formulas to calculate the mortgage payment."
   ]
  },
  {
   "cell_type": "code",
   "execution_count": null,
   "id": "5db223f6",
   "metadata": {},
   "outputs": [],
   "source": [
    "M = P [ r(1+r)^n ] / [ (1+r)^n - 1 ]"
   ]
  },
  {
   "cell_type": "markdown",
   "id": "93567047",
   "metadata": {},
   "source": [
    "Where:\n",
    "\n",
    "M is the monthly mortgage payment\n",
    "P is the principal loan amount\n",
    "r is the monthly interest rate\n",
    "n is the total number of monthly payments"
   ]
  },
  {
   "cell_type": "code",
   "execution_count": 4,
   "id": "29f5bb1e",
   "metadata": {},
   "outputs": [
    {
     "name": "stdout",
     "output_type": "stream",
     "text": [
      "Monthly Mortgage Payment: 1013.3706196517716\n"
     ]
    }
   ],
   "source": [
    "import numpy as np\n",
    "\n",
    "# Loan details\n",
    "principal = 200000  \n",
    "annual_interest_rate = 4.5  \n",
    "loan_term_years = 30  \n",
    "\n",
    "monthly_interest_rate = annual_interest_rate / 100 / 12\n",
    "\n",
    "total_payments = loan_term_years * 12\n",
    "\n",
    "monthly_payment = principal * (monthly_interest_rate * (1 + monthly_interest_rate) ** total_payments) / ((1 + monthly_interest_rate) ** total_payments - 1)\n",
    "\n",
    "print(\"Monthly Mortgage Payment:\", monthly_payment)\n"
   ]
  },
  {
   "cell_type": "code",
   "execution_count": null,
   "id": "ac0b69fe",
   "metadata": {},
   "outputs": [],
   "source": []
  },
  {
   "cell_type": "markdown",
   "id": "1ff6c34a",
   "metadata": {},
   "source": [
    "Q7. Can string data be stored in numpy arrays? If so, list at least one restriction that applies to this data."
   ]
  },
  {
   "cell_type": "markdown",
   "id": "dd57ed70",
   "metadata": {},
   "source": [
    "\n",
    "Yes, string data can be stored in numpy arrays. However, there are certain restrictions that apply to string data in numpy arrays:\n",
    "\n",
    "Fixed-Length Strings: By default, numpy arrays have fixed-size data types, including fixed-length strings. This means that you need to specify the maximum length of the string when creating the array. All strings in the array will have the same length, which can lead to inefficient memory usage if the strings have varying lengths.\n",
    "\n",
    "Truncation: If you assign a string that exceeds the specified length for a fixed-length string array, numpy will automatically truncate the string to fit within the allocated length. This can result in loss of data if the original string is longer than the specified length.\n",
    "\n",
    "Object Arrays: To store strings of variable lengths or to handle longer strings, numpy provides an object data type. You can create an array with the dtype=object to store strings of different lengths. However, using object arrays can have performance implications compared to homogeneous arrays with fixed-size data types.\n",
    "\n",
    "Performance Considerations: Working with string data in numpy arrays can have performance implications compared to numeric data. String operations often involve more memory allocations and copying compared to numeric operations, which can impact the performance of array computations."
   ]
  }
 ],
 "metadata": {
  "kernelspec": {
   "display_name": "Python 3 (ipykernel)",
   "language": "python",
   "name": "python3"
  },
  "language_info": {
   "codemirror_mode": {
    "name": "ipython",
    "version": 3
   },
   "file_extension": ".py",
   "mimetype": "text/x-python",
   "name": "python",
   "nbconvert_exporter": "python",
   "pygments_lexer": "ipython3",
   "version": "3.10.9"
  }
 },
 "nbformat": 4,
 "nbformat_minor": 5
}
