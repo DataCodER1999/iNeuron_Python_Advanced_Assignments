{
 "cells": [
  {
   "cell_type": "markdown",
   "id": "59c12156",
   "metadata": {},
   "source": [
    "Q1. Can you create a programme or function that employs both positive and negative indexing? Is there any repercussion if you do so?"
   ]
  },
  {
   "cell_type": "code",
   "execution_count": 2,
   "id": "b6a971d5",
   "metadata": {},
   "outputs": [
    {
     "name": "stdout",
     "output_type": "stream",
     "text": [
      "Positive indexed substring: llo, W\n",
      "Negative indexed substring: W ,oll\n"
     ]
    }
   ],
   "source": [
    "def get_characters(string, start_pos, end_pos):\n",
    "    positive_indexed_chars = string[start_pos:end_pos]\n",
    "    negative_indexed_chars = string[start_pos:end_pos][::-1]\n",
    "    return positive_indexed_chars, negative_indexed_chars\n",
    "my_string = \"Hello, World!\"\n",
    "positive_result, negative_result = get_characters(my_string, 2, 8)\n",
    "print(\"Positive indexed substring:\", positive_result)  # \"llo, W\"\n",
    "print(\"Negative indexed substring:\", negative_result)  # \"W ,oll\""
   ]
  },
  {
   "cell_type": "markdown",
   "id": "fd637ba3",
   "metadata": {},
   "source": [
    "As for any repercussions, combining positive and negative indexing itself does not have any inherent negative consequences. However, it's important to be cautious when using negative indices to ensure they are within the valid range of the sequence. Negative indices that exceed the length of the sequence can lead to IndexError."
   ]
  },
  {
   "cell_type": "code",
   "execution_count": 4,
   "id": "0f8bb8bb",
   "metadata": {},
   "outputs": [
    {
     "name": "stdout",
     "output_type": "stream",
     "text": [
      " Worl\n"
     ]
    }
   ],
   "source": [
    "my_string = \"Hello, World!\"\n",
    "result = my_string[-7:-2]  # Using negative indices that exceed the length\n",
    "print(result)"
   ]
  },
  {
   "cell_type": "code",
   "execution_count": null,
   "id": "ed069c7e",
   "metadata": {},
   "outputs": [],
   "source": []
  },
  {
   "cell_type": "markdown",
   "id": "8842d952",
   "metadata": {},
   "source": [
    "Q2. What is the most effective way of starting with 1,000 elements in a Python list? Assume that all elements should be set to the same value."
   ]
  },
  {
   "cell_type": "markdown",
   "id": "4fe92544",
   "metadata": {},
   "source": [
    "To create a Python list with 1,000 elements, all set to the same value, you can use list comprehension or the multiplication operator.\n",
    "\n",
    "Using List Comprehension:\n",
    "List comprehension provides a concise way to create a list by iterating over a range of values and setting each element to the desired value."
   ]
  },
  {
   "cell_type": "code",
   "execution_count": 6,
   "id": "7e6555d4",
   "metadata": {},
   "outputs": [],
   "source": [
    "value = 42  # The desired value for all elements\n",
    "my_list = [value for _ in range(1000)]"
   ]
  },
  {
   "cell_type": "markdown",
   "id": "5003ba85",
   "metadata": {},
   "source": [
    "Using the Multiplication Operator:\n",
    "Another approach is to use the multiplication operator (*) to replicate a single-element list with the desired value."
   ]
  },
  {
   "cell_type": "code",
   "execution_count": 8,
   "id": "5e5a9ffa",
   "metadata": {},
   "outputs": [],
   "source": [
    "value = 42  # The desired value for all elements\n",
    "my_list = [value] * 1000"
   ]
  },
  {
   "cell_type": "code",
   "execution_count": null,
   "id": "f410495b",
   "metadata": {},
   "outputs": [],
   "source": []
  },
  {
   "cell_type": "markdown",
   "id": "91a77119",
   "metadata": {},
   "source": [
    "Q3. How do you slice a list to get any other part while missing the rest? (For example, suppose you want to make a new list with the elements first, third, fifth, seventh, and so on.)"
   ]
  },
  {
   "cell_type": "raw",
   "id": "e1203ab3",
   "metadata": {},
   "source": [
    "To slice a list and retrieve specific elements while skipping the rest, you can utilize the extended slice syntax in Python. The extended slice syntax allows you to specify a step value, which determines the increment between indices while slicing.\n",
    "\n",
    "In your example, if you want to create a new list with elements at odd indices (1st, 3rd, 5th, 7th, and so on), you can use a step value of 2."
   ]
  },
  {
   "cell_type": "code",
   "execution_count": 10,
   "id": "6ac136d4",
   "metadata": {},
   "outputs": [],
   "source": [
    "original_list = [1, 2, 3, 4, 5, 6, 7, 8, 9, 10]\n",
    "new_list = original_list[::2]"
   ]
  },
  {
   "cell_type": "code",
   "execution_count": null,
   "id": "7c83fc39",
   "metadata": {},
   "outputs": [],
   "source": []
  },
  {
   "cell_type": "markdown",
   "id": "abf1df90",
   "metadata": {},
   "source": [
    "Q4. Explain the distinctions between indexing and slicing."
   ]
  },
  {
   "cell_type": "markdown",
   "id": "286e919c",
   "metadata": {},
   "source": [
    "Indexing and slicing are both operations used to access elements or subsequences of a sequence (like a string, list, or tuple) in Python. However, there are key distinctions between indexing and slicing:\n",
    "\n",
    "Indexing:\n",
    "\n",
    "Indexing refers to accessing an individual element at a specific position within a sequence.\n",
    "It uses square brackets [] notation with the index value inside the brackets.\n",
    "Indexing starts from 0 for the first element and goes up to length - 1 for the last element of the sequence.\n",
    "Positive indices are used for accessing elements from the beginning of the sequence, while negative indices are used for accessing elements from the end of the sequence.\n",
    "Indexing returns a single element at the specified position."
   ]
  },
  {
   "cell_type": "code",
   "execution_count": 11,
   "id": "bf9e8e94",
   "metadata": {},
   "outputs": [
    {
     "name": "stdout",
     "output_type": "stream",
     "text": [
      "3\n"
     ]
    }
   ],
   "source": [
    "my_list = [1, 2, 3, 4, 5]\n",
    "element = my_list[2]  # Accessing the element at index 2\n",
    "print(element)  # Output: 3"
   ]
  },
  {
   "cell_type": "markdown",
   "id": "46b96975",
   "metadata": {},
   "source": [
    "Slicing:\n",
    "\n",
    "Slicing refers to extracting a subsequence or a portion of a sequence by specifying a range of indices.\n",
    "It uses the colon : notation inside the square brackets [] to indicate the start and end positions of the slice.\n",
    "Slicing allows you to extract multiple elements, creating a new sequence that includes all the elements within the specified range.\n",
    "Slicing includes the start index but excludes the end index. The resulting subsequence will include elements from the start index up to, but not including, the end index.\n",
    "Slicing can also include a step value, which determines the increment between indices, allowing you to skip elements or reverse the order of the subsequence.\n",
    "Slicing returns a new sequence (of the same type as the original) containing the specified portion of the original sequence."
   ]
  },
  {
   "cell_type": "code",
   "execution_count": 13,
   "id": "3174beaf",
   "metadata": {},
   "outputs": [
    {
     "name": "stdout",
     "output_type": "stream",
     "text": [
      "[2, 3, 4]\n"
     ]
    }
   ],
   "source": [
    "my_list = [1, 2, 3, 4, 5]\n",
    "subsequence = my_list[1:4]  # Slicing from index 1 to 4 (exclusive)\n",
    "print(subsequence)  # Output: [2, 3, 4]"
   ]
  },
  {
   "cell_type": "code",
   "execution_count": null,
   "id": "76f46b6b",
   "metadata": {},
   "outputs": [],
   "source": []
  },
  {
   "cell_type": "markdown",
   "id": "e45fa09f",
   "metadata": {},
   "source": [
    "Q5. What happens if one of the slicing expression's indexes is out of range?"
   ]
  },
  {
   "cell_type": "markdown",
   "id": "4902195a",
   "metadata": {},
   "source": [
    "\n",
    "If one of the slicing expression's indexes is out of range, Python will handle it by adjusting the index to the nearest valid value within the range of the sequence. Here's what happens in different scenarios:\n",
    "\n",
    "If the start index is out of range:\n",
    "\n",
    "If the start index is greater than the maximum valid index, an empty sequence (string, list, tuple) will be returned.\n",
    "If the start index is negative and its absolute value exceeds the length of the sequence, the start index will be adjusted to 0, effectively slicing from the beginning of the sequence.\n",
    "If the end index is out of range:\n",
    "\n",
    "If the end index is greater than the maximum valid index, the slice will include all elements up to the end of the sequence.\n",
    "If the end index is negative and its absolute value exceeds the length of the sequence, the end index will be adjusted to the maximum valid index, effectively slicing until the end of the sequence.\n",
    "If both the start and end indexes are out of range:\n",
    "\n",
    "If both the start and end indexes are out of range, the adjustments mentioned above will be applied to both indexes."
   ]
  },
  {
   "cell_type": "code",
   "execution_count": 16,
   "id": "ed15ff54",
   "metadata": {},
   "outputs": [
    {
     "name": "stdout",
     "output_type": "stream",
     "text": [
      "[]\n",
      "[1, 2, 3, 4, 5]\n",
      "[1, 2, 3, 4, 5]\n",
      "[]\n",
      "[]\n",
      "[]\n"
     ]
    }
   ],
   "source": [
    "my_list = [1, 2, 3, 4, 5]\n",
    "\n",
    "slice1 = my_list[10:]  \n",
    "slice2 = my_list[-10:]  \n",
    "\n",
    "slice3 = my_list[:10]  \n",
    "slice4 = my_list[:-10]  \n",
    "\n",
    "\n",
    "slice5 = my_list[10:20]  \n",
    "slice6 = my_list[-10:-20]  \n",
    "\n",
    "print(slice1)  \n",
    "print(slice2)  \n",
    "print(slice3)  \n",
    "print(slice4)  \n",
    "print(slice5)  \n",
    "print(slice6)  \n"
   ]
  },
  {
   "cell_type": "code",
   "execution_count": null,
   "id": "25fa9b19",
   "metadata": {},
   "outputs": [],
   "source": []
  },
  {
   "cell_type": "markdown",
   "id": "93a76e2e",
   "metadata": {},
   "source": [
    "Q6. If you pass a list to a function, and if you want the function to be able to change the values of the list—so that the list is different after the function returns—what action should you avoid?"
   ]
  },
  {
   "cell_type": "markdown",
   "id": "cd48f8af",
   "metadata": {},
   "source": [
    "If we pass a list to a function and you want the function to be able to change the values of the list, you should avoid reassigning the list parameter to a new list object within the function.\n",
    "\n",
    "In Python, when you pass a list as an argument to a function, it creates a reference to the same list object in memory. If you reassign the list parameter to a new list object within the function, it creates a local reference to that new list, effectively disconnecting it from the original list object. As a result, any modifications made to the new list will not affect the original list outside the function.\n",
    "\n",
    "To ensure that the function can change the values of the list and have those changes reflected outside the function, you should directly modify the elements of the list or use list methods that modify the list in-place."
   ]
  },
  {
   "cell_type": "code",
   "execution_count": 18,
   "id": "430b584c",
   "metadata": {},
   "outputs": [
    {
     "name": "stdout",
     "output_type": "stream",
     "text": [
      "['Modified', 2, 3, 4, 5, 100]\n"
     ]
    }
   ],
   "source": [
    "def modify_list(my_list):\n",
    "    my_list[0] = \"Modified\" \n",
    "    my_list.append(100)  \n",
    "\n",
    "my_list = [1, 2, 3, 4, 5]\n",
    "modify_list(my_list)\n",
    "print(my_list)  \n"
   ]
  },
  {
   "cell_type": "code",
   "execution_count": null,
   "id": "8fe3aa31",
   "metadata": {},
   "outputs": [],
   "source": []
  },
  {
   "cell_type": "markdown",
   "id": "b3104c39",
   "metadata": {},
   "source": [
    "Q7. What is the concept of an unbalanced matrix?"
   ]
  },
  {
   "cell_type": "markdown",
   "id": "ccadce07",
   "metadata": {},
   "source": [
    "\n",
    "The term \"unbalanced matrix\" is not commonly used in the context of matrices. However, there are a few interpretations that can be associated with this concept:\n",
    "\n",
    "In the context of linear algebra, an \"unbalanced matrix\" may refer to a matrix that does not have an equal number of rows and columns. Typically, matrices are square, meaning they have an equal number of rows and columns. In an unbalanced matrix, the number of rows and columns differs, resulting in an uneven or irregular shape.\n",
    "\n",
    "In the context of data analysis or computational algorithms, an \"unbalanced matrix\" may refer to a matrix that has an uneven distribution of values or elements across its rows or columns. This can happen when the matrix represents data that is imbalanced, skewed, or sparse, with a significant variation in the number of elements or values in different rows or columns."
   ]
  },
  {
   "cell_type": "code",
   "execution_count": null,
   "id": "8d0f783f",
   "metadata": {},
   "outputs": [],
   "source": []
  },
  {
   "cell_type": "markdown",
   "id": "6eab2894",
   "metadata": {},
   "source": [
    "Q8. Why is it necessary to use either list comprehension or a loop to create arbitrarily large matrices?"
   ]
  },
  {
   "cell_type": "markdown",
   "id": "889354ab",
   "metadata": {},
   "source": [
    "\n",
    "It is necessary to use either list comprehension or a loop to create arbitrarily large matrices in Python because these constructs provide the necessary mechanisms for dynamically generating and populating matrix elements based on a specified logic or pattern.\n",
    "\n",
    "Here are the reasons why list comprehension or loops are essential for creating large matrices:\n",
    "\n",
    "Dynamic creation: List comprehension and loops allow for the dynamic creation of matrix elements. They provide a way to generate the required number of rows and columns based on variables or conditions, enabling the creation of matrices of arbitrary sizes. This flexibility is crucial when you need to handle matrices with a variable or user-defined number of rows and columns.\n",
    "\n",
    "Element population: List comprehension and loops allow for the population of matrix elements based on specific rules or computations. They enable you to iterate over rows and columns and assign values to each element based on its position or relationships with other elements. This is particularly useful when you want to populate the matrix with a particular pattern, fill it with random values, or perform calculations on the fly to determine each element's value.\n",
    "\n",
    "Efficiency and memory management: List comprehension and loops provide efficient ways to create matrices as they allow for concise and optimized code. By using these constructs, you can generate and populate matrix elements in a streamlined manner, avoiding unnecessary memory consumption or repetitive code. They allow you to achieve better performance and memory management compared to manual element assignment or repetitive concatenation."
   ]
  },
  {
   "cell_type": "code",
   "execution_count": 20,
   "id": "68818e43",
   "metadata": {},
   "outputs": [
    {
     "data": {
      "text/plain": [
       "[[0, 1, 2, 3, 4],\n",
       " [5, 6, 7, 8, 9],\n",
       " [10, 11, 12, 13, 14],\n",
       " [15, 16, 17, 18, 19],\n",
       " [20, 21, 22, 23, 24]]"
      ]
     },
     "execution_count": 20,
     "metadata": {},
     "output_type": "execute_result"
    }
   ],
   "source": [
    "matrix = [[i + j for j in range(5)] for i in range(0, 25, 5)]\n",
    "matrix"
   ]
  },
  {
   "cell_type": "code",
   "execution_count": null,
   "id": "2539caff",
   "metadata": {},
   "outputs": [],
   "source": []
  }
 ],
 "metadata": {
  "kernelspec": {
   "display_name": "Python 3 (ipykernel)",
   "language": "python",
   "name": "python3"
  },
  "language_info": {
   "codemirror_mode": {
    "name": "ipython",
    "version": 3
   },
   "file_extension": ".py",
   "mimetype": "text/x-python",
   "name": "python",
   "nbconvert_exporter": "python",
   "pygments_lexer": "ipython3",
   "version": "3.10.9"
  }
 },
 "nbformat": 4,
 "nbformat_minor": 5
}
