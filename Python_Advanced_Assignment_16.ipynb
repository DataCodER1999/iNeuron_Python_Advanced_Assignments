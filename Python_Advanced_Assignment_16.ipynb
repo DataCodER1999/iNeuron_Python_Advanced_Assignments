{
 "cells": [
  {
   "cell_type": "markdown",
   "id": "ea71c349",
   "metadata": {},
   "source": [
    "Q1. What is the benefit of regular expressions?"
   ]
  },
  {
   "cell_type": "markdown",
   "id": "b5a7a24a",
   "metadata": {},
   "source": [
    "Regular expressions provide several benefits in programming and text processing tasks:\n",
    "\n",
    "Pattern Matching: Regular expressions allow you to search, match, and manipulate text based on specific patterns. They provide a powerful and flexible way to search for patterns in strings, such as matching certain characters, words, or complex patterns like email addresses or URLs. This ability to find and match patterns is crucial for tasks like data validation, text extraction, and data cleaning.\n",
    "\n",
    "Text Manipulation: Regular expressions enable you to perform advanced text manipulation operations, such as search and replace, splitting strings, or extracting specific portions of text. By defining patterns and using capturing groups, you can extract specific information from strings and transform the text according to your needs.\n",
    "\n",
    "Efficiency and Speed: Regular expressions are optimized for efficiency and can perform complex pattern matching operations quickly. They are implemented using efficient algorithms, such as finite automata or backtracking, which allow for fast matching and searching even on large datasets.\n",
    "\n",
    "Language Agnostic: Regular expressions are supported in many programming languages, making them a portable and widely applicable tool. Once you learn the regular expression syntax, you can apply it in various programming languages, text editors, command-line tools, and other environments.\n",
    "\n",
    "Compact and Concise: Regular expressions provide a concise and compact syntax for representing complex patterns. This can lead to more readable and maintainable code compared to manually implementing string processing logic. Regular expressions allow you to express intricate patterns in a concise manner, reducing the amount of code needed and making it easier to understand and modify.\n",
    "\n",
    "Standardized Syntax: Regular expressions follow a standardized syntax defined by POSIX or PCRE (Perl Compatible Regular Expressions). This syntax ensures consistency across different tools and implementations, allowing you to transfer your knowledge and patterns between different platforms and programming languages."
   ]
  },
  {
   "cell_type": "code",
   "execution_count": null,
   "id": "9ab2a12b",
   "metadata": {},
   "outputs": [],
   "source": []
  },
  {
   "cell_type": "markdown",
   "id": "f3799b36",
   "metadata": {},
   "source": [
    "\n",
    "Q2. Describe the difference between the effects of \"(ab)c+\" and \"a(bc)+.\" Which of these, if any, is the unqualified pattern \"abc+\"?\n"
   ]
  },
  {
   "cell_type": "markdown",
   "id": "857bc41c",
   "metadata": {},
   "source": [
    "The regular expressions \"(ab)c+\" and \"a(bc)+\" have different effects and match different patterns:\n",
    "\n",
    "\"(ab)c+\":\n",
    "\n",
    "This regular expression matches strings that start with the characters \"ab\" followed by one or more occurrences of the letter \"c\". The parentheses around \"ab\" create a capturing group, allowing you to extract the \"ab\" portion if needed. The \"+\" quantifier specifies that the \"c\" must appear one or more times.\n",
    "Example matches: \"abc\", \"abcc\", \"abccc\"\n",
    "Example non-matches: \"ab\", \"ac\", \"abbc\"\n",
    "\"a(bc)+\":\n",
    "\n",
    "This regular expression matches strings that start with the letter \"a\" followed by one or more occurrences of the group \"bc\". The parentheses around \"bc\" create a capturing group, allowing you to extract the \"bc\" portion if needed. The \"+\" quantifier applies to the entire group, indicating that the \"bc\" must appear one or more times.\n",
    "Example matches: \"abc\", \"abcbc\", \"abcbcbc\"\n",
    "Example non-matches: \"a\", \"ab\", \"ac\"\n",
    "As for the unqualified pattern \"abc+\", it refers to the regular expression \"abc+\". Here's its meaning:\n",
    "\n",
    "\"abc+\":\n",
    "This regular expression matches strings that start with the characters \"ab\" followed by one or more occurrences of the letter \"c\". The \"+\" quantifier specifies that the \"c\" must appear one or more times.\n",
    "Example matches: \"abc\", \"abcc\", \"abccc\"\n",
    "Example non-matches: \"ab\", \"ac\", \"abcd\""
   ]
  },
  {
   "cell_type": "code",
   "execution_count": null,
   "id": "517ac466",
   "metadata": {},
   "outputs": [],
   "source": []
  },
  {
   "cell_type": "markdown",
   "id": "4745b3bf",
   "metadata": {},
   "source": [
    "Q3. How much do you need to use the following sentence while using regular expressions?\n",
    "\n",
    "import re"
   ]
  },
  {
   "cell_type": "markdown",
   "id": "0e96f2f8",
   "metadata": {},
   "source": [
    "The sentence \"import re\" is typically used at the beginning of Python code when you want to import the regular expression module, re. The re module provides functions and methods for working with regular expressions in Python.\n",
    "\n",
    "When using regular expressions, the \"import re\" statement is necessary to make the regular expression functionality available in your code. Once you have imported the re module, you can use its functions and methods to perform various operations like pattern matching, search and replace, splitting strings, and more."
   ]
  },
  {
   "cell_type": "code",
   "execution_count": 2,
   "id": "523a74f5",
   "metadata": {},
   "outputs": [
    {
     "name": "stdout",
     "output_type": "stream",
     "text": [
      "['Hello', 'World', 'This', 'is', 'a', 'sample', 'text']\n"
     ]
    }
   ],
   "source": [
    "import re\n",
    "\n",
    "pattern = r'\\b[A-Za-z]+\\b'\n",
    "text = \"Hello, World! This is a sample text.\"\n",
    "matches = re.findall(pattern, text)\n",
    "print(matches)  "
   ]
  },
  {
   "cell_type": "code",
   "execution_count": null,
   "id": "a7912b6c",
   "metadata": {},
   "outputs": [],
   "source": []
  },
  {
   "cell_type": "markdown",
   "id": "c8e12a9a",
   "metadata": {},
   "source": [
    "\n",
    "Q4. Which characters have special significance in square brackets when expressing a range, and under what circumstances?\n"
   ]
  },
  {
   "cell_type": "markdown",
   "id": "fc22c86f",
   "metadata": {},
   "source": [
    "When expressing a range within square brackets in a regular expression, certain characters have special significance depending on the circumstances. Here are the characters with special meaning when used in square brackets:\n",
    "\n",
    "Hyphen (-):\n",
    "\n",
    "The hyphen has special significance when it is placed between two characters inside square brackets. It denotes a character range between those two characters.\n",
    "For example, [a-z] represents any lowercase letter from 'a' to 'z', [0-9] represents any digit from 0 to 9, and [A-Za-z] represents any uppercase or lowercase letter.\n",
    "Caret (^):\n",
    "\n",
    "The caret has special significance when it is placed at the beginning of the square brackets (outside the brackets, it has a different meaning).\n",
    "When used at the beginning, it negates the character set, indicating that you want to match any character except the ones specified within the square brackets.\n",
    "For example, [^0-9] matches any character that is not a digit, [^a-zA-Z] matches any character that is not an uppercase or lowercase letter.\n",
    "Backslash ():\n",
    "\n",
    "The backslash has special meaning when used before certain characters inside square brackets. It can be used to escape the special meaning of those characters and treat them as literal characters.\n",
    "For example, if you want to match a literal hyphen or caret character, you can use \\- or \\^ within square brackets to escape their special meaning"
   ]
  },
  {
   "cell_type": "code",
   "execution_count": null,
   "id": "8d5df47d",
   "metadata": {},
   "outputs": [],
   "source": []
  },
  {
   "cell_type": "markdown",
   "id": "3894a16e",
   "metadata": {},
   "source": [
    "Q5. How does compiling a regular-expression object benefit you?"
   ]
  },
  {
   "cell_type": "markdown",
   "id": "e796641f",
   "metadata": {},
   "source": [
    "Compiling a regular expression object in Python provides several benefits:\n",
    "\n",
    "Improved Performance: Compiling a regular expression object can significantly improve the performance of pattern matching operations. When you compile a regular expression, Python translates the pattern into an optimized internal representation. This compiled representation allows for faster execution when applying the pattern to match against text. If you need to perform the same pattern matching operation multiple times, compiling the regular expression upfront can save execution time.\n",
    "\n",
    "Reusability: Once you have compiled a regular expression object, you can reuse it multiple times without the need to recompile the pattern. This is particularly useful when you have a complex or frequently used pattern. By compiling it once and storing the compiled object, you can avoid repetitive compilation and improve the efficiency of your code.\n",
    "\n",
    "Readability: By compiling a regular expression object, you can give it a descriptive name and assign it to a variable. This improves code readability and makes it easier to understand the purpose of the pattern. It also allows you to use the compiled object in a more expressive manner, enhancing code readability and maintainability.\n",
    "\n",
    "Error Handling: When you compile a regular expression object, Python checks the syntax of the pattern and raises a re.error exception if there are any syntax errors. This helps you catch potential errors early in the development process and allows for better error handling and debugging."
   ]
  },
  {
   "cell_type": "code",
   "execution_count": 4,
   "id": "7ca16939",
   "metadata": {},
   "outputs": [
    {
     "name": "stdout",
     "output_type": "stream",
     "text": [
      "['Hello', 'World']\n",
      "['This', 'is', 'a', 'sample', 'text']\n"
     ]
    }
   ],
   "source": [
    "import re\n",
    "\n",
    "pattern = r'\\b[A-Za-z]+\\b'\n",
    "\n",
    "compiled_pattern = re.compile(pattern)\n",
    "\n",
    "text1 = \"Hello, World!\"\n",
    "text2 = \"This is a sample text.\"\n",
    "matches1 = compiled_pattern.findall(text1)\n",
    "matches2 = compiled_pattern.findall(text2)\n",
    "\n",
    "print(matches1) \n",
    "print(matches2)  \n"
   ]
  },
  {
   "cell_type": "code",
   "execution_count": null,
   "id": "9d9a790f",
   "metadata": {},
   "outputs": [],
   "source": []
  },
  {
   "cell_type": "markdown",
   "id": "2f4cce4d",
   "metadata": {},
   "source": [
    "Q6. What are some examples of how to use the match object returned by re.match and re.search?"
   ]
  },
  {
   "cell_type": "markdown",
   "id": "350b5f55",
   "metadata": {},
   "source": [
    "\n",
    "When using the re.match() and re.search() functions in Python, you get a match object as the result. The match object provides various methods and attributes to extract information about the match. Here are some examples of how to use the match object returned by re.match() and re.search():\n",
    "\n",
    "Accessing the matched string:\n",
    "\n",
    "The group() method returns the string that matched the regular expression pattern."
   ]
  },
  {
   "cell_type": "code",
   "execution_count": 5,
   "id": "f9b06fd7",
   "metadata": {},
   "outputs": [
    {
     "name": "stdout",
     "output_type": "stream",
     "text": [
      "Hello\n"
     ]
    }
   ],
   "source": [
    "import re\n",
    "\n",
    "text = \"Hello, World!\"\n",
    "pattern = r\"Hello\"\n",
    "\n",
    "match = re.match(pattern, text)\n",
    "if match:\n",
    "    print(match.group()) "
   ]
  },
  {
   "cell_type": "markdown",
   "id": "d888df65",
   "metadata": {},
   "source": [
    "Extracting captured groups:\n",
    "\n",
    "If your regular expression pattern contains capturing groups defined by parentheses, you can use the group() method with an argument to access the captured groups."
   ]
  },
  {
   "cell_type": "code",
   "execution_count": 7,
   "id": "8269661f",
   "metadata": {},
   "outputs": [
    {
     "name": "stdout",
     "output_type": "stream",
     "text": [
      "John Doe\n",
      "John\n",
      "Doe\n"
     ]
    }
   ],
   "source": [
    "import re\n",
    "\n",
    "text = \"John Doe\"\n",
    "pattern = r\"(John) (Doe)\"\n",
    "\n",
    "match = re.match(pattern, text)\n",
    "if match:\n",
    "    print(match.group(0))\n",
    "    print(match.group(1))  \n",
    "    print(match.group(2))  \n"
   ]
  },
  {
   "cell_type": "markdown",
   "id": "1b943941",
   "metadata": {},
   "source": [
    "Getting the start and end positions:\n",
    "\n",
    "The start() and end() methods return the start and end positions of the matched string within the input text."
   ]
  },
  {
   "cell_type": "code",
   "execution_count": 9,
   "id": "2c374bc3",
   "metadata": {},
   "outputs": [
    {
     "name": "stdout",
     "output_type": "stream",
     "text": [
      "7\n",
      "12\n"
     ]
    }
   ],
   "source": [
    "import re\n",
    "\n",
    "text = \"Hello, World!\"\n",
    "pattern = r\"World\"\n",
    "\n",
    "match = re.search(pattern, text)\n",
    "if match:\n",
    "    print(match.start())  \n",
    "    print(match.end())    \n"
   ]
  },
  {
   "cell_type": "markdown",
   "id": "e8bc7c10",
   "metadata": {},
   "source": [
    "Retrieving multiple matches:\n",
    "\n",
    "If your regular expression pattern has multiple matches within the text, you can use the finditer() method to iterate over all matches. Each iteration provides a match object, allowing you to access information about each match."
   ]
  },
  {
   "cell_type": "code",
   "execution_count": 11,
   "id": "c89715ce",
   "metadata": {},
   "outputs": [
    {
     "name": "stdout",
     "output_type": "stream",
     "text": [
      "over\n",
      "lazy\n"
     ]
    }
   ],
   "source": [
    "import re\n",
    "\n",
    "text = \"The quick brown fox jumps over the lazy dog.\"\n",
    "pattern = r\"\\b\\w{4}\\b\"\n",
    "\n",
    "matches = re.finditer(pattern, text)\n",
    "for match in matches:\n",
    "    print(match.group())  \n"
   ]
  },
  {
   "cell_type": "code",
   "execution_count": null,
   "id": "f4946993",
   "metadata": {},
   "outputs": [],
   "source": []
  },
  {
   "cell_type": "markdown",
   "id": "cc5b7f15",
   "metadata": {},
   "source": [
    "Q7. What is the difference between using a vertical bar (|) as an alteration and using square brackets as a character set?"
   ]
  },
  {
   "cell_type": "markdown",
   "id": "44b44c4e",
   "metadata": {},
   "source": [
    "\n",
    "The vertical bar (|) and square brackets ([]), when used in regular expressions, serve different purposes:\n",
    "\n",
    "Vertical Bar (|) as an Alteration:\n",
    "\n",
    "The vertical bar is used as an alteration or alternation operator in regular expressions. It allows you to specify multiple alternative patterns, and it matches any one of the provided patterns.\n",
    "For example, the pattern cat|dog matches either \"cat\" or \"dog\". It tries to match the leftmost alternative first and proceeds to the next alternative if the previous one fails.\n",
    "The vertical bar is used to create a logical OR condition between the alternatives.\n",
    "Example: cat|dog matches \"cat\" in the input string \"I have a cat\" and matches \"dog\" in the input string \"I love dogs\".\n",
    "Square Brackets ([]) as a Character Set:\n",
    "\n",
    "Square brackets are used to define a character set or character class in regular expressions. They allow you to specify a set of characters from which a single character is matched.\n",
    "For example, the pattern [aeiou] matches any lowercase vowel character. It matches any single occurrence of \"a\", \"e\", \"i\", \"o\", or \"u\".\n",
    "Square brackets can also specify ranges of characters using a hyphen (-) inside the brackets. For example, [a-z] matches any lowercase letter from \"a\" to \"z\".\n",
    "Square brackets match a single character at the specified position in the input string.\n",
    "Example: [aeiou] matches the \"a\" in the input string \"apple\" and matches the \"o\" in the input string \"orange\"."
   ]
  },
  {
   "cell_type": "code",
   "execution_count": null,
   "id": "8f0846b6",
   "metadata": {},
   "outputs": [],
   "source": []
  },
  {
   "cell_type": "markdown",
   "id": "3699612d",
   "metadata": {},
   "source": [
    "Q8. In regular-expression search patterns, why is it necessary to use the raw-string indicator (r)? In   replacement strings?"
   ]
  },
  {
   "cell_type": "markdown",
   "id": "a4e059f2",
   "metadata": {},
   "source": [
    "In regular expression search patterns, it is common to use the raw-string indicator (r) to create raw string literals. Similarly, in replacement strings, the raw-string indicator is also used. Here's why it is necessary to use the raw-string indicator in both cases:\n",
    "\n",
    "Regular Expression Search Patterns:\n",
    "\n",
    "Regular expressions often contain backslashes () to represent special characters or escape sequences. For example, \\d represents a digit, \\s represents whitespace, and \\w represents a word character.\n",
    "By using a raw string literal (prefixed with r), backslashes are treated as literal characters and are not interpreted as escape sequences. This is important because regular expressions frequently use backslashes, and you want to avoid any unintended interpretation of the backslashes as escape sequences.\n",
    "For example, r'\\d+' represents a raw string pattern matching one or more digits. Without the raw-string indicator, the pattern would need to be written as '\\\\d+' to escape the backslash.\n",
    "Replacement Strings:\n",
    "\n",
    "In replacement strings, backslashes () are often used for backreferences or special replacement sequences. For example, \\1 refers to the first captured group, and \\g<name> refers to a named captured group.\n",
    "By using a raw string literal for replacement strings, backslashes are treated as literal characters and are not processed as escape sequences. This ensures that backreferences and special replacement sequences are interpreted correctly.\n",
    "For example, r'\\1-\\g<name>' represents a raw replacement string where \\1 and \\g<name> will be replaced with the appropriate captured groups. Without the raw-string indicator, the replacement string would need additional escaping, such as '\\\\1-\\\\g<name>'."
   ]
  }
 ],
 "metadata": {
  "kernelspec": {
   "display_name": "Python 3 (ipykernel)",
   "language": "python",
   "name": "python3"
  },
  "language_info": {
   "codemirror_mode": {
    "name": "ipython",
    "version": 3
   },
   "file_extension": ".py",
   "mimetype": "text/x-python",
   "name": "python",
   "nbconvert_exporter": "python",
   "pygments_lexer": "ipython3",
   "version": "3.10.9"
  }
 },
 "nbformat": 4,
 "nbformat_minor": 5
}
