{
 "cells": [
  {
   "cell_type": "markdown",
   "id": "a7d3cc33",
   "metadata": {},
   "source": [
    "Q1. Define the relationship between a class and its instances. Is it a one-to-one or a one-to-many partnership, for example?"
   ]
  },
  {
   "cell_type": "markdown",
   "id": "1e98be4b",
   "metadata": {},
   "source": [
    "The relationship between a class and its instances in object-oriented programming can be described as a one-to-many partnership.\n",
    "\n",
    "A class serves as a blueprint or template that defines the common properties and behaviors of a certain type of objects. It specifies the attributes (data) and methods (functions) that the objects of that class will possess. The class acts as a blueprint for creating multiple instances or objects.\n",
    "\n",
    "On the other hand, instances are individual objects created from the class. Each instance represents a unique occurrence of the class with its own distinct state and data. The instances inherit the attributes and behaviors defined by the class but can have their own specific values for the attributes."
   ]
  },
  {
   "cell_type": "code",
   "execution_count": null,
   "id": "f80a2c2b",
   "metadata": {},
   "outputs": [],
   "source": []
  },
  {
   "cell_type": "markdown",
   "id": "b19ae5ba",
   "metadata": {},
   "source": [
    "Q2. What kind of data is held only in an instance?"
   ]
  },
  {
   "cell_type": "markdown",
   "id": "9f6334d4",
   "metadata": {},
   "source": [
    "\n",
    "In object-oriented programming, an instance holds data that is specific to that particular instance and is distinct from other instances of the same class. This data is commonly referred to as instance data or instance variables.\n",
    "\n",
    "Instance data represents the state of an individual object and can vary from one instance to another. Each instance of a class has its own set of instance variables, which are independent of other instances. These variables can have different values assigned to them, allowing each instance to maintain its unique state.\n",
    "\n",
    "Instance data is typically defined within the class and accessed through the instances using the dot notation. It can represent various types of information associated with an object, such as properties, attributes, or characteristics specific to that instance."
   ]
  },
  {
   "cell_type": "code",
   "execution_count": 3,
   "id": "22fd7142",
   "metadata": {},
   "outputs": [],
   "source": [
    "class Car:\n",
    "    def __init__(self, brand, model, color):\n",
    "        self.brand = brand\n",
    "        self.model = model\n",
    "        self.color = color\n",
    "car1 = Car(\"Toyota\", \"Camry\", \"Blue\")\n",
    "car2 = Car(\"Honda\", \"Accord\", \"Red\")"
   ]
  },
  {
   "cell_type": "code",
   "execution_count": null,
   "id": "7db18002",
   "metadata": {},
   "outputs": [],
   "source": []
  },
  {
   "cell_type": "markdown",
   "id": "b984c836",
   "metadata": {},
   "source": [
    "Q3. What kind of knowledge is stored in a class?"
   ]
  },
  {
   "cell_type": "markdown",
   "id": "e85701dc",
   "metadata": {},
   "source": [
    "In object-oriented programming, a class stores knowledge about the structure, behavior, and characteristics of objects that belong to that class. It serves as a blueprint or template for creating instances of that class.\n",
    "\n",
    "The knowledge stored in a class includes:\n",
    "\n",
    "Attributes or Data: A class defines the attributes or data that objects of that class possess. These attributes represent the state or properties of the objects. They can be variables that hold specific values or references to other objects. Attributes can have different data types and represent various aspects of the object's state.\n",
    "\n",
    "Methods or Functions: A class contains methods or functions that define the behavior of the objects. Methods are functions that are associated with the class and can operate on the object's attributes. They define the actions or operations that objects of that class can perform. Methods can manipulate the object's state, interact with other objects, or provide specific functionality related to the class.\n",
    "\n",
    "Constructors and Destructors: A class can have a constructor method that is responsible for initializing the object's attributes when an instance is created. Constructors ensure that objects start with a valid and consistent state. Additionally, a class may define a destructor method that is called when an instance is destroyed or goes out of scope. Destructors can perform cleanup tasks or release resources associated with the object.\n",
    "\n",
    "Class Variables: In addition to instance-specific attributes, a class can also define class variables. Class variables are shared among all instances of the class and can hold data or state that is common to all objects of that class.\n",
    "\n",
    "Inheritance and Polymorphism: Classes can participate in inheritance hierarchies, where a class inherits attributes and methods from its parent or base class. Inheritance allows classes to inherit and reuse the knowledge defined in higher-level classes. Polymorphism allows objects of different classes to be treated as objects of a common base class, enabling code reuse and flexibility."
   ]
  },
  {
   "cell_type": "code",
   "execution_count": null,
   "id": "1f5737bd",
   "metadata": {},
   "outputs": [],
   "source": []
  },
  {
   "cell_type": "markdown",
   "id": "b5c1b360",
   "metadata": {},
   "source": [
    "Q4. What exactly is a method, and how is it different from a regular function?"
   ]
  },
  {
   "cell_type": "markdown",
   "id": "ed898f9b",
   "metadata": {},
   "source": [
    "In object-oriented programming, a method is a function that is associated with a class or an object. It defines the behavior and actions that objects of a particular class can perform. Methods are a way to encapsulate code and logic within a class, allowing objects to interact with their own data and manipulate their state.\n",
    "\n",
    "Here are some key points about methods and their differences from regular functions:\n",
    "\n",
    "Associated with a Class or Object: Methods are defined within a class and are associated with that class or its instances (objects). They operate on the data and attributes of the class or its instances, allowing them to perform actions or provide specific functionality related to the class.\n",
    "\n",
    "Access to Object's State: Methods have access to the internal state of an object, including its attributes and other methods. They can manipulate the object's state, read and modify its attributes, and invoke other methods within the same class.\n",
    "\n",
    "Self Parameter: Methods typically have a special parameter named self as the first parameter. This parameter represents the instance (object) on which the method is invoked. It allows the method to access the instance's attributes and perform operations specific to that instance."
   ]
  },
  {
   "cell_type": "code",
   "execution_count": null,
   "id": "5c11c1b0",
   "metadata": {},
   "outputs": [],
   "source": []
  },
  {
   "cell_type": "markdown",
   "id": "aa6964bd",
   "metadata": {},
   "source": [
    "Q5. Is inheritance supported in Python, and if so, what is the syntax?"
   ]
  },
  {
   "cell_type": "markdown",
   "id": "cca3907e",
   "metadata": {},
   "source": [
    "Yes, inheritance is supported in Python. It is a fundamental feature of object-oriented programming that allows classes to inherit attributes and methods from parent or base classes."
   ]
  },
  {
   "cell_type": "code",
   "execution_count": 5,
   "id": "82d6a060",
   "metadata": {},
   "outputs": [
    {
     "name": "stdout",
     "output_type": "stream",
     "text": [
      "Woof!\n",
      "Meow!\n"
     ]
    }
   ],
   "source": [
    "class Animal:\n",
    "    def __init__(self, name):\n",
    "        self.name = name\n",
    "\n",
    "    def speak(self):\n",
    "        print(\"Animal speaks\")\n",
    "\n",
    "class Dog(Animal):\n",
    "    def __init__(self, name):\n",
    "        super().__init__(name)\n",
    "\n",
    "    def speak(self):\n",
    "        print(\"Woof!\")\n",
    "\n",
    "class Cat(Animal):\n",
    "    def __init__(self, name):\n",
    "        super().__init__(name)\n",
    "\n",
    "    def speak(self):\n",
    "        print(\"Meow!\")\n",
    "\n",
    "dog = Dog(\"Buddy\")\n",
    "cat = Cat(\"Whiskers\")\n",
    "\n",
    "dog.speak()  \n",
    "cat.speak()  \n"
   ]
  },
  {
   "cell_type": "code",
   "execution_count": null,
   "id": "a3d00a05",
   "metadata": {},
   "outputs": [],
   "source": []
  },
  {
   "cell_type": "markdown",
   "id": "de4eddb9",
   "metadata": {},
   "source": [
    "Q6. How much encapsulation (making instance or class variables private) does Python support?"
   ]
  },
  {
   "cell_type": "markdown",
   "id": "745146e7",
   "metadata": {},
   "source": [
    "In Python, encapsulation is supported to a certain extent through naming conventions and access modifiers. However, Python follows a principle called \"we are all consenting adults\" that emphasizes developer responsibility and encourages a more relaxed approach to encapsulation compared to some other programming languages.\n",
    "\n",
    "Python does not provide strict access modifiers like \"private\" or \"protected\" keywords found in languages like Java. Instead, it uses naming conventions to indicate the intended visibility of variables and methods. By convention, a single underscore prefix (e.g., _variable) is used to indicate that an attribute or method is intended for internal use within a class or module. It suggests that the attribute or method is not intended to be accessed directly from outside the class or module, although it can still be accessed if desired."
   ]
  },
  {
   "cell_type": "code",
   "execution_count": 7,
   "id": "589dd6f6",
   "metadata": {},
   "outputs": [],
   "source": [
    "class MyClass:\n",
    "    def __init__(self):\n",
    "        self._internal_variable = 42\n",
    "\n",
    "    def _internal_method(self):\n",
    "        return self._internal_variable * 2\n"
   ]
  },
  {
   "cell_type": "markdown",
   "id": "f1d5af88",
   "metadata": {},
   "source": [
    "Python also uses a double underscore prefix (e.g., __variable) for name mangling. This mechanism is used to avoid naming conflicts in subclasses. It changes the name of the variable to include the class name as a prefix, making it harder to accidentally override the variable in a subclass."
   ]
  },
  {
   "cell_type": "code",
   "execution_count": 6,
   "id": "07544427",
   "metadata": {},
   "outputs": [
    {
     "name": "stdout",
     "output_type": "stream",
     "text": [
      "24\n"
     ]
    }
   ],
   "source": [
    "class Parent:\n",
    "    def __init__(self):\n",
    "        self.__variable = 42\n",
    "\n",
    "class Child(Parent):\n",
    "    def __init__(self):\n",
    "        super().__init__()\n",
    "        self.__variable = 24\n",
    "\n",
    "child = Child()\n",
    "print(child._Child__variable)  "
   ]
  },
  {
   "cell_type": "code",
   "execution_count": null,
   "id": "046594c5",
   "metadata": {},
   "outputs": [],
   "source": []
  },
  {
   "cell_type": "markdown",
   "id": "7dc05a09",
   "metadata": {},
   "source": [
    "Q7. How do you distinguish between a class variable and an instance variable?"
   ]
  },
  {
   "cell_type": "markdown",
   "id": "86715956",
   "metadata": {},
   "source": [
    "In Python, class variables and instance variables are distinguished based on their scope and usage within a class.\n",
    "\n",
    "Class Variables:\n",
    "\n",
    "Class variables are defined within a class but outside of any instance methods.\n",
    "They are shared among all instances of the class, meaning their values are common across all objects.\n",
    "Class variables are typically used to define attributes or data that are common to all instances of the class.\n",
    "They are accessed using the class name itself or through any instance of the class.\n",
    "Class variables can be accessed and modified by any instance of the class, as well as through the class itself.\n",
    "Class variables are defined outside of any methods and are typically placed at the top of the class definition."
   ]
  },
  {
   "cell_type": "code",
   "execution_count": 9,
   "id": "afec4718",
   "metadata": {},
   "outputs": [],
   "source": [
    "class MyClass:\n",
    "    class_variable = 10\n",
    "\n",
    "    def __init__(self, instance_variable):\n",
    "        self.instance_variable = instance_variable"
   ]
  },
  {
   "cell_type": "markdown",
   "id": "0e3297da",
   "metadata": {},
   "source": [
    "Instance Variables:\n",
    "\n",
    "Instance variables are specific to each instance of a class. They represent the unique state of each object.\n",
    "They are defined within the instance methods or the constructor (__init__) of the class, using the self parameter.\n",
    "Each instance of the class has its own set of instance variables, which are independent of other instances.\n",
    "Instance variables are used to store and manipulate data that varies from one object to another.\n",
    "They are accessed and modified through the instance itself using the self keyword."
   ]
  },
  {
   "cell_type": "code",
   "execution_count": 8,
   "id": "269b8b1f",
   "metadata": {},
   "outputs": [],
   "source": [
    "class MyClass:\n",
    "    class_variable = 10\n",
    "\n",
    "    def __init__(self, instance_variable):\n",
    "        self.instance_variable = instance_variable"
   ]
  },
  {
   "cell_type": "code",
   "execution_count": null,
   "id": "18f3dad0",
   "metadata": {},
   "outputs": [],
   "source": []
  },
  {
   "cell_type": "markdown",
   "id": "edd3c6b4",
   "metadata": {},
   "source": [
    "Q8. When, if ever, can self be included in a class's method definitions?"
   ]
  },
  {
   "cell_type": "markdown",
   "id": "73bee853",
   "metadata": {},
   "source": [
    "In Python, the self parameter is included in a class's method definitions to refer to the instance of the class on which the method is being called. It is a common convention to use the name self, although other names can be used as well (but self is strongly recommended for readability and consistency).\n",
    "\n",
    "The self parameter allows methods to access and manipulate the instance's attributes and perform actions specific to that particular instance. It is automatically passed as the first parameter to instance methods when the method is called on an object.\n",
    "\n",
    "In most cases, the self parameter should be included in the method definition of an instance method. This ensures that the method has access to the instance's attributes and can operate on them. It allows methods to maintain the state of the object, retrieve and modify attributes, call other instance methods, and perform various operations specific to that instance."
   ]
  },
  {
   "cell_type": "code",
   "execution_count": 11,
   "id": "b3aa1485",
   "metadata": {},
   "outputs": [
    {
     "name": "stdout",
     "output_type": "stream",
     "text": [
      "10\n",
      "20\n"
     ]
    }
   ],
   "source": [
    "class MyClass:\n",
    "    def __init__(self, value):\n",
    "        self.value = value\n",
    "\n",
    "    def display(self):\n",
    "        print(self.value)\n",
    "\n",
    "    def update_value(self, new_value):\n",
    "        self.value = new_value\n",
    "\n",
    "obj = MyClass(10)\n",
    "\n",
    "obj.display() \n",
    "\n",
    "obj.update_value(20)\n",
    "obj.display() \n"
   ]
  },
  {
   "cell_type": "code",
   "execution_count": null,
   "id": "c175d6fd",
   "metadata": {},
   "outputs": [],
   "source": []
  },
  {
   "cell_type": "markdown",
   "id": "c93e2ccf",
   "metadata": {},
   "source": [
    "Q9. What is the difference between the _ _add_ _ and the _ _radd_ _ methods?"
   ]
  },
  {
   "cell_type": "markdown",
   "id": "674c1574",
   "metadata": {},
   "source": [
    "The __add__ and __radd__ methods in Python are special methods that define the behavior of the addition operator (+) when used with instances of a class. The main difference between them lies in the order of operand evaluation.\n",
    "\n",
    "__add__ (Addition Operator):\n",
    "\n",
    "The __add__ method is invoked when the addition operator (+) is used with an instance of a class as the left operand.\n",
    "It defines the behavior for adding the instance to another object.\n",
    "If the left operand's class implements the __add__ method, it is called and passed the right operand as an argument.\n",
    "The __add__ method is responsible for performing the addition operation and returning the result.\n",
    "If the __add__ method is not implemented or supported, a TypeError is raised.\n",
    "\n",
    "__radd__ (Right-Side Addition):\n",
    "\n",
    "The __radd__ method is invoked when the addition operator (+) is used with an instance of a class as the right operand.\n",
    "It defines the behavior for adding the object to the left operand.\n",
    "If the right operand's class does not implement the __add__ method or if it returns NotImplemented, the interpreter checks if the left operand's class implements the __radd__ method.\n",
    "If the __radd__ method is implemented, it is called and passed the left operand as an argument.\n",
    "The __radd__ method is responsible for performing the addition operation and returning the result.\n",
    "If both the __add__ and __radd__ methods are not implemented or supported, a TypeError is raised."
   ]
  },
  {
   "cell_type": "code",
   "execution_count": null,
   "id": "ca359289",
   "metadata": {},
   "outputs": [],
   "source": []
  },
  {
   "cell_type": "markdown",
   "id": "22481251",
   "metadata": {},
   "source": [
    "Q10. When is it necessary to use a reflection method? When do you not need it, even though you support the operation in question?"
   ]
  },
  {
   "cell_type": "markdown",
   "id": "d5200838",
   "metadata": {},
   "source": [
    "\n",
    "Reflection methods, also known as reflection hooks or magic methods, are special methods in Python that allow objects to customize their behavior in specific situations. These methods are invoked by the interpreter in response to certain operations or built-in functions.\n",
    "\n",
    "The necessity of using a reflection method depends on the specific requirements of your program and the behavior you want to achieve. Here are a couple of scenarios where reflection methods are commonly used:"
   ]
  },
  {
   "cell_type": "markdown",
   "id": "91c937f5",
   "metadata": {},
   "source": [
    "1. Customizing Operator Behavior:\n",
    "\n",
    "Reflection methods are often used to customize the behavior of operators like addition, subtraction, equality comparison, etc., when applied to instances of a class.\n",
    "By implementing specific reflection methods, such as __add__, __sub__, __eq__, etc., you can define how objects of your class should behave in those operations."
   ]
  },
  {
   "cell_type": "markdown",
   "id": "00094856",
   "metadata": {},
   "source": [
    "2. Introspection and Dynamic Behavior:\n",
    "\n",
    "Reflection methods can be used for introspection, allowing objects to provide information about themselves at runtime.\n",
    "For example, the __dir__ method can be implemented to customize the list of attributes and methods that are returned when using the dir() function on an object."
   ]
  },
  {
   "cell_type": "code",
   "execution_count": null,
   "id": "efc13f4d",
   "metadata": {},
   "outputs": [],
   "source": []
  },
  {
   "cell_type": "markdown",
   "id": "28b28491",
   "metadata": {},
   "source": [
    "Q11. What is the _ _iadd_ _ method called?"
   ]
  },
  {
   "cell_type": "markdown",
   "id": "6797f2b8",
   "metadata": {},
   "source": [
    "\n",
    "The __iadd__ method in Python is called when the in-place addition operator (+=) is used on an object. It is a reflection method that allows an object to define its behavior for the in-place addition operation.\n",
    "\n",
    "The __iadd__ method is part of the augmented assignment operators, which combine assignment (=) with another operator. When the += operator is used, the __iadd__ method is called if it is defined for the object being modified.\n",
    "\n",
    "The purpose of the __iadd__ method is to perform the addition operation in-place, modifying the object itself rather than creating a new object. By implementing __iadd__, a class can provide customized behavior for in-place addition that is specific to its objects."
   ]
  },
  {
   "cell_type": "code",
   "execution_count": 13,
   "id": "47b1171f",
   "metadata": {},
   "outputs": [
    {
     "name": "stdout",
     "output_type": "stream",
     "text": [
      "15\n"
     ]
    }
   ],
   "source": [
    "class Number:\n",
    "    def __init__(self, value):\n",
    "        self.value = value\n",
    "\n",
    "    def __iadd__(self, other):\n",
    "        if isinstance(other, Number):\n",
    "            self.value += other.value\n",
    "            return self\n",
    "        else:\n",
    "            raise TypeError(\"Unsupported operand type for +=\")\n",
    "\n",
    "num1 = Number(5)\n",
    "num2 = Number(10)\n",
    "\n",
    "num1 += num2  \n",
    "\n",
    "print(num1.value) \n"
   ]
  },
  {
   "cell_type": "code",
   "execution_count": null,
   "id": "d1526d95",
   "metadata": {},
   "outputs": [],
   "source": []
  },
  {
   "cell_type": "markdown",
   "id": "21346192",
   "metadata": {},
   "source": [
    "Q12. Is the _ _init_ _ method inherited by subclasses? What do you do if you need to customize its behavior within a subclass?"
   ]
  },
  {
   "cell_type": "markdown",
   "id": "ebaf94b2",
   "metadata": {},
   "source": [
    "Yes, the __init__ method in Python is inherited by subclasses. When a subclass is defined, it can inherit the __init__ method from its parent class. This means that if the parent class has defined an __init__ method, the subclass will have that method available to use.\n",
    "\n",
    "If you need to customize the behavior of the __init__ method within a subclass, you can override it by redefining the method in the subclass. By providing a new implementation of __init__ in the subclass, you can modify or extend the initialization process specific to the subclass."
   ]
  },
  {
   "cell_type": "code",
   "execution_count": 15,
   "id": "c81004c6",
   "metadata": {},
   "outputs": [
    {
     "name": "stdout",
     "output_type": "stream",
     "text": [
      "10\n",
      "20\n",
      "Alice\n"
     ]
    }
   ],
   "source": [
    "class Parent:\n",
    "    def __init__(self, value):\n",
    "        self.value = value\n",
    "\n",
    "class Child(Parent):\n",
    "    def __init__(self, value, name):\n",
    "        super().__init__(value)  \n",
    "        self.name = name\n",
    "\n",
    "parent_obj = Parent(10)\n",
    "child_obj = Child(20, 'Alice')\n",
    "\n",
    "print(parent_obj.value)  \n",
    "print(child_obj.value)   \n",
    "print(child_obj.name)    \n"
   ]
  },
  {
   "cell_type": "code",
   "execution_count": null,
   "id": "c1782ee2",
   "metadata": {},
   "outputs": [],
   "source": []
  },
  {
   "cell_type": "code",
   "execution_count": null,
   "id": "9a7a5b47",
   "metadata": {},
   "outputs": [],
   "source": []
  }
 ],
 "metadata": {
  "kernelspec": {
   "display_name": "Python 3 (ipykernel)",
   "language": "python",
   "name": "python3"
  },
  "language_info": {
   "codemirror_mode": {
    "name": "ipython",
    "version": 3
   },
   "file_extension": ".py",
   "mimetype": "text/x-python",
   "name": "python",
   "nbconvert_exporter": "python",
   "pygments_lexer": "ipython3",
   "version": "3.10.9"
  }
 },
 "nbformat": 4,
 "nbformat_minor": 5
}
