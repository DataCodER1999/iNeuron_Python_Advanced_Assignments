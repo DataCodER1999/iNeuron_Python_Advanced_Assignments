{
 "cells": [
  {
   "cell_type": "markdown",
   "id": "0faafb25",
   "metadata": {},
   "source": [
    "Q1. Does assigning a value to a string's indexed character violate Python's string immutability?"
   ]
  },
  {
   "cell_type": "markdown",
   "id": "dd2bbd12",
   "metadata": {},
   "source": [
    "Yes, assigning a value to a string's indexed character violates Python's string immutability. In Python, strings are immutable, which means that once a string object is created, its contents cannot be changed. You cannot modify individual characters of a string directly.\n",
    "\n",
    "When you attempt to assign a value to a specific index of a string, Python raises a TypeError with the message \" 'str' object does not support item assignment.\" This error indicates that strings do not support item assignment because they are immutable."
   ]
  },
  {
   "cell_type": "code",
   "execution_count": 2,
   "id": "b28552aa",
   "metadata": {},
   "outputs": [
    {
     "ename": "TypeError",
     "evalue": "'str' object does not support item assignment",
     "output_type": "error",
     "traceback": [
      "\u001b[1;31m---------------------------------------------------------------------------\u001b[0m",
      "\u001b[1;31mTypeError\u001b[0m                                 Traceback (most recent call last)",
      "Cell \u001b[1;32mIn[2], line 2\u001b[0m\n\u001b[0;32m      1\u001b[0m my_string \u001b[38;5;241m=\u001b[39m \u001b[38;5;124m\"\u001b[39m\u001b[38;5;124mHello\u001b[39m\u001b[38;5;124m\"\u001b[39m\n\u001b[1;32m----> 2\u001b[0m my_string[\u001b[38;5;241m0\u001b[39m] \u001b[38;5;241m=\u001b[39m \u001b[38;5;124m\"\u001b[39m\u001b[38;5;124mJ\u001b[39m\u001b[38;5;124m\"\u001b[39m\n",
      "\u001b[1;31mTypeError\u001b[0m: 'str' object does not support item assignment"
     ]
    }
   ],
   "source": [
    "my_string = \"Hello\"\n",
    "my_string[0] = \"J\"  # Raises TypeError: 'str' object does not support item assignment"
   ]
  },
  {
   "cell_type": "code",
   "execution_count": null,
   "id": "ee6f5639",
   "metadata": {},
   "outputs": [],
   "source": []
  },
  {
   "cell_type": "markdown",
   "id": "d61444e4",
   "metadata": {},
   "source": [
    "Q2. Does using the += operator to concatenate strings violate Python's string immutability? Why or why not?"
   ]
  },
  {
   "cell_type": "markdown",
   "id": "83aa5e81",
   "metadata": {},
   "source": [
    "\n",
    "No, using the += operator to concatenate strings does not violate Python's string immutability.\n",
    "\n",
    "Although strings are immutable in Python, the += operator does not modify the original string in-place. Instead, it creates a new string that is the concatenation of the original string and the assigned value. The += operator is essentially shorthand for concatenation followed by reassignment."
   ]
  },
  {
   "cell_type": "code",
   "execution_count": 4,
   "id": "5c83d66c",
   "metadata": {},
   "outputs": [
    {
     "name": "stdout",
     "output_type": "stream",
     "text": [
      "Hello World\n"
     ]
    }
   ],
   "source": [
    "my_string = \"Hello\"\n",
    "my_string += \" World\"\n",
    "print(my_string)  # Output: \"Hello World\""
   ]
  },
  {
   "cell_type": "code",
   "execution_count": null,
   "id": "d7345fb9",
   "metadata": {},
   "outputs": [],
   "source": []
  },
  {
   "cell_type": "markdown",
   "id": "b7e8818c",
   "metadata": {},
   "source": [
    "Q3. In Python, how many different ways are there to index a character?\n"
   ]
  },
  {
   "cell_type": "markdown",
   "id": "5f59ad52",
   "metadata": {},
   "source": [
    "\n",
    "In Python, there are two different ways to index a character within a string: positive indexing and negative indexing.\n",
    "\n",
    "Positive indexing:\n",
    "Positive indexing starts from 0 for the first character of the string and continues sequentially to access subsequent characters."
   ]
  },
  {
   "cell_type": "code",
   "execution_count": 6,
   "id": "09ce05e0",
   "metadata": {},
   "outputs": [],
   "source": [
    "my_string = \"Hello\"\n",
    "first_char = my_string[0]  # Accessing the first character, 'H'\n",
    "second_char = my_string[1]  # Accessing the second character, 'e'"
   ]
  },
  {
   "cell_type": "markdown",
   "id": "14aa09e7",
   "metadata": {},
   "source": [
    "Negative indexing:\n",
    "Negative indexing allows you to access characters from the end of the string. It starts from -1 for the last character and continues in reverse order."
   ]
  },
  {
   "cell_type": "code",
   "execution_count": 8,
   "id": "1bf12284",
   "metadata": {},
   "outputs": [],
   "source": [
    "my_string = \"Hello\"\n",
    "last_char = my_string[-1]  # Accessing the last character, 'o'\n",
    "second_last_char = my_string[-2]  # Accessing the second last character, 'l'"
   ]
  },
  {
   "cell_type": "code",
   "execution_count": null,
   "id": "b857e1f5",
   "metadata": {},
   "outputs": [],
   "source": []
  },
  {
   "cell_type": "markdown",
   "id": "e0253a19",
   "metadata": {},
   "source": [
    "Q4. What is the relationship between indexing and slicing?"
   ]
  },
  {
   "cell_type": "markdown",
   "id": "d0b883f0",
   "metadata": {},
   "source": [
    "\n",
    "Indexing and slicing are related concepts in Python that both involve accessing specific elements of a sequence, such as a string, list, or tuple. While indexing allows you to access individual elements, slicing enables you to extract a portion of the sequence by specifying a range of indices.\n",
    "\n",
    "The relationship between indexing and slicing can be understood as follows:"
   ]
  },
  {
   "cell_type": "markdown",
   "id": "a6cc7bc6",
   "metadata": {},
   "source": [
    "Indexing:\n",
    "Indexing refers to accessing a specific element at a particular position within a sequence using its index. It allows you to retrieve individual elements. In Python, indexing is denoted by square brackets [], and the index starts from 0 for the first element."
   ]
  },
  {
   "cell_type": "code",
   "execution_count": 10,
   "id": "cb810e63",
   "metadata": {},
   "outputs": [],
   "source": [
    "my_string = \"Hello\"\n",
    "first_char = my_string[0]  # Accessing the first character, 'H'"
   ]
  },
  {
   "cell_type": "markdown",
   "id": "4e0ab601",
   "metadata": {},
   "source": [
    "first_char = my_string[0]  # Accessing the first character, 'H'\n",
    "Slicing:\n",
    "Slicing is a way to extract a contiguous subsequence (a portion) from a sequence by specifying a range of indices. It allows you to retrieve multiple elements as a new sequence. In Python, slicing is denoted by using the colon : inside square brackets []."
   ]
  },
  {
   "cell_type": "code",
   "execution_count": 12,
   "id": "ddf3753d",
   "metadata": {},
   "outputs": [],
   "source": [
    "my_string = \"Hello\"\n",
    "sub_string = my_string[1:4]  # Slicing from index 1 to 4 (exclusive), retrieves \"ell\""
   ]
  },
  {
   "cell_type": "code",
   "execution_count": null,
   "id": "dd6147db",
   "metadata": {},
   "outputs": [],
   "source": []
  },
  {
   "cell_type": "markdown",
   "id": "a697f96a",
   "metadata": {},
   "source": [
    "Q5. What is an indexed character's exact data type? What is the data form of a slicing-generated substring?"
   ]
  },
  {
   "cell_type": "markdown",
   "id": "de49e37d",
   "metadata": {},
   "source": [
    "In Python, the data type of an indexed character within a string is a single-character string, represented by the str type. When you index a string, you retrieve a single character as a string object."
   ]
  },
  {
   "cell_type": "code",
   "execution_count": 14,
   "id": "e0de2c56",
   "metadata": {},
   "outputs": [
    {
     "name": "stdout",
     "output_type": "stream",
     "text": [
      "<class 'str'>\n"
     ]
    }
   ],
   "source": [
    "my_string = \"Hello\"\n",
    "first_char = my_string[0]  # 'H'\n",
    "print(type(first_char))  # <class 'str'>"
   ]
  },
  {
   "cell_type": "code",
   "execution_count": 17,
   "id": "90a243b0",
   "metadata": {},
   "outputs": [
    {
     "name": "stdout",
     "output_type": "stream",
     "text": [
      "<class 'str'>\n"
     ]
    }
   ],
   "source": [
    "my_string = \"Hello\"\n",
    "sub_string = my_string[1:4]  # 'ell'\n",
    "print(type(sub_string))  # <class 'str'>"
   ]
  },
  {
   "cell_type": "code",
   "execution_count": null,
   "id": "279eaae6",
   "metadata": {},
   "outputs": [],
   "source": []
  },
  {
   "cell_type": "markdown",
   "id": "5c81e3d5",
   "metadata": {},
   "source": [
    "Q6. What is the relationship between string and character \"types\" in Python?"
   ]
  },
  {
   "cell_type": "markdown",
   "id": "e9356c38",
   "metadata": {},
   "source": [
    "In Python, there is no specific data type called \"character.\" Instead, individual characters in Python are represented as strings. So, the relationship between string and \"character types\" in Python is that characters are represented as strings.\n",
    "\n",
    "In Python, a string is a sequence of characters enclosed in quotes (either single quotes or double quotes). Each character within a string is itself a string of length 1. This means that every character in Python is essentially a string."
   ]
  },
  {
   "cell_type": "code",
   "execution_count": 19,
   "id": "a060e4d6",
   "metadata": {},
   "outputs": [
    {
     "name": "stdout",
     "output_type": "stream",
     "text": [
      "<class 'str'>\n"
     ]
    }
   ],
   "source": [
    "my_string = \"Hello\"\n",
    "first_char = my_string[0]  # 'H'\n",
    "print(type(first_char))  # <class 'str'>"
   ]
  },
  {
   "cell_type": "code",
   "execution_count": null,
   "id": "e49fcc55",
   "metadata": {},
   "outputs": [],
   "source": []
  },
  {
   "cell_type": "markdown",
   "id": "01980a69",
   "metadata": {},
   "source": [
    "Q7. Identify at least two operators and one method that allow you to combine one or more smaller strings to create a larger string."
   ]
  },
  {
   "cell_type": "markdown",
   "id": "504a6ec5",
   "metadata": {},
   "source": [
    "There are multiple operators and methods in Python that allow you to combine smaller strings to create a larger string. Here are two operators and one method commonly used for string concatenation:\n",
    "\n",
    "+ operator:\n",
    "The + operator is used for string concatenation. It allows you to combine two or more strings into a larger string by simply using the + operator between them."
   ]
  },
  {
   "cell_type": "code",
   "execution_count": 21,
   "id": "2c72f2cb",
   "metadata": {},
   "outputs": [
    {
     "name": "stdout",
     "output_type": "stream",
     "text": [
      "John Doe\n"
     ]
    }
   ],
   "source": [
    "first_name = \"John\"\n",
    "last_name = \"Doe\"\n",
    "full_name = first_name + \" \" + last_name\n",
    "print(full_name)  # Output: \"John Doe\""
   ]
  },
  {
   "cell_type": "markdown",
   "id": "e74d01be",
   "metadata": {},
   "source": [
    "+= operator:\n",
    "The += operator is a shorthand for concatenation followed by reassignment. It allows you to append a smaller string to an existing string variable."
   ]
  },
  {
   "cell_type": "code",
   "execution_count": 23,
   "id": "2f5356bf",
   "metadata": {},
   "outputs": [
    {
     "name": "stdout",
     "output_type": "stream",
     "text": [
      "Hello, John\n"
     ]
    }
   ],
   "source": [
    "greeting = \"Hello\"\n",
    "name = \"John\"\n",
    "greeting += \", \" + name\n",
    "print(greeting)  # Output: \"Hello, John\""
   ]
  },
  {
   "cell_type": "markdown",
   "id": "f59f012f",
   "metadata": {},
   "source": [
    "join() method:\n",
    "The join() method is used to concatenate multiple strings from an iterable into a larger string. It takes an iterable (such as a list or tuple) as an argument and concatenates its elements using the specified string as a separator."
   ]
  },
  {
   "cell_type": "code",
   "execution_count": 25,
   "id": "536462f2",
   "metadata": {},
   "outputs": [
    {
     "name": "stdout",
     "output_type": "stream",
     "text": [
      "Hello world !\n"
     ]
    }
   ],
   "source": [
    "words = [\"Hello\", \"world\", \"!\"]\n",
    "sentence = \" \".join(words)\n",
    "print(sentence)  # Output: \"Hello world !\""
   ]
  },
  {
   "cell_type": "code",
   "execution_count": null,
   "id": "e46175f3",
   "metadata": {},
   "outputs": [],
   "source": []
  },
  {
   "cell_type": "markdown",
   "id": "36dd6aff",
   "metadata": {},
   "source": [
    "\n",
    "Q8. What is the benefit of first checking the target string with in or not in before using the index method to find a substring?\n"
   ]
  },
  {
   "cell_type": "markdown",
   "id": "95ac3dda",
   "metadata": {},
   "source": [
    "The benefit of first checking the target string with the in or not in operators before using the index() method to find a substring lies in avoiding potential errors or exceptions when the substring is not found.\n",
    "\n",
    "The in and not in operators allow you to check if a substring exists within a target string. By performing this check before using the index() method, you can ensure that the substring is present in the target string, preventing potential errors or exceptions that could occur if the substring is not found."
   ]
  },
  {
   "cell_type": "code",
   "execution_count": 27,
   "id": "45652051",
   "metadata": {},
   "outputs": [
    {
     "name": "stdout",
     "output_type": "stream",
     "text": [
      "Substring found at index: 7\n"
     ]
    }
   ],
   "source": [
    "target_string = \"Hello, world!\"\n",
    "\n",
    "# Before using index(), check if substring exists\n",
    "if \"world\" in target_string:\n",
    "    index = target_string.index(\"world\")\n",
    "    print(\"Substring found at index:\", index)\n",
    "else:\n",
    "    print(\"Substring not found\")"
   ]
  },
  {
   "cell_type": "code",
   "execution_count": null,
   "id": "cc80e8b0",
   "metadata": {},
   "outputs": [],
   "source": []
  },
  {
   "cell_type": "markdown",
   "id": "133e0a8b",
   "metadata": {},
   "source": [
    "Q9. Which operators and built-in string methods produce simple Boolean (true/false) results?"
   ]
  },
  {
   "cell_type": "markdown",
   "id": "45e3fc21",
   "metadata": {},
   "source": [
    "Comparison operators:\n",
    "Comparison operators compare two values and return a Boolean result based on the comparison. Some commonly used comparison operators for strings include:\n",
    "\n",
    "==: Checks if two strings are equal.\n",
    "!=: Checks if two strings are not equal.\n",
    "<, >, <=, >=: Compare strings lexicographically (based on ASCII values)."
   ]
  },
  {
   "cell_type": "code",
   "execution_count": 29,
   "id": "7015ce91",
   "metadata": {},
   "outputs": [],
   "source": [
    "str1 = \"Hello\"\n",
    "str2 = \"World\"\n",
    "result = str1 == str2  # False"
   ]
  },
  {
   "cell_type": "markdown",
   "id": "27fd6c5a",
   "metadata": {},
   "source": [
    "Membership operators:\n",
    "Membership operators check if a string is a member of another string, list, or other iterable, and return a Boolean result. The membership operators are:\n",
    "\n",
    "in: Returns True if the string is found in the other string or iterable.\n",
    "not in: Returns True if the string is not found in the other string or iterable."
   ]
  },
  {
   "cell_type": "code",
   "execution_count": 31,
   "id": "25f4de88",
   "metadata": {},
   "outputs": [],
   "source": [
    "my_string = \"Hello\"\n",
    "result = \"l\" in my_string  # True"
   ]
  },
  {
   "cell_type": "markdown",
   "id": "9df55b78",
   "metadata": {},
   "source": [
    "String methods:\n",
    "Several built-in string methods return Boolean results based on specific conditions or checks. Some commonly used ones include:\n",
    "\n",
    "startswith(prefix): Returns True if the string starts with the specified prefix.\n",
    "endswith(suffix): Returns True if the string ends with the specified suffix.\n",
    "isalpha(): Returns True if all characters in the string are alphabetic.\n",
    "isdigit(): Returns True if all characters in the string are digits.\n",
    "islower(): Returns True if all alphabetic characters in the string are lowercase.\n",
    "isupper(): Returns True if all alphabetic characters in the string are uppercase."
   ]
  },
  {
   "cell_type": "code",
   "execution_count": 32,
   "id": "be914386",
   "metadata": {},
   "outputs": [],
   "source": [
    "my_string = \"Hello, World!\"\n",
    "result = my_string.startswith(\"Hello\")  # True"
   ]
  },
  {
   "cell_type": "code",
   "execution_count": null,
   "id": "6f1fdd5e",
   "metadata": {},
   "outputs": [],
   "source": []
  }
 ],
 "metadata": {
  "kernelspec": {
   "display_name": "Python 3 (ipykernel)",
   "language": "python",
   "name": "python3"
  },
  "language_info": {
   "codemirror_mode": {
    "name": "ipython",
    "version": 3
   },
   "file_extension": ".py",
   "mimetype": "text/x-python",
   "name": "python",
   "nbconvert_exporter": "python",
   "pygments_lexer": "ipython3",
   "version": "3.10.9"
  }
 },
 "nbformat": 4,
 "nbformat_minor": 5
}
